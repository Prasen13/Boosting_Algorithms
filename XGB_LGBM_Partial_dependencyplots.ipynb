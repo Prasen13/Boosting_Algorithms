{
 "cells": [
  {
   "cell_type": "markdown",
   "source": [
    "---\n",
    "***\n",
    "---"
   ],
   "metadata": {}
  },
  {
   "cell_type": "markdown",
   "source": [
    "# Ensembles: XGBoost and Gradient Boosting\n",
    "\n",
    "**`XGBoost`**:\n",
    "\n",
    "`XGBoost` stands for `eXtreme Gradient Boosting`.\n",
    "\n",
    "*The name xgboost, though, actually refers to the engineering goal to push the limit of computations resources for boosted tree algorithms. Which is the reason why many people use xgboost.*\n",
    "\n",
    "It is an implementation of gradient boosting machines created by Tianqi Chen, now with contributions from many developers. It belongs to a broader collection of tools under the umbrella of the Distributed Machine Learning Community or `DMLC` who are also the creators of the popular `mxnet deep learning library`.\n",
    "\n",
    "`Tianqi Chen` provides a brief and interesting back story on the creation of XGBoost in the post. [Story and Lessons Behind the Evolution of XGBoost](https://homes.cs.washington.edu/~tqchen/2016/03/10/story-and-lessons-behind-the-evolution-of-xgboost.html)\n",
    "\n",
    "**XGBoost Features**\n",
    "\n",
    "The library is laser focused on computational speed and model performance, as such there are few frills. Nevertheless, it does offer a number of advanced features.\n",
    "\n",
    "**Model Features**\n",
    "\n",
    "The implementation of the model supports the features of the scikit-learn and R implementations, with new additions like regularization. Three main forms of gradient boosting are supported:\n",
    "\n",
    "- **Gradient Boosting algorithm** also called gradient boosting machine including the learning rate.\n",
    "- **Stochastic Gradient Boosting** with sub-sampling at the row, column and column per split levels.\n",
    "- **Regularized Gradient Boosting** with both L1 and L2 regularization.\n",
    "\n",
    "**System Features**\n",
    "\n",
    "The library provides a system for use in a range of computing environments, not least:\n",
    "\n",
    "- **Parallelization** of tree construction using all of your CPU cores during training.\n",
    "- **Distributed Computing** for training very large models using a cluster of machines.\n",
    "- **Out-of-Core Computing** for very large datasets that don’t fit into memory.\n",
    "- **Cache Optimization** of data structures and algorithm to make best use of hardware.\n",
    "\n",
    "**Algorithm Features**\n",
    "\n",
    "The implementation of the algorithm was engineered for efficiency of compute time and memory resources. A design goal was to make the best use of available resources to train the model. Some key algorithm implementation features include:\n",
    "\n",
    "- **Sparse Aware** implementation with automatic handling of missing data values.\n",
    "- **Block Structure** to support the parallelization of tree construction.\n",
    "- **Continued Training** so that you can further boost an already fitted model on new data.\n"
   ],
   "metadata": {
    "deletable": false,
    "editable": false,
    "nbgrader": {
     "cell_type": "markdown",
     "checksum": "3bab4088e0274abc3feba817becc8ca9",
     "grade": false,
     "grade_id": "Header",
     "locked": true,
     "schema_version": 3,
     "solution": false,
     "task": false
    }
   }
  },
  {
   "cell_type": "markdown",
   "source": [
    "## Problem statement\n",
    "\n",
    "**`tennis_datasets.zip`**: Archive file consists of two files. \n",
    "1. **`tennis_data.csv`**: This dataset includes point outcomes of rallies only (where the number of shots hits exceeds two, which represents the serve and return). This data consists of both men's and women's data about 8000 data points from the past Australian Open Tournament.\n",
    "\n",
    "2. **`test.csv`**: A Test set.  "
   ],
   "metadata": {
    "deletable": false,
    "editable": false,
    "nbgrader": {
     "cell_type": "markdown",
     "checksum": "13f715c11d596afac56e44677c0c9989",
     "grade": false,
     "grade_id": "PS",
     "locked": true,
     "schema_version": 3,
     "solution": false,
     "task": false
    }
   }
  },
  {
   "cell_type": "markdown",
   "source": [
    "### Importing the necessary packages."
   ],
   "metadata": {
    "deletable": false,
    "editable": false,
    "nbgrader": {
     "cell_type": "markdown",
     "checksum": "0daac2fbd83c330e940ee0faa31efa18",
     "grade": false,
     "grade_id": "Imports1",
     "locked": true,
     "schema_version": 3,
     "solution": false,
     "task": false
    }
   }
  },
  {
   "cell_type": "code",
   "execution_count": 35,
   "source": [
    "import os                       # For operating system related tasks.\n",
    "import numpy as np              # Numpy for computations.\n",
    "import pandas as pd             # For data manipulations.\n",
    "from zipfile import ZipFile     # To uncompress zipfile.\n",
    "\n",
    "import matplotlib.pyplot as plt # For visualizations.\n",
    "import seaborn as sns           # For visualizations.\n",
    "\n",
    "import warnings                   # For warnings.\n",
    "warnings.filterwarnings('ignore') # Supress/Ignore warnings."
   ],
   "outputs": [],
   "metadata": {
    "deletable": false,
    "editable": false,
    "nbgrader": {
     "cell_type": "code",
     "checksum": "93cf25a00ec50fc446be56c24dcbff0a",
     "grade": false,
     "grade_id": "Imports2",
     "locked": true,
     "schema_version": 3,
     "solution": false,
     "task": false
    }
   }
  },
  {
   "cell_type": "markdown",
   "source": [
    "###  Load data.\n",
    "\n",
    "Loading data and creating dataframe.\n",
    "\n",
    "Initial data analysis."
   ],
   "metadata": {
    "deletable": false,
    "editable": false,
    "nbgrader": {
     "cell_type": "markdown",
     "checksum": "ae612af8a376a165df1ed9c8531028bf",
     "grade": false,
     "grade_id": "Task2_Desc",
     "locked": true,
     "schema_version": 3,
     "solution": false,
     "task": false
    }
   }
  },
  {
   "cell_type": "code",
   "execution_count": 44,
   "source": [
    "tennis_data = pd.read_csv(\"./tennis_data.csv\", \n",
    "                          na_values=[-99, '?'],\n",
    "                          skipfooter=2)"
   ],
   "outputs": [],
   "metadata": {
    "deletable": false,
    "editable": false,
    "nbgrader": {
     "cell_type": "code",
     "checksum": "d5b3e14baec03e0b8e33e1f50c9a70e1",
     "grade": false,
     "grade_id": "Task2_Ans",
     "locked": true,
     "schema_version": 3,
     "solution": false,
     "task": false
    }
   }
  },
  {
   "cell_type": "code",
   "execution_count": 45,
   "source": [
    "# First five records.\n",
    "tennis_data.head()"
   ],
   "outputs": [
    {
     "output_type": "execute_result",
     "data": {
      "text/html": [
       "<div>\n",
       "<style scoped>\n",
       "    .dataframe tbody tr th:only-of-type {\n",
       "        vertical-align: middle;\n",
       "    }\n",
       "\n",
       "    .dataframe tbody tr th {\n",
       "        vertical-align: top;\n",
       "    }\n",
       "\n",
       "    .dataframe thead th {\n",
       "        text-align: right;\n",
       "    }\n",
       "</style>\n",
       "<table border=\"1\" class=\"dataframe\">\n",
       "  <thead>\n",
       "    <tr style=\"text-align: right;\">\n",
       "      <th></th>\n",
       "      <th>rally</th>\n",
       "      <th>serve</th>\n",
       "      <th>hitpoint</th>\n",
       "      <th>speed</th>\n",
       "      <th>net.clearance</th>\n",
       "      <th>distance.from.sideline</th>\n",
       "      <th>depth</th>\n",
       "      <th>outside.sideline</th>\n",
       "      <th>outside.baseline</th>\n",
       "      <th>player.distance.travelled</th>\n",
       "      <th>...</th>\n",
       "      <th>previous.depth</th>\n",
       "      <th>opponent.depth</th>\n",
       "      <th>opponent.distance.from.center</th>\n",
       "      <th>same.side</th>\n",
       "      <th>previous.hitpoint</th>\n",
       "      <th>previous.time.to.net</th>\n",
       "      <th>server.is.impact.player</th>\n",
       "      <th>outcome</th>\n",
       "      <th>gender</th>\n",
       "      <th>ID</th>\n",
       "    </tr>\n",
       "  </thead>\n",
       "  <tbody>\n",
       "    <tr>\n",
       "      <th>0</th>\n",
       "      <td>18</td>\n",
       "      <td>2</td>\n",
       "      <td>F</td>\n",
       "      <td>37.273138</td>\n",
       "      <td>0.574520</td>\n",
       "      <td>0.714819</td>\n",
       "      <td>0.003135</td>\n",
       "      <td>False</td>\n",
       "      <td>False</td>\n",
       "      <td>3.866411</td>\n",
       "      <td>...</td>\n",
       "      <td>3.497863</td>\n",
       "      <td>12.8246</td>\n",
       "      <td>1.6848</td>\n",
       "      <td>True</td>\n",
       "      <td>F</td>\n",
       "      <td>0.575244</td>\n",
       "      <td>False</td>\n",
       "      <td>W</td>\n",
       "      <td>womens</td>\n",
       "      <td>8858</td>\n",
       "    </tr>\n",
       "    <tr>\n",
       "      <th>1</th>\n",
       "      <td>3</td>\n",
       "      <td>1</td>\n",
       "      <td>F</td>\n",
       "      <td>31.065932</td>\n",
       "      <td>0.965257</td>\n",
       "      <td>1.272855</td>\n",
       "      <td>0.003296</td>\n",
       "      <td>False</td>\n",
       "      <td>False</td>\n",
       "      <td>4.169818</td>\n",
       "      <td>...</td>\n",
       "      <td>7.524484</td>\n",
       "      <td>12.7580</td>\n",
       "      <td>4.9838</td>\n",
       "      <td>False</td>\n",
       "      <td>U</td>\n",
       "      <td>0.759421</td>\n",
       "      <td>True</td>\n",
       "      <td>W</td>\n",
       "      <td>mens</td>\n",
       "      <td>2538</td>\n",
       "    </tr>\n",
       "    <tr>\n",
       "      <th>2</th>\n",
       "      <td>7</td>\n",
       "      <td>1</td>\n",
       "      <td>U</td>\n",
       "      <td>29.987923</td>\n",
       "      <td>1.476366</td>\n",
       "      <td>0.720838</td>\n",
       "      <td>0.003462</td>\n",
       "      <td>True</td>\n",
       "      <td>False</td>\n",
       "      <td>2.553843</td>\n",
       "      <td>...</td>\n",
       "      <td>3.790464</td>\n",
       "      <td>12.4226</td>\n",
       "      <td>1.8314</td>\n",
       "      <td>False</td>\n",
       "      <td>F</td>\n",
       "      <td>0.360206</td>\n",
       "      <td>True</td>\n",
       "      <td>FE</td>\n",
       "      <td>mens</td>\n",
       "      <td>7538</td>\n",
       "    </tr>\n",
       "    <tr>\n",
       "      <th>3</th>\n",
       "      <td>6</td>\n",
       "      <td>1</td>\n",
       "      <td>F</td>\n",
       "      <td>34.161657</td>\n",
       "      <td>0.856477</td>\n",
       "      <td>0.047206</td>\n",
       "      <td>0.004221</td>\n",
       "      <td>False</td>\n",
       "      <td>False</td>\n",
       "      <td>2.453661</td>\n",
       "      <td>...</td>\n",
       "      <td>3.513986</td>\n",
       "      <td>12.7934</td>\n",
       "      <td>1.0194</td>\n",
       "      <td>False</td>\n",
       "      <td>B</td>\n",
       "      <td>0.475965</td>\n",
       "      <td>False</td>\n",
       "      <td>W</td>\n",
       "      <td>womens</td>\n",
       "      <td>751</td>\n",
       "    </tr>\n",
       "    <tr>\n",
       "      <th>4</th>\n",
       "      <td>7</td>\n",
       "      <td>1</td>\n",
       "      <td>B</td>\n",
       "      <td>32.064804</td>\n",
       "      <td>1.510678</td>\n",
       "      <td>1.173950</td>\n",
       "      <td>0.004764</td>\n",
       "      <td>True</td>\n",
       "      <td>False</td>\n",
       "      <td>1.204516</td>\n",
       "      <td>...</td>\n",
       "      <td>3.158103</td>\n",
       "      <td>12.9232</td>\n",
       "      <td>3.3398</td>\n",
       "      <td>False</td>\n",
       "      <td>F</td>\n",
       "      <td>0.523579</td>\n",
       "      <td>True</td>\n",
       "      <td>UE</td>\n",
       "      <td>mens</td>\n",
       "      <td>7114</td>\n",
       "    </tr>\n",
       "  </tbody>\n",
       "</table>\n",
       "<p>5 rows × 27 columns</p>\n",
       "</div>"
      ],
      "text/plain": [
       "   rally  serve hitpoint      speed  net.clearance  distance.from.sideline  \\\n",
       "0     18      2        F  37.273138       0.574520                0.714819   \n",
       "1      3      1        F  31.065932       0.965257                1.272855   \n",
       "2      7      1        U  29.987923       1.476366                0.720838   \n",
       "3      6      1        F  34.161657       0.856477                0.047206   \n",
       "4      7      1        B  32.064804       1.510678                1.173950   \n",
       "\n",
       "      depth  outside.sideline  outside.baseline  player.distance.travelled  \\\n",
       "0  0.003135             False             False                   3.866411   \n",
       "1  0.003296             False             False                   4.169818   \n",
       "2  0.003462              True             False                   2.553843   \n",
       "3  0.004221             False             False                   2.453661   \n",
       "4  0.004764              True             False                   1.204516   \n",
       "\n",
       "   ...  previous.depth  opponent.depth  opponent.distance.from.center  \\\n",
       "0  ...        3.497863         12.8246                         1.6848   \n",
       "1  ...        7.524484         12.7580                         4.9838   \n",
       "2  ...        3.790464         12.4226                         1.8314   \n",
       "3  ...        3.513986         12.7934                         1.0194   \n",
       "4  ...        3.158103         12.9232                         3.3398   \n",
       "\n",
       "   same.side  previous.hitpoint  previous.time.to.net  \\\n",
       "0       True                  F              0.575244   \n",
       "1      False                  U              0.759421   \n",
       "2      False                  F              0.360206   \n",
       "3      False                  B              0.475965   \n",
       "4      False                  F              0.523579   \n",
       "\n",
       "   server.is.impact.player  outcome  gender    ID  \n",
       "0                    False        W  womens  8858  \n",
       "1                     True        W    mens  2538  \n",
       "2                     True       FE    mens  7538  \n",
       "3                    False        W  womens   751  \n",
       "4                     True       UE    mens  7114  \n",
       "\n",
       "[5 rows x 27 columns]"
      ]
     },
     "metadata": {},
     "execution_count": 45
    }
   ],
   "metadata": {
    "deletable": false,
    "editable": false,
    "nbgrader": {
     "cell_type": "code",
     "checksum": "d9b7211ecbd54ecbbd22f7064caad8db",
     "grade": false,
     "grade_id": "Task2_Check1",
     "locked": true,
     "schema_version": 3,
     "solution": false,
     "task": false
    }
   }
  },
  {
   "cell_type": "code",
   "execution_count": 46,
   "source": [
    "# Last five records.\n",
    "tennis_data.tail()"
   ],
   "outputs": [
    {
     "output_type": "execute_result",
     "data": {
      "text/html": [
       "<div>\n",
       "<style scoped>\n",
       "    .dataframe tbody tr th:only-of-type {\n",
       "        vertical-align: middle;\n",
       "    }\n",
       "\n",
       "    .dataframe tbody tr th {\n",
       "        vertical-align: top;\n",
       "    }\n",
       "\n",
       "    .dataframe thead th {\n",
       "        text-align: right;\n",
       "    }\n",
       "</style>\n",
       "<table border=\"1\" class=\"dataframe\">\n",
       "  <thead>\n",
       "    <tr style=\"text-align: right;\">\n",
       "      <th></th>\n",
       "      <th>rally</th>\n",
       "      <th>serve</th>\n",
       "      <th>hitpoint</th>\n",
       "      <th>speed</th>\n",
       "      <th>net.clearance</th>\n",
       "      <th>distance.from.sideline</th>\n",
       "      <th>depth</th>\n",
       "      <th>outside.sideline</th>\n",
       "      <th>outside.baseline</th>\n",
       "      <th>player.distance.travelled</th>\n",
       "      <th>...</th>\n",
       "      <th>previous.depth</th>\n",
       "      <th>opponent.depth</th>\n",
       "      <th>opponent.distance.from.center</th>\n",
       "      <th>same.side</th>\n",
       "      <th>previous.hitpoint</th>\n",
       "      <th>previous.time.to.net</th>\n",
       "      <th>server.is.impact.player</th>\n",
       "      <th>outcome</th>\n",
       "      <th>gender</th>\n",
       "      <th>ID</th>\n",
       "    </tr>\n",
       "  </thead>\n",
       "  <tbody>\n",
       "    <tr>\n",
       "      <th>7996</th>\n",
       "      <td>8</td>\n",
       "      <td>1</td>\n",
       "      <td>V</td>\n",
       "      <td>23.940228</td>\n",
       "      <td>-0.006189</td>\n",
       "      <td>1.598932</td>\n",
       "      <td>11.883602</td>\n",
       "      <td>False</td>\n",
       "      <td>False</td>\n",
       "      <td>1.972929</td>\n",
       "      <td>...</td>\n",
       "      <td>8.026300</td>\n",
       "      <td>14.9354</td>\n",
       "      <td>2.6766</td>\n",
       "      <td>True</td>\n",
       "      <td>V</td>\n",
       "      <td>0.581914</td>\n",
       "      <td>False</td>\n",
       "      <td>UE</td>\n",
       "      <td>womens</td>\n",
       "      <td>1691</td>\n",
       "    </tr>\n",
       "    <tr>\n",
       "      <th>7997</th>\n",
       "      <td>3</td>\n",
       "      <td>1</td>\n",
       "      <td>V</td>\n",
       "      <td>32.392079</td>\n",
       "      <td>-0.011804</td>\n",
       "      <td>3.400310</td>\n",
       "      <td>11.884685</td>\n",
       "      <td>False</td>\n",
       "      <td>False</td>\n",
       "      <td>2.511979</td>\n",
       "      <td>...</td>\n",
       "      <td>6.075379</td>\n",
       "      <td>12.7640</td>\n",
       "      <td>4.2394</td>\n",
       "      <td>False</td>\n",
       "      <td>B</td>\n",
       "      <td>0.596717</td>\n",
       "      <td>True</td>\n",
       "      <td>W</td>\n",
       "      <td>womens</td>\n",
       "      <td>1793</td>\n",
       "    </tr>\n",
       "    <tr>\n",
       "      <th>7998</th>\n",
       "      <td>6</td>\n",
       "      <td>1</td>\n",
       "      <td>V</td>\n",
       "      <td>24.721740</td>\n",
       "      <td>0.007159</td>\n",
       "      <td>1.968302</td>\n",
       "      <td>11.885770</td>\n",
       "      <td>False</td>\n",
       "      <td>False</td>\n",
       "      <td>1.397502</td>\n",
       "      <td>...</td>\n",
       "      <td>6.408686</td>\n",
       "      <td>13.0200</td>\n",
       "      <td>3.3784</td>\n",
       "      <td>False</td>\n",
       "      <td>F</td>\n",
       "      <td>0.475700</td>\n",
       "      <td>False</td>\n",
       "      <td>W</td>\n",
       "      <td>mens</td>\n",
       "      <td>1923</td>\n",
       "    </tr>\n",
       "    <tr>\n",
       "      <th>7999</th>\n",
       "      <td>4</td>\n",
       "      <td>2</td>\n",
       "      <td>V</td>\n",
       "      <td>31.923515</td>\n",
       "      <td>-0.017215</td>\n",
       "      <td>1.273235</td>\n",
       "      <td>11.885827</td>\n",
       "      <td>False</td>\n",
       "      <td>False</td>\n",
       "      <td>2.983686</td>\n",
       "      <td>...</td>\n",
       "      <td>2.939852</td>\n",
       "      <td>8.9728</td>\n",
       "      <td>4.4620</td>\n",
       "      <td>False</td>\n",
       "      <td>NaN</td>\n",
       "      <td>0.513629</td>\n",
       "      <td>False</td>\n",
       "      <td>W</td>\n",
       "      <td>womens</td>\n",
       "      <td>8503</td>\n",
       "    </tr>\n",
       "    <tr>\n",
       "      <th>8000</th>\n",
       "      <td>7</td>\n",
       "      <td>1</td>\n",
       "      <td>V</td>\n",
       "      <td>17.972395</td>\n",
       "      <td>0.001057</td>\n",
       "      <td>2.736833</td>\n",
       "      <td>11.886069</td>\n",
       "      <td>False</td>\n",
       "      <td>False</td>\n",
       "      <td>3.813834</td>\n",
       "      <td>...</td>\n",
       "      <td>6.692719</td>\n",
       "      <td>16.1486</td>\n",
       "      <td>2.6242</td>\n",
       "      <td>True</td>\n",
       "      <td>V</td>\n",
       "      <td>0.799310</td>\n",
       "      <td>True</td>\n",
       "      <td>W</td>\n",
       "      <td>womens</td>\n",
       "      <td>9888</td>\n",
       "    </tr>\n",
       "  </tbody>\n",
       "</table>\n",
       "<p>5 rows × 27 columns</p>\n",
       "</div>"
      ],
      "text/plain": [
       "      rally  serve hitpoint      speed  net.clearance  distance.from.sideline  \\\n",
       "7996      8      1        V  23.940228      -0.006189                1.598932   \n",
       "7997      3      1        V  32.392079      -0.011804                3.400310   \n",
       "7998      6      1        V  24.721740       0.007159                1.968302   \n",
       "7999      4      2        V  31.923515      -0.017215                1.273235   \n",
       "8000      7      1        V  17.972395       0.001057                2.736833   \n",
       "\n",
       "          depth  outside.sideline  outside.baseline  \\\n",
       "7996  11.883602             False             False   \n",
       "7997  11.884685             False             False   \n",
       "7998  11.885770             False             False   \n",
       "7999  11.885827             False             False   \n",
       "8000  11.886069             False             False   \n",
       "\n",
       "      player.distance.travelled  ...  previous.depth  opponent.depth  \\\n",
       "7996                   1.972929  ...        8.026300         14.9354   \n",
       "7997                   2.511979  ...        6.075379         12.7640   \n",
       "7998                   1.397502  ...        6.408686         13.0200   \n",
       "7999                   2.983686  ...        2.939852          8.9728   \n",
       "8000                   3.813834  ...        6.692719         16.1486   \n",
       "\n",
       "      opponent.distance.from.center  same.side  previous.hitpoint  \\\n",
       "7996                         2.6766       True                  V   \n",
       "7997                         4.2394      False                  B   \n",
       "7998                         3.3784      False                  F   \n",
       "7999                         4.4620      False                NaN   \n",
       "8000                         2.6242       True                  V   \n",
       "\n",
       "      previous.time.to.net  server.is.impact.player  outcome  gender    ID  \n",
       "7996              0.581914                    False       UE  womens  1691  \n",
       "7997              0.596717                     True        W  womens  1793  \n",
       "7998              0.475700                    False        W    mens  1923  \n",
       "7999              0.513629                    False        W  womens  8503  \n",
       "8000              0.799310                     True        W  womens  9888  \n",
       "\n",
       "[5 rows x 27 columns]"
      ]
     },
     "metadata": {},
     "execution_count": 46
    }
   ],
   "metadata": {
    "deletable": false,
    "editable": false,
    "nbgrader": {
     "cell_type": "code",
     "checksum": "8e78bf8a0946014433d1f834cb819d77",
     "grade": false,
     "grade_id": "Task2_Check2",
     "locked": true,
     "schema_version": 3,
     "solution": false,
     "task": false
    }
   }
  },
  {
   "cell_type": "markdown",
   "source": [
    "### Shuffling the data.\n",
    "\n",
    "Shuffle the data, as the data is ordered on men's and women's data."
   ],
   "metadata": {
    "deletable": false,
    "editable": false,
    "nbgrader": {
     "cell_type": "markdown",
     "checksum": "47ee00d8bcc58bd8c74eb1fdbb61b10d",
     "grade": false,
     "grade_id": "Task3_Desc",
     "locked": true,
     "schema_version": 3,
     "solution": false,
     "task": false
    }
   }
  },
  {
   "cell_type": "code",
   "execution_count": 47,
   "source": [
    "tennis_data = tennis_data.sample(frac=1)\n",
    "tennis_data.head()"
   ],
   "outputs": [
    {
     "output_type": "execute_result",
     "data": {
      "text/html": [
       "<div>\n",
       "<style scoped>\n",
       "    .dataframe tbody tr th:only-of-type {\n",
       "        vertical-align: middle;\n",
       "    }\n",
       "\n",
       "    .dataframe tbody tr th {\n",
       "        vertical-align: top;\n",
       "    }\n",
       "\n",
       "    .dataframe thead th {\n",
       "        text-align: right;\n",
       "    }\n",
       "</style>\n",
       "<table border=\"1\" class=\"dataframe\">\n",
       "  <thead>\n",
       "    <tr style=\"text-align: right;\">\n",
       "      <th></th>\n",
       "      <th>rally</th>\n",
       "      <th>serve</th>\n",
       "      <th>hitpoint</th>\n",
       "      <th>speed</th>\n",
       "      <th>net.clearance</th>\n",
       "      <th>distance.from.sideline</th>\n",
       "      <th>depth</th>\n",
       "      <th>outside.sideline</th>\n",
       "      <th>outside.baseline</th>\n",
       "      <th>player.distance.travelled</th>\n",
       "      <th>...</th>\n",
       "      <th>previous.depth</th>\n",
       "      <th>opponent.depth</th>\n",
       "      <th>opponent.distance.from.center</th>\n",
       "      <th>same.side</th>\n",
       "      <th>previous.hitpoint</th>\n",
       "      <th>previous.time.to.net</th>\n",
       "      <th>server.is.impact.player</th>\n",
       "      <th>outcome</th>\n",
       "      <th>gender</th>\n",
       "      <th>ID</th>\n",
       "    </tr>\n",
       "  </thead>\n",
       "  <tbody>\n",
       "    <tr>\n",
       "      <th>7040</th>\n",
       "      <td>4</td>\n",
       "      <td>2</td>\n",
       "      <td>F</td>\n",
       "      <td>34.939817</td>\n",
       "      <td>-0.065382</td>\n",
       "      <td>2.462026</td>\n",
       "      <td>8.480978</td>\n",
       "      <td>False</td>\n",
       "      <td>False</td>\n",
       "      <td>5.251631</td>\n",
       "      <td>...</td>\n",
       "      <td>2.837907</td>\n",
       "      <td>12.2888</td>\n",
       "      <td>1.9176</td>\n",
       "      <td>False</td>\n",
       "      <td>F</td>\n",
       "      <td>0.514540</td>\n",
       "      <td>False</td>\n",
       "      <td>UE</td>\n",
       "      <td>mens</td>\n",
       "      <td>4969</td>\n",
       "    </tr>\n",
       "    <tr>\n",
       "      <th>756</th>\n",
       "      <td>3</td>\n",
       "      <td>2</td>\n",
       "      <td>B</td>\n",
       "      <td>33.922834</td>\n",
       "      <td>0.838569</td>\n",
       "      <td>0.811042</td>\n",
       "      <td>0.558047</td>\n",
       "      <td>False</td>\n",
       "      <td>True</td>\n",
       "      <td>0.506890</td>\n",
       "      <td>...</td>\n",
       "      <td>4.239531</td>\n",
       "      <td>11.5418</td>\n",
       "      <td>3.9844</td>\n",
       "      <td>False</td>\n",
       "      <td>B</td>\n",
       "      <td>0.399701</td>\n",
       "      <td>True</td>\n",
       "      <td>UE</td>\n",
       "      <td>womens</td>\n",
       "      <td>5870</td>\n",
       "    </tr>\n",
       "    <tr>\n",
       "      <th>6706</th>\n",
       "      <td>4</td>\n",
       "      <td>1</td>\n",
       "      <td>B</td>\n",
       "      <td>23.518996</td>\n",
       "      <td>0.214878</td>\n",
       "      <td>1.060592</td>\n",
       "      <td>7.913315</td>\n",
       "      <td>False</td>\n",
       "      <td>False</td>\n",
       "      <td>2.604793</td>\n",
       "      <td>...</td>\n",
       "      <td>3.810289</td>\n",
       "      <td>10.0004</td>\n",
       "      <td>2.1868</td>\n",
       "      <td>False</td>\n",
       "      <td>F</td>\n",
       "      <td>0.302662</td>\n",
       "      <td>False</td>\n",
       "      <td>W</td>\n",
       "      <td>mens</td>\n",
       "      <td>1400</td>\n",
       "    </tr>\n",
       "    <tr>\n",
       "      <th>369</th>\n",
       "      <td>11</td>\n",
       "      <td>2</td>\n",
       "      <td>F</td>\n",
       "      <td>42.714408</td>\n",
       "      <td>0.759031</td>\n",
       "      <td>1.117970</td>\n",
       "      <td>0.302619</td>\n",
       "      <td>False</td>\n",
       "      <td>True</td>\n",
       "      <td>5.872622</td>\n",
       "      <td>...</td>\n",
       "      <td>6.742295</td>\n",
       "      <td>12.4358</td>\n",
       "      <td>2.4712</td>\n",
       "      <td>False</td>\n",
       "      <td>B</td>\n",
       "      <td>1.349110</td>\n",
       "      <td>True</td>\n",
       "      <td>UE</td>\n",
       "      <td>womens</td>\n",
       "      <td>8780</td>\n",
       "    </tr>\n",
       "    <tr>\n",
       "      <th>1129</th>\n",
       "      <td>7</td>\n",
       "      <td>2</td>\n",
       "      <td>B</td>\n",
       "      <td>37.458157</td>\n",
       "      <td>0.938048</td>\n",
       "      <td>1.601707</td>\n",
       "      <td>0.839515</td>\n",
       "      <td>False</td>\n",
       "      <td>True</td>\n",
       "      <td>1.596183</td>\n",
       "      <td>...</td>\n",
       "      <td>1.602631</td>\n",
       "      <td>12.1742</td>\n",
       "      <td>1.9290</td>\n",
       "      <td>False</td>\n",
       "      <td>B</td>\n",
       "      <td>0.438873</td>\n",
       "      <td>True</td>\n",
       "      <td>UE</td>\n",
       "      <td>mens</td>\n",
       "      <td>7021</td>\n",
       "    </tr>\n",
       "  </tbody>\n",
       "</table>\n",
       "<p>5 rows × 27 columns</p>\n",
       "</div>"
      ],
      "text/plain": [
       "      rally  serve hitpoint      speed  net.clearance  distance.from.sideline  \\\n",
       "7040      4      2        F  34.939817      -0.065382                2.462026   \n",
       "756       3      2        B  33.922834       0.838569                0.811042   \n",
       "6706      4      1        B  23.518996       0.214878                1.060592   \n",
       "369      11      2        F  42.714408       0.759031                1.117970   \n",
       "1129      7      2        B  37.458157       0.938048                1.601707   \n",
       "\n",
       "         depth  outside.sideline  outside.baseline  player.distance.travelled  \\\n",
       "7040  8.480978             False             False                   5.251631   \n",
       "756   0.558047             False              True                   0.506890   \n",
       "6706  7.913315             False             False                   2.604793   \n",
       "369   0.302619             False              True                   5.872622   \n",
       "1129  0.839515             False              True                   1.596183   \n",
       "\n",
       "      ...  previous.depth  opponent.depth  opponent.distance.from.center  \\\n",
       "7040  ...        2.837907         12.2888                         1.9176   \n",
       "756   ...        4.239531         11.5418                         3.9844   \n",
       "6706  ...        3.810289         10.0004                         2.1868   \n",
       "369   ...        6.742295         12.4358                         2.4712   \n",
       "1129  ...        1.602631         12.1742                         1.9290   \n",
       "\n",
       "      same.side  previous.hitpoint  previous.time.to.net  \\\n",
       "7040      False                  F              0.514540   \n",
       "756       False                  B              0.399701   \n",
       "6706      False                  F              0.302662   \n",
       "369       False                  B              1.349110   \n",
       "1129      False                  B              0.438873   \n",
       "\n",
       "      server.is.impact.player  outcome  gender    ID  \n",
       "7040                    False       UE    mens  4969  \n",
       "756                      True       UE  womens  5870  \n",
       "6706                    False        W    mens  1400  \n",
       "369                      True       UE  womens  8780  \n",
       "1129                     True       UE    mens  7021  \n",
       "\n",
       "[5 rows x 27 columns]"
      ]
     },
     "metadata": {},
     "execution_count": 47
    }
   ],
   "metadata": {
    "deletable": false,
    "editable": false,
    "nbgrader": {
     "cell_type": "code",
     "checksum": "a27ed888e125f24b7aa4cc91b819bc4d",
     "grade": false,
     "grade_id": "Task3_Ans1",
     "locked": true,
     "schema_version": 3,
     "solution": false,
     "task": false
    }
   }
  },
  {
   "cell_type": "code",
   "execution_count": 48,
   "source": [
    "tennis_data.reset_index(drop = True, inplace=True)\n",
    "tennis_data.head()"
   ],
   "outputs": [
    {
     "output_type": "execute_result",
     "data": {
      "text/html": [
       "<div>\n",
       "<style scoped>\n",
       "    .dataframe tbody tr th:only-of-type {\n",
       "        vertical-align: middle;\n",
       "    }\n",
       "\n",
       "    .dataframe tbody tr th {\n",
       "        vertical-align: top;\n",
       "    }\n",
       "\n",
       "    .dataframe thead th {\n",
       "        text-align: right;\n",
       "    }\n",
       "</style>\n",
       "<table border=\"1\" class=\"dataframe\">\n",
       "  <thead>\n",
       "    <tr style=\"text-align: right;\">\n",
       "      <th></th>\n",
       "      <th>rally</th>\n",
       "      <th>serve</th>\n",
       "      <th>hitpoint</th>\n",
       "      <th>speed</th>\n",
       "      <th>net.clearance</th>\n",
       "      <th>distance.from.sideline</th>\n",
       "      <th>depth</th>\n",
       "      <th>outside.sideline</th>\n",
       "      <th>outside.baseline</th>\n",
       "      <th>player.distance.travelled</th>\n",
       "      <th>...</th>\n",
       "      <th>previous.depth</th>\n",
       "      <th>opponent.depth</th>\n",
       "      <th>opponent.distance.from.center</th>\n",
       "      <th>same.side</th>\n",
       "      <th>previous.hitpoint</th>\n",
       "      <th>previous.time.to.net</th>\n",
       "      <th>server.is.impact.player</th>\n",
       "      <th>outcome</th>\n",
       "      <th>gender</th>\n",
       "      <th>ID</th>\n",
       "    </tr>\n",
       "  </thead>\n",
       "  <tbody>\n",
       "    <tr>\n",
       "      <th>0</th>\n",
       "      <td>4</td>\n",
       "      <td>2</td>\n",
       "      <td>F</td>\n",
       "      <td>34.939817</td>\n",
       "      <td>-0.065382</td>\n",
       "      <td>2.462026</td>\n",
       "      <td>8.480978</td>\n",
       "      <td>False</td>\n",
       "      <td>False</td>\n",
       "      <td>5.251631</td>\n",
       "      <td>...</td>\n",
       "      <td>2.837907</td>\n",
       "      <td>12.2888</td>\n",
       "      <td>1.9176</td>\n",
       "      <td>False</td>\n",
       "      <td>F</td>\n",
       "      <td>0.514540</td>\n",
       "      <td>False</td>\n",
       "      <td>UE</td>\n",
       "      <td>mens</td>\n",
       "      <td>4969</td>\n",
       "    </tr>\n",
       "    <tr>\n",
       "      <th>1</th>\n",
       "      <td>3</td>\n",
       "      <td>2</td>\n",
       "      <td>B</td>\n",
       "      <td>33.922834</td>\n",
       "      <td>0.838569</td>\n",
       "      <td>0.811042</td>\n",
       "      <td>0.558047</td>\n",
       "      <td>False</td>\n",
       "      <td>True</td>\n",
       "      <td>0.506890</td>\n",
       "      <td>...</td>\n",
       "      <td>4.239531</td>\n",
       "      <td>11.5418</td>\n",
       "      <td>3.9844</td>\n",
       "      <td>False</td>\n",
       "      <td>B</td>\n",
       "      <td>0.399701</td>\n",
       "      <td>True</td>\n",
       "      <td>UE</td>\n",
       "      <td>womens</td>\n",
       "      <td>5870</td>\n",
       "    </tr>\n",
       "    <tr>\n",
       "      <th>2</th>\n",
       "      <td>4</td>\n",
       "      <td>1</td>\n",
       "      <td>B</td>\n",
       "      <td>23.518996</td>\n",
       "      <td>0.214878</td>\n",
       "      <td>1.060592</td>\n",
       "      <td>7.913315</td>\n",
       "      <td>False</td>\n",
       "      <td>False</td>\n",
       "      <td>2.604793</td>\n",
       "      <td>...</td>\n",
       "      <td>3.810289</td>\n",
       "      <td>10.0004</td>\n",
       "      <td>2.1868</td>\n",
       "      <td>False</td>\n",
       "      <td>F</td>\n",
       "      <td>0.302662</td>\n",
       "      <td>False</td>\n",
       "      <td>W</td>\n",
       "      <td>mens</td>\n",
       "      <td>1400</td>\n",
       "    </tr>\n",
       "    <tr>\n",
       "      <th>3</th>\n",
       "      <td>11</td>\n",
       "      <td>2</td>\n",
       "      <td>F</td>\n",
       "      <td>42.714408</td>\n",
       "      <td>0.759031</td>\n",
       "      <td>1.117970</td>\n",
       "      <td>0.302619</td>\n",
       "      <td>False</td>\n",
       "      <td>True</td>\n",
       "      <td>5.872622</td>\n",
       "      <td>...</td>\n",
       "      <td>6.742295</td>\n",
       "      <td>12.4358</td>\n",
       "      <td>2.4712</td>\n",
       "      <td>False</td>\n",
       "      <td>B</td>\n",
       "      <td>1.349110</td>\n",
       "      <td>True</td>\n",
       "      <td>UE</td>\n",
       "      <td>womens</td>\n",
       "      <td>8780</td>\n",
       "    </tr>\n",
       "    <tr>\n",
       "      <th>4</th>\n",
       "      <td>7</td>\n",
       "      <td>2</td>\n",
       "      <td>B</td>\n",
       "      <td>37.458157</td>\n",
       "      <td>0.938048</td>\n",
       "      <td>1.601707</td>\n",
       "      <td>0.839515</td>\n",
       "      <td>False</td>\n",
       "      <td>True</td>\n",
       "      <td>1.596183</td>\n",
       "      <td>...</td>\n",
       "      <td>1.602631</td>\n",
       "      <td>12.1742</td>\n",
       "      <td>1.9290</td>\n",
       "      <td>False</td>\n",
       "      <td>B</td>\n",
       "      <td>0.438873</td>\n",
       "      <td>True</td>\n",
       "      <td>UE</td>\n",
       "      <td>mens</td>\n",
       "      <td>7021</td>\n",
       "    </tr>\n",
       "  </tbody>\n",
       "</table>\n",
       "<p>5 rows × 27 columns</p>\n",
       "</div>"
      ],
      "text/plain": [
       "   rally  serve hitpoint      speed  net.clearance  distance.from.sideline  \\\n",
       "0      4      2        F  34.939817      -0.065382                2.462026   \n",
       "1      3      2        B  33.922834       0.838569                0.811042   \n",
       "2      4      1        B  23.518996       0.214878                1.060592   \n",
       "3     11      2        F  42.714408       0.759031                1.117970   \n",
       "4      7      2        B  37.458157       0.938048                1.601707   \n",
       "\n",
       "      depth  outside.sideline  outside.baseline  player.distance.travelled  \\\n",
       "0  8.480978             False             False                   5.251631   \n",
       "1  0.558047             False              True                   0.506890   \n",
       "2  7.913315             False             False                   2.604793   \n",
       "3  0.302619             False              True                   5.872622   \n",
       "4  0.839515             False              True                   1.596183   \n",
       "\n",
       "   ...  previous.depth  opponent.depth  opponent.distance.from.center  \\\n",
       "0  ...        2.837907         12.2888                         1.9176   \n",
       "1  ...        4.239531         11.5418                         3.9844   \n",
       "2  ...        3.810289         10.0004                         2.1868   \n",
       "3  ...        6.742295         12.4358                         2.4712   \n",
       "4  ...        1.602631         12.1742                         1.9290   \n",
       "\n",
       "   same.side  previous.hitpoint  previous.time.to.net  \\\n",
       "0      False                  F              0.514540   \n",
       "1      False                  B              0.399701   \n",
       "2      False                  F              0.302662   \n",
       "3      False                  B              1.349110   \n",
       "4      False                  B              0.438873   \n",
       "\n",
       "   server.is.impact.player  outcome  gender    ID  \n",
       "0                    False       UE    mens  4969  \n",
       "1                     True       UE  womens  5870  \n",
       "2                    False        W    mens  1400  \n",
       "3                     True       UE  womens  8780  \n",
       "4                     True       UE    mens  7021  \n",
       "\n",
       "[5 rows x 27 columns]"
      ]
     },
     "metadata": {},
     "execution_count": 48
    }
   ],
   "metadata": {
    "deletable": false,
    "editable": false,
    "nbgrader": {
     "cell_type": "code",
     "checksum": "082cd2ebd313791199a8f12cb54fc4fc",
     "grade": false,
     "grade_id": "Task3_Ans2",
     "locked": true,
     "schema_version": 3,
     "solution": false,
     "task": false
    }
   }
  },
  {
   "cell_type": "markdown",
   "source": [
    "Exploring the data."
   ],
   "metadata": {
    "deletable": false,
    "editable": false,
    "nbgrader": {
     "cell_type": "markdown",
     "checksum": "e76f37dd5001415e676fa52ceb52785a",
     "grade": false,
     "grade_id": "Task3_Check_Desc",
     "locked": true,
     "schema_version": 3,
     "solution": false,
     "task": false
    }
   }
  },
  {
   "cell_type": "code",
   "execution_count": 49,
   "source": [
    "# Data dimensions\n",
    "tennis_data.shape"
   ],
   "outputs": [
    {
     "output_type": "execute_result",
     "data": {
      "text/plain": [
       "(8001, 27)"
      ]
     },
     "metadata": {},
     "execution_count": 49
    }
   ],
   "metadata": {
    "deletable": false,
    "editable": false,
    "nbgrader": {
     "cell_type": "code",
     "checksum": "4ffb53c373f7827f31d97cf59cd0775e",
     "grade": false,
     "grade_id": "Task3_Check1",
     "locked": true,
     "schema_version": 3,
     "solution": false,
     "task": false
    }
   }
  },
  {
   "cell_type": "code",
   "execution_count": 50,
   "source": [
    "# Feature types.\n",
    "tennis_data.dtypes"
   ],
   "outputs": [
    {
     "output_type": "execute_result",
     "data": {
      "text/plain": [
       "rally                                   int64\n",
       "serve                                   int64\n",
       "hitpoint                               object\n",
       "speed                                 float64\n",
       "net.clearance                         float64\n",
       "distance.from.sideline                float64\n",
       "depth                                 float64\n",
       "outside.sideline                         bool\n",
       "outside.baseline                         bool\n",
       "player.distance.travelled             float64\n",
       "player.impact.depth                   float64\n",
       "player.impact.distance.from.center    float64\n",
       "player.depth                          float64\n",
       "player.distance.from.center           float64\n",
       "previous.speed                        float64\n",
       "previous.net.clearance                float64\n",
       "previous.distance.from.sideline       float64\n",
       "previous.depth                        float64\n",
       "opponent.depth                        float64\n",
       "opponent.distance.from.center         float64\n",
       "same.side                                bool\n",
       "previous.hitpoint                      object\n",
       "previous.time.to.net                  float64\n",
       "server.is.impact.player                  bool\n",
       "outcome                                object\n",
       "gender                                 object\n",
       "ID                                      int64\n",
       "dtype: object"
      ]
     },
     "metadata": {},
     "execution_count": 50
    }
   ],
   "metadata": {
    "deletable": false,
    "editable": false,
    "nbgrader": {
     "cell_type": "code",
     "checksum": "cc05226195ff56ba1081c745d95360f1",
     "grade": false,
     "grade_id": "Task3_Check2",
     "locked": true,
     "schema_version": 3,
     "solution": false,
     "task": false
    }
   }
  },
  {
   "cell_type": "code",
   "execution_count": 51,
   "source": [
    "tennis_data.nunique()"
   ],
   "outputs": [
    {
     "output_type": "execute_result",
     "data": {
      "text/plain": [
       "rally                                   30\n",
       "serve                                    2\n",
       "hitpoint                                 4\n",
       "speed                                 7994\n",
       "net.clearance                         7994\n",
       "distance.from.sideline                8001\n",
       "depth                                 7992\n",
       "outside.sideline                         2\n",
       "outside.baseline                         2\n",
       "player.distance.travelled             7988\n",
       "player.impact.depth                   7089\n",
       "player.impact.distance.from.center    6644\n",
       "player.depth                          6882\n",
       "player.distance.from.center           5977\n",
       "previous.speed                        8001\n",
       "previous.net.clearance                8001\n",
       "previous.distance.from.sideline       8001\n",
       "previous.depth                        8001\n",
       "opponent.depth                        6856\n",
       "opponent.distance.from.center         6775\n",
       "same.side                                2\n",
       "previous.hitpoint                        4\n",
       "previous.time.to.net                  8001\n",
       "server.is.impact.player                  2\n",
       "outcome                                  3\n",
       "gender                                   2\n",
       "ID                                    8001\n",
       "dtype: int64"
      ]
     },
     "metadata": {},
     "execution_count": 51
    }
   ],
   "metadata": {
    "deletable": false,
    "editable": false,
    "nbgrader": {
     "cell_type": "code",
     "checksum": "3d9930c654da5908c8cb128dd765cb01",
     "grade": false,
     "grade_id": "Task3_Check3",
     "locked": true,
     "schema_version": 3,
     "solution": false,
     "task": false
    }
   }
  },
  {
   "cell_type": "markdown",
   "source": [
    "### Spliting data into train and validations sets.\n",
    "\n",
    "- Using `train_test_split` method from `sklearn.model_selection` module."
   ],
   "metadata": {
    "deletable": false,
    "editable": false,
    "nbgrader": {
     "cell_type": "markdown",
     "checksum": "c4b92556f98cb5c30d41f0185305b526",
     "grade": false,
     "grade_id": "Task4_Desc",
     "locked": true,
     "schema_version": 3,
     "solution": false,
     "task": false
    }
   }
  },
  {
   "cell_type": "code",
   "execution_count": 52,
   "source": [
    "# Seperate target from predictors.\n",
    "y = tennis_data.outcome\n",
    "X = tennis_data.drop(['outcome'], axis = 1)"
   ],
   "outputs": [],
   "metadata": {
    "deletable": false,
    "editable": false,
    "nbgrader": {
     "cell_type": "code",
     "checksum": "b39b09dd2df9d0622f64dadcc17d0db6",
     "grade": false,
     "grade_id": "Task4_Ans1",
     "locked": true,
     "schema_version": 3,
     "solution": false,
     "task": false
    }
   }
  },
  {
   "cell_type": "code",
   "execution_count": 53,
   "source": [
    "# Divide data into training and validation subsets\n",
    "from sklearn.model_selection import train_test_split\n",
    "\n",
    "X_train, X_valid, y_train, y_valid = train_test_split(X, \n",
    "                                                      y, \n",
    "                                                      train_size=0.8, \n",
    "                                                      test_size=0.2,\n",
    "                                                      random_state=0)"
   ],
   "outputs": [],
   "metadata": {
    "deletable": false,
    "editable": false,
    "nbgrader": {
     "cell_type": "code",
     "checksum": "5880f8091ebbfe0b07a35403d8fbcf23",
     "grade": false,
     "grade_id": "Task4_Ans2",
     "locked": true,
     "schema_version": 3,
     "solution": false,
     "task": false
    }
   }
  },
  {
   "cell_type": "code",
   "execution_count": 54,
   "source": [
    "print('X_train dimensions: ', X_train.shape)\n",
    "print('y_train dimensions: ', y_train.shape)\n",
    "print('X_test dimensions:  ', X_valid.shape)\n",
    "print('y_test dimensions:  ', y_valid.shape)"
   ],
   "outputs": [
    {
     "output_type": "stream",
     "name": "stdout",
     "text": [
      "X_train dimensions:  (6400, 26)\n",
      "y_train dimensions:  (6400,)\n",
      "X_test dimensions:   (1601, 26)\n",
      "y_test dimensions:   (1601,)\n"
     ]
    }
   ],
   "metadata": {
    "deletable": false,
    "editable": false,
    "nbgrader": {
     "cell_type": "code",
     "checksum": "79e1873e059bb5ed58c86a9801d6a1a6",
     "grade": false,
     "grade_id": "Task4_Check",
     "locked": true,
     "schema_version": 3,
     "solution": false,
     "task": false
    }
   }
  },
  {
   "cell_type": "markdown",
   "source": [
    "### Target value distribution.\n",
    "\n",
    "- Checking how the target value is distributed both in train and validation sets."
   ],
   "metadata": {
    "deletable": false,
    "editable": false,
    "nbgrader": {
     "cell_type": "markdown",
     "checksum": "9769a8dfa0fbce5f0efd581dd12b912b",
     "grade": false,
     "grade_id": "Task5_Desc",
     "locked": true,
     "schema_version": 3,
     "solution": false,
     "task": false
    }
   }
  },
  {
   "cell_type": "code",
   "execution_count": 55,
   "source": [
    "# Function to check the train and validation sets target distributions.\n",
    "def fn_target_dist(series):\n",
    "    # Find the counts in each class.\n",
    "    vcdf = series.value_counts()\n",
    "    # Convert above to a dataframe.\n",
    "    vcdf = vcdf.to_frame(name = 'count')\n",
    "    # Add a new column 'percentage' that gives percentage of level counts.\n",
    "    vcdf['count%'] = round(100 * vcdf['count']/len(series), 2)\n",
    "\n",
    "    # Return the target counts dataframe.\n",
    "    return vcdf"
   ],
   "outputs": [],
   "metadata": {
    "deletable": false,
    "editable": false,
    "nbgrader": {
     "cell_type": "code",
     "checksum": "8bfefbecb84052226aa60b5b361e576e",
     "grade": false,
     "grade_id": "Task5_Ans",
     "locked": true,
     "schema_version": 3,
     "solution": false,
     "task": false
    }
   }
  },
  {
   "cell_type": "code",
   "execution_count": 56,
   "source": [
    "# train target distribution\n",
    "train_target_dist = fn_target_dist(y_train)\n",
    "train_target_dist"
   ],
   "outputs": [
    {
     "output_type": "execute_result",
     "data": {
      "text/html": [
       "<div>\n",
       "<style scoped>\n",
       "    .dataframe tbody tr th:only-of-type {\n",
       "        vertical-align: middle;\n",
       "    }\n",
       "\n",
       "    .dataframe tbody tr th {\n",
       "        vertical-align: top;\n",
       "    }\n",
       "\n",
       "    .dataframe thead th {\n",
       "        text-align: right;\n",
       "    }\n",
       "</style>\n",
       "<table border=\"1\" class=\"dataframe\">\n",
       "  <thead>\n",
       "    <tr style=\"text-align: right;\">\n",
       "      <th></th>\n",
       "      <th>count</th>\n",
       "      <th>count%</th>\n",
       "    </tr>\n",
       "  </thead>\n",
       "  <tbody>\n",
       "    <tr>\n",
       "      <th>UE</th>\n",
       "      <td>2811</td>\n",
       "      <td>43.92</td>\n",
       "    </tr>\n",
       "    <tr>\n",
       "      <th>W</th>\n",
       "      <td>2140</td>\n",
       "      <td>33.44</td>\n",
       "    </tr>\n",
       "    <tr>\n",
       "      <th>FE</th>\n",
       "      <td>1449</td>\n",
       "      <td>22.64</td>\n",
       "    </tr>\n",
       "  </tbody>\n",
       "</table>\n",
       "</div>"
      ],
      "text/plain": [
       "    count  count%\n",
       "UE   2811   43.92\n",
       "W    2140   33.44\n",
       "FE   1449   22.64"
      ]
     },
     "metadata": {},
     "execution_count": 56
    }
   ],
   "metadata": {
    "deletable": false,
    "editable": false,
    "nbgrader": {
     "cell_type": "code",
     "checksum": "6f6954a6f9883cd0b072ca6c6511cb28",
     "grade": false,
     "grade_id": "Task5_Ans2",
     "locked": true,
     "schema_version": 3,
     "solution": false,
     "task": false
    }
   }
  },
  {
   "cell_type": "code",
   "execution_count": 57,
   "source": [
    "ax = train_target_dist.plot.bar(y='count%', rot=0)"
   ],
   "outputs": [
    {
     "output_type": "display_data",
     "data": {
      "image/png": "[encoded data removed]",
      "text/plain": [
       "<Figure size 432x288 with 1 Axes>"
      ]
     },
     "metadata": {
      "needs_background": "light"
     }
    }
   ],
   "metadata": {
    "deletable": false,
    "editable": false,
    "nbgrader": {
     "cell_type": "code",
     "checksum": "c623fb1e40879f3d7bbc7663c30c9a7b",
     "grade": false,
     "grade_id": "Task5_Check1",
     "locked": true,
     "schema_version": 3,
     "solution": false,
     "task": false
    }
   }
  },
  {
   "cell_type": "code",
   "execution_count": 58,
   "source": [
    "valid_target_dist = fn_target_dist(y_valid)\n",
    "valid_target_dist"
   ],
   "outputs": [
    {
     "output_type": "execute_result",
     "data": {
      "text/html": [
       "<div>\n",
       "<style scoped>\n",
       "    .dataframe tbody tr th:only-of-type {\n",
       "        vertical-align: middle;\n",
       "    }\n",
       "\n",
       "    .dataframe tbody tr th {\n",
       "        vertical-align: top;\n",
       "    }\n",
       "\n",
       "    .dataframe thead th {\n",
       "        text-align: right;\n",
       "    }\n",
       "</style>\n",
       "<table border=\"1\" class=\"dataframe\">\n",
       "  <thead>\n",
       "    <tr style=\"text-align: right;\">\n",
       "      <th></th>\n",
       "      <th>count</th>\n",
       "      <th>count%</th>\n",
       "    </tr>\n",
       "  </thead>\n",
       "  <tbody>\n",
       "    <tr>\n",
       "      <th>UE</th>\n",
       "      <td>690</td>\n",
       "      <td>43.10</td>\n",
       "    </tr>\n",
       "    <tr>\n",
       "      <th>W</th>\n",
       "      <td>542</td>\n",
       "      <td>33.85</td>\n",
       "    </tr>\n",
       "    <tr>\n",
       "      <th>FE</th>\n",
       "      <td>369</td>\n",
       "      <td>23.05</td>\n",
       "    </tr>\n",
       "  </tbody>\n",
       "</table>\n",
       "</div>"
      ],
      "text/plain": [
       "    count  count%\n",
       "UE    690   43.10\n",
       "W     542   33.85\n",
       "FE    369   23.05"
      ]
     },
     "metadata": {},
     "execution_count": 58
    }
   ],
   "metadata": {
    "deletable": false,
    "editable": false,
    "nbgrader": {
     "cell_type": "code",
     "checksum": "a834808efe27ca414ecac60e72167fd9",
     "grade": false,
     "grade_id": "Task5_Check2",
     "locked": true,
     "schema_version": 3,
     "solution": false,
     "task": false
    }
   }
  },
  {
   "cell_type": "code",
   "execution_count": 59,
   "source": [
    "train_valid_target_dist = pd.merge(train_target_dist, \n",
    "                                   valid_target_dist, \n",
    "                                   left_index=True,\n",
    "                                   right_index=True)\n",
    "train_valid_target_dist"
   ],
   "outputs": [
    {
     "output_type": "execute_result",
     "data": {
      "text/html": [
       "<div>\n",
       "<style scoped>\n",
       "    .dataframe tbody tr th:only-of-type {\n",
       "        vertical-align: middle;\n",
       "    }\n",
       "\n",
       "    .dataframe tbody tr th {\n",
       "        vertical-align: top;\n",
       "    }\n",
       "\n",
       "    .dataframe thead th {\n",
       "        text-align: right;\n",
       "    }\n",
       "</style>\n",
       "<table border=\"1\" class=\"dataframe\">\n",
       "  <thead>\n",
       "    <tr style=\"text-align: right;\">\n",
       "      <th></th>\n",
       "      <th>count_x</th>\n",
       "      <th>count%_x</th>\n",
       "      <th>count_y</th>\n",
       "      <th>count%_y</th>\n",
       "    </tr>\n",
       "  </thead>\n",
       "  <tbody>\n",
       "    <tr>\n",
       "      <th>UE</th>\n",
       "      <td>2811</td>\n",
       "      <td>43.92</td>\n",
       "      <td>690</td>\n",
       "      <td>43.10</td>\n",
       "    </tr>\n",
       "    <tr>\n",
       "      <th>W</th>\n",
       "      <td>2140</td>\n",
       "      <td>33.44</td>\n",
       "      <td>542</td>\n",
       "      <td>33.85</td>\n",
       "    </tr>\n",
       "    <tr>\n",
       "      <th>FE</th>\n",
       "      <td>1449</td>\n",
       "      <td>22.64</td>\n",
       "      <td>369</td>\n",
       "      <td>23.05</td>\n",
       "    </tr>\n",
       "  </tbody>\n",
       "</table>\n",
       "</div>"
      ],
      "text/plain": [
       "    count_x  count%_x  count_y  count%_y\n",
       "UE     2811     43.92      690     43.10\n",
       "W      2140     33.44      542     33.85\n",
       "FE     1449     22.64      369     23.05"
      ]
     },
     "metadata": {},
     "execution_count": 59
    }
   ],
   "metadata": {
    "deletable": false,
    "editable": false,
    "nbgrader": {
     "cell_type": "code",
     "checksum": "d69a446f6e259ce3ca44329fdd01e17a",
     "grade": false,
     "grade_id": "Task5_Check3",
     "locked": true,
     "schema_version": 3,
     "solution": false,
     "task": false
    }
   }
  },
  {
   "cell_type": "code",
   "execution_count": 60,
   "source": [
    "ax = train_valid_target_dist[['count%_x', 'count%_y']].plot.bar(rot=0)"
   ],
   "outputs": [
    {
     "output_type": "display_data",
     "data": {
      "image/png": "[encoded data removed]",
      "text/plain": [
       "<Figure size 432x288 with 1 Axes>"
      ]
     },
     "metadata": {
      "needs_background": "light"
     }
    }
   ],
   "metadata": {
    "deletable": false,
    "editable": false,
    "nbgrader": {
     "cell_type": "code",
     "checksum": "ca09dc0fc1f174d59a06e2e045b81966",
     "grade": false,
     "grade_id": "Task5_Check4",
     "locked": true,
     "schema_version": 3,
     "solution": false,
     "task": false
    }
   }
  },
  {
   "cell_type": "markdown",
   "source": [
    "### Finding nulls counts.\n",
    "\n",
    "- Finding the null counts and percentages in train and test sets."
   ],
   "metadata": {
    "deletable": false,
    "editable": false,
    "nbgrader": {
     "cell_type": "markdown",
     "checksum": "76ef6d015d37cfbf46d99389819301fb",
     "grade": false,
     "grade_id": "Task6_Desc",
     "locked": true,
     "schema_version": 3,
     "solution": false,
     "task": false
    }
   }
  },
  {
   "cell_type": "code",
   "execution_count": 61,
   "source": [
    "# Function to count the null values and their percentages in each column.\n",
    "def fn_nulls_count(df):\n",
    "    # Nulls counts in each column.\n",
    "    nulls_counts = df.isnull().sum()\n",
    "    # Convert above series into dataframe.\n",
    "    nulls_counts_df = nulls_counts.to_frame(name = 'nulls_count')\n",
    "    # Add a new column - to get the null counts percentage to the total rows.\n",
    "    nulls_counts_df['nulls_percentage'] = round(100 * nulls_counts_df['nulls_count']/df.shape[0], 2)\n",
    "    # Return the null counts dataframe.\n",
    "    return nulls_counts_df"
   ],
   "outputs": [],
   "metadata": {
    "deletable": false,
    "editable": false,
    "nbgrader": {
     "cell_type": "code",
     "checksum": "84edf97fe80b0517fe3983b746869dd3",
     "grade": false,
     "grade_id": "Task6_Ans",
     "locked": true,
     "schema_version": 3,
     "solution": false,
     "task": false
    }
   }
  },
  {
   "cell_type": "code",
   "execution_count": 62,
   "source": [
    "# Nulls in train data.\n",
    "train_nulls = fn_nulls_count(X_train)\n",
    "train_nulls"
   ],
   "outputs": [
    {
     "output_type": "execute_result",
     "data": {
      "text/html": [
       "<div>\n",
       "<style scoped>\n",
       "    .dataframe tbody tr th:only-of-type {\n",
       "        vertical-align: middle;\n",
       "    }\n",
       "\n",
       "    .dataframe tbody tr th {\n",
       "        vertical-align: top;\n",
       "    }\n",
       "\n",
       "    .dataframe thead th {\n",
       "        text-align: right;\n",
       "    }\n",
       "</style>\n",
       "<table border=\"1\" class=\"dataframe\">\n",
       "  <thead>\n",
       "    <tr style=\"text-align: right;\">\n",
       "      <th></th>\n",
       "      <th>nulls_count</th>\n",
       "      <th>nulls_percentage</th>\n",
       "    </tr>\n",
       "  </thead>\n",
       "  <tbody>\n",
       "    <tr>\n",
       "      <th>rally</th>\n",
       "      <td>0</td>\n",
       "      <td>0.00</td>\n",
       "    </tr>\n",
       "    <tr>\n",
       "      <th>serve</th>\n",
       "      <td>0</td>\n",
       "      <td>0.00</td>\n",
       "    </tr>\n",
       "    <tr>\n",
       "      <th>hitpoint</th>\n",
       "      <td>0</td>\n",
       "      <td>0.00</td>\n",
       "    </tr>\n",
       "    <tr>\n",
       "      <th>speed</th>\n",
       "      <td>5</td>\n",
       "      <td>0.08</td>\n",
       "    </tr>\n",
       "    <tr>\n",
       "      <th>net.clearance</th>\n",
       "      <td>0</td>\n",
       "      <td>0.00</td>\n",
       "    </tr>\n",
       "    <tr>\n",
       "      <th>distance.from.sideline</th>\n",
       "      <td>0</td>\n",
       "      <td>0.00</td>\n",
       "    </tr>\n",
       "    <tr>\n",
       "      <th>depth</th>\n",
       "      <td>6</td>\n",
       "      <td>0.09</td>\n",
       "    </tr>\n",
       "    <tr>\n",
       "      <th>outside.sideline</th>\n",
       "      <td>0</td>\n",
       "      <td>0.00</td>\n",
       "    </tr>\n",
       "    <tr>\n",
       "      <th>outside.baseline</th>\n",
       "      <td>0</td>\n",
       "      <td>0.00</td>\n",
       "    </tr>\n",
       "    <tr>\n",
       "      <th>player.distance.travelled</th>\n",
       "      <td>0</td>\n",
       "      <td>0.00</td>\n",
       "    </tr>\n",
       "    <tr>\n",
       "      <th>player.impact.depth</th>\n",
       "      <td>0</td>\n",
       "      <td>0.00</td>\n",
       "    </tr>\n",
       "    <tr>\n",
       "      <th>player.impact.distance.from.center</th>\n",
       "      <td>0</td>\n",
       "      <td>0.00</td>\n",
       "    </tr>\n",
       "    <tr>\n",
       "      <th>player.depth</th>\n",
       "      <td>0</td>\n",
       "      <td>0.00</td>\n",
       "    </tr>\n",
       "    <tr>\n",
       "      <th>player.distance.from.center</th>\n",
       "      <td>0</td>\n",
       "      <td>0.00</td>\n",
       "    </tr>\n",
       "    <tr>\n",
       "      <th>previous.speed</th>\n",
       "      <td>0</td>\n",
       "      <td>0.00</td>\n",
       "    </tr>\n",
       "    <tr>\n",
       "      <th>previous.net.clearance</th>\n",
       "      <td>0</td>\n",
       "      <td>0.00</td>\n",
       "    </tr>\n",
       "    <tr>\n",
       "      <th>previous.distance.from.sideline</th>\n",
       "      <td>0</td>\n",
       "      <td>0.00</td>\n",
       "    </tr>\n",
       "    <tr>\n",
       "      <th>previous.depth</th>\n",
       "      <td>0</td>\n",
       "      <td>0.00</td>\n",
       "    </tr>\n",
       "    <tr>\n",
       "      <th>opponent.depth</th>\n",
       "      <td>0</td>\n",
       "      <td>0.00</td>\n",
       "    </tr>\n",
       "    <tr>\n",
       "      <th>opponent.distance.from.center</th>\n",
       "      <td>0</td>\n",
       "      <td>0.00</td>\n",
       "    </tr>\n",
       "    <tr>\n",
       "      <th>same.side</th>\n",
       "      <td>0</td>\n",
       "      <td>0.00</td>\n",
       "    </tr>\n",
       "    <tr>\n",
       "      <th>previous.hitpoint</th>\n",
       "      <td>23</td>\n",
       "      <td>0.36</td>\n",
       "    </tr>\n",
       "    <tr>\n",
       "      <th>previous.time.to.net</th>\n",
       "      <td>0</td>\n",
       "      <td>0.00</td>\n",
       "    </tr>\n",
       "    <tr>\n",
       "      <th>server.is.impact.player</th>\n",
       "      <td>0</td>\n",
       "      <td>0.00</td>\n",
       "    </tr>\n",
       "    <tr>\n",
       "      <th>gender</th>\n",
       "      <td>0</td>\n",
       "      <td>0.00</td>\n",
       "    </tr>\n",
       "    <tr>\n",
       "      <th>ID</th>\n",
       "      <td>0</td>\n",
       "      <td>0.00</td>\n",
       "    </tr>\n",
       "  </tbody>\n",
       "</table>\n",
       "</div>"
      ],
      "text/plain": [
       "                                    nulls_count  nulls_percentage\n",
       "rally                                         0              0.00\n",
       "serve                                         0              0.00\n",
       "hitpoint                                      0              0.00\n",
       "speed                                         5              0.08\n",
       "net.clearance                                 0              0.00\n",
       "distance.from.sideline                        0              0.00\n",
       "depth                                         6              0.09\n",
       "outside.sideline                              0              0.00\n",
       "outside.baseline                              0              0.00\n",
       "player.distance.travelled                     0              0.00\n",
       "player.impact.depth                           0              0.00\n",
       "player.impact.distance.from.center            0              0.00\n",
       "player.depth                                  0              0.00\n",
       "player.distance.from.center                   0              0.00\n",
       "previous.speed                                0              0.00\n",
       "previous.net.clearance                        0              0.00\n",
       "previous.distance.from.sideline               0              0.00\n",
       "previous.depth                                0              0.00\n",
       "opponent.depth                                0              0.00\n",
       "opponent.distance.from.center                 0              0.00\n",
       "same.side                                     0              0.00\n",
       "previous.hitpoint                            23              0.36\n",
       "previous.time.to.net                          0              0.00\n",
       "server.is.impact.player                       0              0.00\n",
       "gender                                        0              0.00\n",
       "ID                                            0              0.00"
      ]
     },
     "metadata": {},
     "execution_count": 62
    }
   ],
   "metadata": {
    "deletable": false,
    "editable": false,
    "nbgrader": {
     "cell_type": "code",
     "checksum": "2af71ddb67d57872f8fb12cb0e96e209",
     "grade": false,
     "grade_id": "Task6_Check1",
     "locked": true,
     "schema_version": 3,
     "solution": false,
     "task": false
    }
   }
  },
  {
   "cell_type": "code",
   "execution_count": 63,
   "source": [
    "# Nulls in validation data.\n",
    "validation_nulls = fn_nulls_count(X_valid)\n",
    "validation_nulls"
   ],
   "outputs": [
    {
     "output_type": "execute_result",
     "data": {
      "text/html": [
       "<div>\n",
       "<style scoped>\n",
       "    .dataframe tbody tr th:only-of-type {\n",
       "        vertical-align: middle;\n",
       "    }\n",
       "\n",
       "    .dataframe tbody tr th {\n",
       "        vertical-align: top;\n",
       "    }\n",
       "\n",
       "    .dataframe thead th {\n",
       "        text-align: right;\n",
       "    }\n",
       "</style>\n",
       "<table border=\"1\" class=\"dataframe\">\n",
       "  <thead>\n",
       "    <tr style=\"text-align: right;\">\n",
       "      <th></th>\n",
       "      <th>nulls_count</th>\n",
       "      <th>nulls_percentage</th>\n",
       "    </tr>\n",
       "  </thead>\n",
       "  <tbody>\n",
       "    <tr>\n",
       "      <th>rally</th>\n",
       "      <td>0</td>\n",
       "      <td>0.00</td>\n",
       "    </tr>\n",
       "    <tr>\n",
       "      <th>serve</th>\n",
       "      <td>0</td>\n",
       "      <td>0.00</td>\n",
       "    </tr>\n",
       "    <tr>\n",
       "      <th>hitpoint</th>\n",
       "      <td>0</td>\n",
       "      <td>0.00</td>\n",
       "    </tr>\n",
       "    <tr>\n",
       "      <th>speed</th>\n",
       "      <td>2</td>\n",
       "      <td>0.12</td>\n",
       "    </tr>\n",
       "    <tr>\n",
       "      <th>net.clearance</th>\n",
       "      <td>0</td>\n",
       "      <td>0.00</td>\n",
       "    </tr>\n",
       "    <tr>\n",
       "      <th>distance.from.sideline</th>\n",
       "      <td>0</td>\n",
       "      <td>0.00</td>\n",
       "    </tr>\n",
       "    <tr>\n",
       "      <th>depth</th>\n",
       "      <td>3</td>\n",
       "      <td>0.19</td>\n",
       "    </tr>\n",
       "    <tr>\n",
       "      <th>outside.sideline</th>\n",
       "      <td>0</td>\n",
       "      <td>0.00</td>\n",
       "    </tr>\n",
       "    <tr>\n",
       "      <th>outside.baseline</th>\n",
       "      <td>0</td>\n",
       "      <td>0.00</td>\n",
       "    </tr>\n",
       "    <tr>\n",
       "      <th>player.distance.travelled</th>\n",
       "      <td>0</td>\n",
       "      <td>0.00</td>\n",
       "    </tr>\n",
       "    <tr>\n",
       "      <th>player.impact.depth</th>\n",
       "      <td>0</td>\n",
       "      <td>0.00</td>\n",
       "    </tr>\n",
       "    <tr>\n",
       "      <th>player.impact.distance.from.center</th>\n",
       "      <td>0</td>\n",
       "      <td>0.00</td>\n",
       "    </tr>\n",
       "    <tr>\n",
       "      <th>player.depth</th>\n",
       "      <td>0</td>\n",
       "      <td>0.00</td>\n",
       "    </tr>\n",
       "    <tr>\n",
       "      <th>player.distance.from.center</th>\n",
       "      <td>0</td>\n",
       "      <td>0.00</td>\n",
       "    </tr>\n",
       "    <tr>\n",
       "      <th>previous.speed</th>\n",
       "      <td>0</td>\n",
       "      <td>0.00</td>\n",
       "    </tr>\n",
       "    <tr>\n",
       "      <th>previous.net.clearance</th>\n",
       "      <td>0</td>\n",
       "      <td>0.00</td>\n",
       "    </tr>\n",
       "    <tr>\n",
       "      <th>previous.distance.from.sideline</th>\n",
       "      <td>0</td>\n",
       "      <td>0.00</td>\n",
       "    </tr>\n",
       "    <tr>\n",
       "      <th>previous.depth</th>\n",
       "      <td>0</td>\n",
       "      <td>0.00</td>\n",
       "    </tr>\n",
       "    <tr>\n",
       "      <th>opponent.depth</th>\n",
       "      <td>0</td>\n",
       "      <td>0.00</td>\n",
       "    </tr>\n",
       "    <tr>\n",
       "      <th>opponent.distance.from.center</th>\n",
       "      <td>0</td>\n",
       "      <td>0.00</td>\n",
       "    </tr>\n",
       "    <tr>\n",
       "      <th>same.side</th>\n",
       "      <td>0</td>\n",
       "      <td>0.00</td>\n",
       "    </tr>\n",
       "    <tr>\n",
       "      <th>previous.hitpoint</th>\n",
       "      <td>4</td>\n",
       "      <td>0.25</td>\n",
       "    </tr>\n",
       "    <tr>\n",
       "      <th>previous.time.to.net</th>\n",
       "      <td>0</td>\n",
       "      <td>0.00</td>\n",
       "    </tr>\n",
       "    <tr>\n",
       "      <th>server.is.impact.player</th>\n",
       "      <td>0</td>\n",
       "      <td>0.00</td>\n",
       "    </tr>\n",
       "    <tr>\n",
       "      <th>gender</th>\n",
       "      <td>0</td>\n",
       "      <td>0.00</td>\n",
       "    </tr>\n",
       "    <tr>\n",
       "      <th>ID</th>\n",
       "      <td>0</td>\n",
       "      <td>0.00</td>\n",
       "    </tr>\n",
       "  </tbody>\n",
       "</table>\n",
       "</div>"
      ],
      "text/plain": [
       "                                    nulls_count  nulls_percentage\n",
       "rally                                         0              0.00\n",
       "serve                                         0              0.00\n",
       "hitpoint                                      0              0.00\n",
       "speed                                         2              0.12\n",
       "net.clearance                                 0              0.00\n",
       "distance.from.sideline                        0              0.00\n",
       "depth                                         3              0.19\n",
       "outside.sideline                              0              0.00\n",
       "outside.baseline                              0              0.00\n",
       "player.distance.travelled                     0              0.00\n",
       "player.impact.depth                           0              0.00\n",
       "player.impact.distance.from.center            0              0.00\n",
       "player.depth                                  0              0.00\n",
       "player.distance.from.center                   0              0.00\n",
       "previous.speed                                0              0.00\n",
       "previous.net.clearance                        0              0.00\n",
       "previous.distance.from.sideline               0              0.00\n",
       "previous.depth                                0              0.00\n",
       "opponent.depth                                0              0.00\n",
       "opponent.distance.from.center                 0              0.00\n",
       "same.side                                     0              0.00\n",
       "previous.hitpoint                             4              0.25\n",
       "previous.time.to.net                          0              0.00\n",
       "server.is.impact.player                       0              0.00\n",
       "gender                                        0              0.00\n",
       "ID                                            0              0.00"
      ]
     },
     "metadata": {},
     "execution_count": 63
    }
   ],
   "metadata": {
    "deletable": false,
    "editable": false,
    "nbgrader": {
     "cell_type": "code",
     "checksum": "208d6ea5610238f55232436fafa20454",
     "grade": false,
     "grade_id": "Task6_Check2",
     "locked": true,
     "schema_version": 3,
     "solution": false,
     "task": false
    }
   }
  },
  {
   "cell_type": "markdown",
   "source": [
    "There are no null values both in train and validation sets."
   ],
   "metadata": {
    "deletable": false,
    "editable": false,
    "nbgrader": {
     "cell_type": "markdown",
     "checksum": "80b3fee430dfb71a5862eea5b5baed74",
     "grade": false,
     "grade_id": "Task6_Obs",
     "locked": true,
     "schema_version": 3,
     "solution": false,
     "task": false
    }
   }
  },
  {
   "cell_type": "markdown",
   "source": [
    "### Identifying the columns for modelling.\n",
    "- Identifying categorical and numerical columns into lists `categorical_columns` and `numerical_columns`.\n",
    "- Removing `ID` column(s)."
   ],
   "metadata": {
    "deletable": false,
    "editable": false,
    "nbgrader": {
     "cell_type": "markdown",
     "checksum": "ca5c84fd98e02f3a34be2620677ac412",
     "grade": false,
     "grade_id": "Task7_Desc",
     "locked": true,
     "schema_version": 3,
     "solution": false,
     "task": false
    }
   }
  },
  {
   "cell_type": "code",
   "execution_count": 64,
   "source": [
    "# Finding categorical columns list\n",
    "categorical_columns = [cname for cname in X_train.columns\n",
    "                             if X_train[cname].dtype in ['object', 'bool']]\n",
    "# Adding the column 'serve' to this list - As there are only 2 unique values in this column.\n",
    "categorical_columns.append('serve')\n",
    "\n",
    "# Finding numerical columns list\n",
    "numerical_columns = [cname for cname in X_train.columns\n",
    "                           if cname not in categorical_columns]\n",
    "\n",
    "# Removing 'ID' column from the list.\n",
    "numerical_columns.remove('ID')\n",
    "\n",
    "# Keeping  selected columns only\n",
    "cols_to_use = categorical_columns + numerical_columns\n",
    "X_train_selected = X_train[cols_to_use].copy()\n",
    "X_valid_selected = X_valid[cols_to_use].copy()"
   ],
   "outputs": [],
   "metadata": {
    "deletable": false,
    "editable": false,
    "nbgrader": {
     "cell_type": "code",
     "checksum": "b483b5beeec90c4465ab82a176e81842",
     "grade": false,
     "grade_id": "Task7_Ans",
     "locked": true,
     "schema_version": 3,
     "solution": false,
     "task": false
    }
   }
  },
  {
   "cell_type": "code",
   "execution_count": 65,
   "source": [
    "print(categorical_columns)\n",
    "print(\"\\n\")\n",
    "print(numerical_columns)\n",
    "print(f\"\\nThere are {len(categorical_columns)} \"\n",
    "      f\"categorical and {len(numerical_columns)} numerical columns.\")"
   ],
   "outputs": [
    {
     "output_type": "stream",
     "name": "stdout",
     "text": [
      "['hitpoint', 'outside.sideline', 'outside.baseline', 'same.side', 'previous.hitpoint', 'server.is.impact.player', 'gender', 'serve']\n",
      "\n",
      "\n",
      "['rally', 'speed', 'net.clearance', 'distance.from.sideline', 'depth', 'player.distance.travelled', 'player.impact.depth', 'player.impact.distance.from.center', 'player.depth', 'player.distance.from.center', 'previous.speed', 'previous.net.clearance', 'previous.distance.from.sideline', 'previous.depth', 'opponent.depth', 'opponent.distance.from.center', 'previous.time.to.net']\n",
      "\n",
      "There are 8 categorical and 17 numerical columns.\n"
     ]
    }
   ],
   "metadata": {
    "deletable": false,
    "editable": false,
    "nbgrader": {
     "cell_type": "code",
     "checksum": "9db7f78bcf95b2dca624e79a7a1483d3",
     "grade": false,
     "grade_id": "Task7_Check1",
     "locked": true,
     "schema_version": 3,
     "solution": false,
     "task": false
    }
   }
  },
  {
   "cell_type": "code",
   "execution_count": 66,
   "source": [
    "print(len(X_train_selected.columns))\n",
    "print(len(X_valid_selected.columns))"
   ],
   "outputs": [
    {
     "output_type": "stream",
     "name": "stdout",
     "text": [
      "25\n",
      "25\n"
     ]
    }
   ],
   "metadata": {
    "deletable": false,
    "editable": false,
    "nbgrader": {
     "cell_type": "code",
     "checksum": "e95dc0b67585df03b644c8c55fc29b90",
     "grade": false,
     "grade_id": "Task7_Check2",
     "locked": true,
     "schema_version": 3,
     "solution": false,
     "task": false
    }
   }
  },
  {
   "cell_type": "markdown",
   "source": [
    "### Target Encoding\n",
    "- Encoding the target variable into categories or numeric levels."
   ],
   "metadata": {
    "deletable": false,
    "editable": false,
    "nbgrader": {
     "cell_type": "markdown",
     "checksum": "5cc06c4076d9f210550362ecfd58bf90",
     "grade": false,
     "grade_id": "Task8_Desc",
     "locked": true,
     "schema_version": 3,
     "solution": false,
     "task": false
    }
   }
  },
  {
   "cell_type": "code",
   "execution_count": 67,
   "source": [
    "y_train = y_train.astype('category')\n",
    "y_valid = y_valid.astype('category')"
   ],
   "outputs": [],
   "metadata": {
    "deletable": false,
    "editable": false,
    "nbgrader": {
     "cell_type": "code",
     "checksum": "1fa88f0707659b1af9f9fdc0962a3380",
     "grade": false,
     "grade_id": "Task8_Ans",
     "locked": true,
     "schema_version": 3,
     "solution": false,
     "task": false
    }
   }
  },
  {
   "cell_type": "code",
   "execution_count": 68,
   "source": [
    "print(y_train.dtypes)\n",
    "print(y_valid.dtypes)"
   ],
   "outputs": [
    {
     "output_type": "stream",
     "name": "stdout",
     "text": [
      "category\n",
      "category\n"
     ]
    }
   ],
   "metadata": {
    "deletable": false,
    "editable": false,
    "nbgrader": {
     "cell_type": "code",
     "checksum": "48bdf89a384f7ab47ef6152390c1cb18",
     "grade": false,
     "grade_id": "Task8_Check",
     "locked": true,
     "schema_version": 3,
     "solution": false,
     "task": false
    }
   }
  },
  {
   "cell_type": "markdown",
   "source": [
    "### Implementing Pipelines.\n",
    "\n",
    "Using `pipelines` to clean up modelling code.\n",
    "\n",
    "**`Pipelines`**: are a simple way to keep your data preprocessing and modeling code organized. Specifically, a pipeline bundles preprocessing and modeling steps so you can use the whole bundle as if it were a single step.\n",
    "\n",
    "Many data scientists hack together models without pipelines, but pipelines have some important benefits. Those include:\n",
    "\n",
    "- **`Cleaner Code`**: Accounting for data at each step of preprocessing can get messy. With a pipeline, you won't need to manually keep track of your training and validation data at each step.\n",
    "- **`Fewer Bugs`**: There are fewer opportunities to misapply a step or forget a preprocessing step.\n",
    "- **`Easier to Productionize`**: It can be surprisingly hard to transition a model from a prototype to something deployable at scale. We won't go into the many related concerns here, but pipelines can help.\n",
    "- **`More Options for Model Validation`**: Easy to use cross-validation.\n",
    "\n",
    "constructing the full pipeline in three steps.\n",
    "\n",
    "**Step 1: Defining Preprocessing Steps**\n",
    "\n",
    "Similar to how a pipeline bundles together preprocessing and modeling steps, we use the `ColumnTransformer` class to bundle together different preprocessing steps. \n",
    "\n",
    "The code below:\n",
    "- imputes missing values in `numerical data`, and\n",
    "- imputes missing values and applies a `one-hot encoding` to `categorical data`."
   ],
   "metadata": {
    "deletable": false,
    "editable": false,
    "nbgrader": {
     "cell_type": "markdown",
     "checksum": "7d1e394bc97ed1d0c9ad670166163fd1",
     "grade": false,
     "grade_id": "Task9_Desc1",
     "locked": true,
     "schema_version": 3,
     "solution": false,
     "task": false
    }
   }
  },
  {
   "cell_type": "code",
   "execution_count": 69,
   "source": [
    "from sklearn.compose import ColumnTransformer\n",
    "from sklearn.pipeline import Pipeline\n",
    "from sklearn.impute import SimpleImputer\n",
    "from sklearn.preprocessing import OneHotEncoder\n",
    "\n",
    "# Preprocessing for numerical data\n",
    "numerical_transformer = SimpleImputer(strategy='mean')\n",
    "\n",
    "# Preprocessing for categorical data\n",
    "categorical_transformer = Pipeline(steps=[\n",
    "    ('imputer', SimpleImputer(strategy='most_frequent')),\n",
    "    ('onehot', OneHotEncoder(handle_unknown='ignore'))\n",
    "])\n",
    "\n",
    "# Bundle preprocessing for numerical and categorical data\n",
    "preprocessor = ColumnTransformer(\n",
    "    transformers=[\n",
    "        ('num_trf', numerical_transformer, numerical_columns),\n",
    "        ('cat_trf', categorical_transformer, categorical_columns)\n",
    "    ])"
   ],
   "outputs": [],
   "metadata": {
    "deletable": false,
    "editable": false,
    "nbgrader": {
     "cell_type": "code",
     "checksum": "6f4bc46d4af9f489e3931120c0a6e530",
     "grade": false,
     "grade_id": "Task9_Ans1",
     "locked": true,
     "schema_version": 3,
     "solution": false,
     "task": false
    }
   }
  },
  {
   "cell_type": "markdown",
   "source": [
    "**Step 2: Defining the Model**\n",
    "\n",
    "Next, defining a random forest model with the familiar `RandomForestClassifier` class."
   ],
   "metadata": {
    "deletable": false,
    "editable": false,
    "nbgrader": {
     "cell_type": "markdown",
     "checksum": "178ebfba2a34cc62171e9f4624b4aaae",
     "grade": false,
     "grade_id": "Task9_Desc2",
     "locked": true,
     "schema_version": 3,
     "solution": false,
     "task": false
    }
   }
  },
  {
   "cell_type": "code",
   "execution_count": 70,
   "source": [
    "from sklearn.ensemble import RandomForestClassifier\n",
    "\n",
    "model = RandomForestClassifier(n_estimators=100, \n",
    "                               random_state=0)"
   ],
   "outputs": [],
   "metadata": {
    "deletable": false,
    "editable": false,
    "nbgrader": {
     "cell_type": "code",
     "checksum": "8c72ec75543939f0d9d53697e589035f",
     "grade": false,
     "grade_id": "Task9_Ans2",
     "locked": true,
     "schema_version": 3,
     "solution": false,
     "task": false
    }
   }
  },
  {
   "cell_type": "markdown",
   "source": [
    "**Step 3: Creating and Evaluate the Pipeline**\n",
    "    \n",
    "Using the `Pipeline` class to define a pipeline that bundles the preprocessing and modeling steps. There are a few important things to notice:\n",
    "\n",
    "- With the pipeline, we preprocess the training data and fit the model in a single line of code. *(In contrast, without a pipeline, we have to do imputation, one-hot encoding, and model training in separate steps. This becomes especially messy if we have to deal with both numerical and categorical variables!)*\n",
    "\n",
    "\n",
    "- With the pipeline, we supply the unprocessed features in `X_valid_selected` to the `predict()` command, and the pipeline automatically preprocesses the features before generating predictions. *(However, without a pipeline, we have to remember to preprocess the validation data before making predictions.)*"
   ],
   "metadata": {
    "deletable": false,
    "editable": false,
    "nbgrader": {
     "cell_type": "markdown",
     "checksum": "14fb6466c0565a0e1b5fec686ae2e944",
     "grade": false,
     "grade_id": "Task9_Desc3",
     "locked": true,
     "schema_version": 3,
     "solution": false,
     "task": false
    }
   }
  },
  {
   "cell_type": "code",
   "execution_count": 71,
   "source": [
    "from sklearn.metrics import recall_score\n",
    "\n",
    "# Bundle preprocessing and modeling code in a pipeline\n",
    "my_pipeline = Pipeline(steps=[('preprocessor', preprocessor),\n",
    "                              ('model', model)\n",
    "                             ])\n",
    "\n",
    "# Preprocessing of training data, fit model \n",
    "my_pipeline.fit(X_train_selected, y_train)\n",
    "\n",
    "# Preprocessing of validation data, get predictions\n",
    "preds_valid = my_pipeline.predict(X_valid_selected)\n",
    "\n",
    "# Evaluate the model - validation\n",
    "score_valid = recall_score(y_valid, preds_valid, average = None)[0]\n",
    "print('Recall on validation data:', score_valid)"
   ],
   "outputs": [
    {
     "output_type": "stream",
     "name": "stdout",
     "text": [
      "Recall on validation data: 0.7506775067750677\n"
     ]
    }
   ],
   "metadata": {
    "deletable": false,
    "editable": false,
    "nbgrader": {
     "cell_type": "code",
     "checksum": "eec9f0233fa66c4c38ce70ef5d5b5821",
     "grade": false,
     "grade_id": "Task9_Ans3",
     "locked": true,
     "schema_version": 3,
     "solution": false,
     "task": false
    }
   }
  },
  {
   "cell_type": "markdown",
   "source": [
    "### Model building\n",
    "\n",
    "Building **`XGBoost`** Model.\n",
    "(Scikit-learn has another version of gradient boosting, but `XGBoost` has some technical advantages.)\n",
    "\n",
    "In the code cell, importing the `scikit-learn` API for `XGBoost (xgboost.XGBClassifier)`. This allows us to build and fit a model just as we would in scikit-learn. \n",
    "\n",
    "The `XGBClassifier` class has many tunable parameters."
   ],
   "metadata": {
    "deletable": false,
    "editable": false,
    "nbgrader": {
     "cell_type": "markdown",
     "checksum": "b4a0d77d37ffbe4b37e529afce24bbd7",
     "grade": false,
     "grade_id": "Task10_Desc",
     "locked": true,
     "schema_version": 3,
     "solution": false,
     "task": false
    }
   }
  },
  {
   "cell_type": "code",
   "execution_count": 72,
   "source": [
    "from xgboost import XGBClassifier\n",
    "\n",
    "xgb_model = XGBClassifier()"
   ],
   "outputs": [],
   "metadata": {
    "deletable": false,
    "editable": false,
    "nbgrader": {
     "cell_type": "code",
     "checksum": "a97a6b3580519e7ebf5cf8c107b125e0",
     "grade": false,
     "grade_id": "Task10_Ans",
     "locked": true,
     "schema_version": 3,
     "solution": false,
     "task": false
    }
   }
  },
  {
   "cell_type": "code",
   "execution_count": 73,
   "source": [
    "%%time\n",
    "from sklearn.metrics import recall_score\n",
    "\n",
    "# Bundle preprocessing and modeling code in a pipeline\n",
    "xgb_pipeline = Pipeline(steps=[('preprocessor', preprocessor),\n",
    "                              ('model', xgb_model)\n",
    "                             ])\n",
    "\n",
    "# Preprocessing of training data, fit model \n",
    "xgb_pipeline.fit(X_train_selected, y_train)\n",
    "\n",
    "# Preprocessing of training data, get predictions\n",
    "preds_train = xgb_pipeline.predict(X_train_selected)\n",
    "\n",
    "# Evaluate the model - training\n",
    "score_train = recall_score(y_train, preds_train, average = None)[0]\n",
    "print('Recall on training data:', score_train)\n",
    "\n",
    "# Preprocessing of validation data, get predictions\n",
    "preds_valid = xgb_pipeline.predict(X_valid_selected)\n",
    "\n",
    "# Evaluate the model - validation\n",
    "score_valid = recall_score(y_valid, preds_valid, average = None)[0]\n",
    "print('Recall on validation data:', score_valid)"
   ],
   "outputs": [
    {
     "output_type": "stream",
     "name": "stdout",
     "text": [
      "Recall on training data: 1.0\n",
      "Recall on validation data: 0.7750677506775068\n",
      "CPU times: user 19.7 s, sys: 1.92 s, total: 21.6 s\n",
      "Wall time: 21.7 s\n"
     ]
    }
   ],
   "metadata": {
    "deletable": false,
    "editable": false,
    "nbgrader": {
     "cell_type": "code",
     "checksum": "d079ad34e0019f1862738f11fc0864eb",
     "grade": false,
     "grade_id": "Task10_Ans1",
     "locked": true,
     "schema_version": 3,
     "solution": false,
     "task": false
    }
   }
  },
  {
   "cell_type": "markdown",
   "source": [
    "### Parameter Tuning\n",
    "\n",
    "XGBoost has a few parameters that can dramatically affect accuracy and training speed. The first parameters we should understand is:\n",
    "\n",
    "`n_estimators`:\n",
    "\n",
    "`n_estimators`: specifies how many times to go through the modeling cycle described above. It is equal to the number of models that we include in the ensemble.\n",
    "\n",
    "Too low a value causes underfitting, which leads to inaccurate predictions on both training data and test data.\n",
    "\n",
    "Too high a value causes overfitting, which causes accurate predictions on training data, but inaccurate predictions on test data (which is what we care about).\n",
    "\n",
    "Typical values range from 100-1000, though this depends a lot on the learning_rate parameter discussed next."
   ],
   "metadata": {
    "deletable": false,
    "editable": false,
    "nbgrader": {
     "cell_type": "markdown",
     "checksum": "e37752c266a6cc346cce7e1e5e13e789",
     "grade": false,
     "grade_id": "Task11_Desc1",
     "locked": true,
     "schema_version": 3,
     "solution": false,
     "task": false
    }
   }
  },
  {
   "cell_type": "code",
   "execution_count": 74,
   "source": [
    "%%time\n",
    "from xgboost import XGBClassifier\n",
    "\n",
    "xgb_model = XGBClassifier(n_estimators = 15, random_state = 2)\n",
    "\n",
    "from sklearn.metrics import recall_score\n",
    "\n",
    "# Bundle preprocessing and modeling code in a pipeline\n",
    "xgb_pipeline = Pipeline(steps=[('preprocessor', preprocessor),\n",
    "                              ('model', xgb_model)\n",
    "                             ])\n",
    "\n",
    "# Preprocessing of training data, fit model \n",
    "xgb_pipeline.fit(X_train_selected, y_train)\n",
    "\n",
    "# Preprocessing of training data, get predictions\n",
    "preds_train = xgb_pipeline.predict(X_train_selected)\n",
    "\n",
    "# Evaluate the model - training\n",
    "score_train = recall_score(y_train, preds_train, average = None)[0]\n",
    "print('Recall on training data:', score_train)\n",
    "\n",
    "# Preprocessing of validation data, get predictions\n",
    "preds_valid = xgb_pipeline.predict(X_valid_selected)\n",
    "\n",
    "# Evaluate the model - validation\n",
    "score_valid = recall_score(y_valid, preds_valid, average = None)[0]\n",
    "print('Recall on validation data:', score_valid)"
   ],
   "outputs": [
    {
     "output_type": "stream",
     "name": "stdout",
     "text": [
      "Recall on training data: 0.8875086266390614\n",
      "Recall on validation data: 0.7669376693766937\n",
      "CPU times: user 3.65 s, sys: 437 ms, total: 4.08 s\n",
      "Wall time: 4.63 s\n"
     ]
    }
   ],
   "metadata": {
    "deletable": false,
    "editable": false,
    "nbgrader": {
     "cell_type": "code",
     "checksum": "54bc869964ef3d68b9b6225e1f483fa9",
     "grade": false,
     "grade_id": "Task11_Ans1",
     "locked": true,
     "schema_version": 3,
     "solution": false,
     "task": false
    }
   }
  },
  {
   "cell_type": "markdown",
   "source": [
    "**`early_stopping_rounds`**\n",
    "\n",
    "`early_stopping_rounds` offers a way to automatically find the ideal value for `n_estimators`. Early stopping causes the model to stop iterating when the validation score stops improving, even if we aren't at the hard stop for n_estimators. It's smart to set a high value for `n_estimators` and then use `early_stopping_rounds` to find the optimal time to stop iterating.\n",
    "\n",
    "Since random chance sometimes causes a single round where validation scores don't improve, you need to specify a number for how many rounds of straight deterioration to allow before stopping. Setting `early_stopping_rounds=5` is a reasonable choice. In this case, we stop after 5 straight rounds of deteriorating validation scores.\n",
    "\n",
    "When using `early_stopping_rounds`, you also need to set aside some data for calculating the validation scores - this is done by setting the `eval_set` parameter.\n",
    "\n",
    "We can modify the example above to include early stopping:"
   ],
   "metadata": {
    "deletable": false,
    "editable": false,
    "nbgrader": {
     "cell_type": "markdown",
     "checksum": "4ae6e28f95d8675c924dad7615781158",
     "grade": false,
     "grade_id": "Task11_Desc2",
     "locked": true,
     "schema_version": 3,
     "solution": false,
     "task": false
    }
   }
  },
  {
   "cell_type": "code",
   "execution_count": 75,
   "source": [
    "%%time\n",
    "from xgboost import XGBClassifier\n",
    "\n",
    "xgb_model = XGBClassifier(n_estimators = 500, \n",
    "                          early_stopping_rounds=5,\n",
    "                          random_state = 2,\n",
    "                          verbosity = 0)\n",
    "\n",
    "from sklearn.metrics import recall_score\n",
    "\n",
    "# Bundle preprocessing and modeling code in a pipeline\n",
    "xgb_pipeline = Pipeline(steps=[('preprocessor', preprocessor),\n",
    "                              ('model', xgb_model)\n",
    "                             ])\n",
    "\n",
    "# Preprocessing of training data, fit model \n",
    "xgb_pipeline.fit(X_train_selected, y_train)\n",
    "\n",
    "# Preprocessing of training data, get predictions\n",
    "preds_train = xgb_pipeline.predict(X_train_selected)\n",
    "\n",
    "# Evaluate the model - training\n",
    "score_train = recall_score(y_train, preds_train, average = None)[0]\n",
    "print('Recall on training data:', score_train)\n",
    "\n",
    "# Preprocessing of validation data, get predictions\n",
    "preds_valid = xgb_pipeline.predict(X_valid_selected)\n",
    "\n",
    "# Evaluate the model - validation\n",
    "score_valid = recall_score(y_valid, preds_valid, average = None)[0]\n",
    "print('Recall on validation data:', score_valid)"
   ],
   "outputs": [
    {
     "output_type": "stream",
     "name": "stdout",
     "text": [
      "Recall on training data: 1.0\n",
      "Recall on validation data: 0.7669376693766937\n",
      "CPU times: user 1min 16s, sys: 7.25 s, total: 1min 23s\n",
      "Wall time: 1min 13s\n"
     ]
    }
   ],
   "metadata": {
    "deletable": false,
    "editable": false,
    "nbgrader": {
     "cell_type": "code",
     "checksum": "a820c772aa31e1605c5464dec47976de",
     "grade": false,
     "grade_id": "Task11_Ans2",
     "locked": true,
     "schema_version": 3,
     "solution": false,
     "task": false
    }
   }
  },
  {
   "cell_type": "markdown",
   "source": [
    "**`learning_rate`**\n",
    "\n",
    "Instead of getting predictions by simply adding up the predictions from each component model, we can multiply the predictions from each model by a small number (known as the `learning rate`) before adding them in.\n",
    "\n",
    "This means each tree we add to the ensemble helps us less. So, we can set a higher value for `n_estimators` without overfitting. If we use early stopping, the appropriate number of trees will be determined automatically.\n",
    "\n",
    "In general, a small learning rate and large number of estimators will yield more accurate XGBoost models, though it will also take the model longer to train since it does more iterations through the cycle. As default, XGBoost sets `learning_rate=0.1`.\n",
    "\n",
    "Modifying the example above to change the learning rate yields the following code:"
   ],
   "metadata": {
    "deletable": false,
    "editable": false,
    "nbgrader": {
     "cell_type": "markdown",
     "checksum": "e4e2de175c3c5249e99a195830bae291",
     "grade": false,
     "grade_id": "Task11_Desc3",
     "locked": true,
     "schema_version": 3,
     "solution": false,
     "task": false
    }
   }
  },
  {
   "cell_type": "code",
   "execution_count": 76,
   "source": [
    "%%time\n",
    "from xgboost import XGBClassifier\n",
    "\n",
    "xgb_model = XGBClassifier(n_estimators = 500,\n",
    "                          learning_rate = 0.05,\n",
    "                          early_stopping_rounds=5,\n",
    "                          random_state = 2,\n",
    "                          verbosity = 0)\n",
    "\n",
    "from sklearn.metrics import recall_score\n",
    "\n",
    "# Bundle preprocessing and modeling code in a pipeline\n",
    "xgb_pipeline = Pipeline(steps=[('preprocessor', preprocessor),\n",
    "                              ('model', xgb_model)\n",
    "                             ])\n",
    "\n",
    "# Preprocessing of training data, fit model \n",
    "xgb_pipeline.fit(X_train_selected, y_train)\n",
    "\n",
    "# Preprocessing of training data, get predictions\n",
    "preds_train = xgb_pipeline.predict(X_train_selected)\n",
    "\n",
    "# Evaluate the model - training\n",
    "score_train = recall_score(y_train, preds_train, average = None)[0]\n",
    "print('Recall on training data:', score_train)\n",
    "\n",
    "# Preprocessing of validation data, get predictions\n",
    "preds_valid = xgb_pipeline.predict(X_valid_selected)\n",
    "\n",
    "# Evaluate the model - validation\n",
    "score_valid = recall_score(y_valid, preds_valid, average = None)[0]\n",
    "print('Recall on validation data:', score_valid)"
   ],
   "outputs": [
    {
     "output_type": "stream",
     "name": "stdout",
     "text": [
      "Recall on training data: 0.9993098688750862\n",
      "Recall on validation data: 0.7669376693766937\n",
      "CPU times: user 1min 23s, sys: 10.1 s, total: 1min 33s\n",
      "Wall time: 1min 33s\n"
     ]
    }
   ],
   "metadata": {
    "deletable": false,
    "editable": false,
    "nbgrader": {
     "cell_type": "code",
     "checksum": "a121d9de81c891977b9ade4472acaa49",
     "grade": false,
     "grade_id": "Task11_Ans3",
     "locked": true,
     "schema_version": 3,
     "solution": false,
     "task": false
    }
   }
  },
  {
   "cell_type": "markdown",
   "source": [
    "**`n_jobs`**\n",
    "\n",
    "On larger datasets where runtime is a consideration, you can use parallelism to build your models faster. It's common to set the parameter n_jobs equal to the number of cores on your machine. On smaller datasets, this won't help.\n",
    "\n",
    "The resulting model won't be any better, so micro-optimizing for fitting time is typically nothing but a distraction. But, it's useful in large datasets where you would otherwise spend a long time waiting during the fit command.\n",
    "\n",
    "Here's the modified example:"
   ],
   "metadata": {
    "deletable": false,
    "editable": false,
    "nbgrader": {
     "cell_type": "markdown",
     "checksum": "f909b5bc300a61ada8382be4f86ea520",
     "grade": false,
     "grade_id": "Task11_Desc4",
     "locked": true,
     "schema_version": 3,
     "solution": false,
     "task": false
    }
   }
  },
  {
   "cell_type": "code",
   "execution_count": 77,
   "source": [
    "%%time\n",
    "from xgboost import XGBClassifier\n",
    "\n",
    "xgb_model = XGBClassifier(n_estimators = 500,\n",
    "                          learning_rate = 0.05,\n",
    "                          early_stopping_rounds=5,\n",
    "                          n_jobs = 4,\n",
    "                          random_state = 2,\n",
    "                          verbosity = 0)\n",
    "\n",
    "from sklearn.metrics import recall_score\n",
    "\n",
    "# Bundle preprocessing and modeling code in a pipeline\n",
    "xgb_pipeline = Pipeline(steps=[('preprocessor', preprocessor),\n",
    "                              ('model', xgb_model)\n",
    "                             ])\n",
    "\n",
    "# Preprocessing of training data, fit model \n",
    "xgb_pipeline.fit(X_train_selected, y_train)\n",
    "\n",
    "# Preprocessing of training data, get predictions\n",
    "preds_train = xgb_pipeline.predict(X_train_selected)\n",
    "\n",
    "# Evaluate the model - training\n",
    "score_train = recall_score(y_train, preds_train, average = None)[0]\n",
    "print('Recall on training data:', score_train)\n",
    "\n",
    "# Preprocessing of validation data, get predictions\n",
    "preds_valid = xgb_pipeline.predict(X_valid_selected)\n",
    "\n",
    "# Evaluate the model - validation\n",
    "score_valid = recall_score(y_valid, preds_valid, average = None)[0]\n",
    "print('Recall on validation data:', score_valid)"
   ],
   "outputs": [
    {
     "output_type": "stream",
     "name": "stdout",
     "text": [
      "Recall on training data: 0.9993098688750862\n",
      "Recall on validation data: 0.7669376693766937\n",
      "CPU times: user 58.7 s, sys: 4.42 s, total: 1min 3s\n",
      "Wall time: 1min 7s\n"
     ]
    }
   ],
   "metadata": {
    "deletable": false,
    "editable": false,
    "nbgrader": {
     "cell_type": "code",
     "checksum": "57299f852436312f45bc34ead5eb8527",
     "grade": false,
     "grade_id": "Task11_Ans4",
     "locked": true,
     "schema_version": 3,
     "solution": false,
     "task": false
    }
   }
  },
  {
   "cell_type": "markdown",
   "source": [
    "**`GridSearchCV`**\n",
    "\n",
    "Here I'm using GridSearchCV on the pipeline and training it on training set. \n",
    "\n",
    "I'm using 5-fold cross validation by passing the argument cv=5 in the GridSearchCV. \n",
    "\n",
    "The param_grid is the dictionary for the values of parameters that I want to compare. "
   ],
   "metadata": {
    "deletable": false,
    "editable": false,
    "nbgrader": {
     "cell_type": "markdown",
     "checksum": "334d2e1be4be1e799c3b232e18bfee43",
     "grade": false,
     "grade_id": "Task11_Desc5",
     "locked": true,
     "schema_version": 3,
     "solution": false,
     "task": false
    }
   }
  },
  {
   "cell_type": "code",
   "execution_count": 78,
   "source": [
    "%%time\n",
    "from xgboost import XGBClassifier\n",
    "\n",
    "xgb_model = XGBClassifier(early_stopping_rounds=5,\n",
    "                          n_jobs = 4,\n",
    "                          random_state = 2,\n",
    "                          verbosity = 0)\n",
    "\n",
    "from sklearn.metrics import recall_score\n",
    "\n",
    "# Bundle preprocessing and modeling code in a pipeline\n",
    "xgb_pipeline = Pipeline(steps=[('preprocessor', preprocessor),\n",
    "                              ('model', xgb_model)\n",
    "                             ])"
   ],
   "outputs": [
    {
     "output_type": "stream",
     "name": "stdout",
     "text": [
      "CPU times: user 2.59 ms, sys: 257 µs, total: 2.85 ms\n",
      "Wall time: 1.39 ms\n"
     ]
    }
   ],
   "metadata": {
    "deletable": false,
    "editable": false,
    "nbgrader": {
     "cell_type": "code",
     "checksum": "77a387b20ad5bb3742f79e6c8196e180",
     "grade": false,
     "grade_id": "Task11_Ans5",
     "locked": true,
     "schema_version": 3,
     "solution": false,
     "task": false
    }
   }
  },
  {
   "cell_type": "code",
   "execution_count": 79,
   "source": [
    "%%time\n",
    "from sklearn.model_selection import GridSearchCV\n",
    "\n",
    "param_grid = {\n",
    "    \"model__n_estimators\": [10, 50, 100, 500],\n",
    "    \"model__learning_rate\": [0.05, 0.1, 0.5, 1],\n",
    "}\n",
    "\n",
    "searchCV = GridSearchCV(xgb_pipeline, \n",
    "                        cv=5, \n",
    "                        param_grid=param_grid)\n",
    "\n",
    "searchCV.fit(X_train_selected, y_train)  "
   ],
   "outputs": [
    {
     "output_type": "stream",
     "name": "stdout",
     "text": [
      "CPU times: user 16min 26s, sys: 1min 1s, total: 17min 28s\n",
      "Wall time: 13min 41s\n"
     ]
    },
    {
     "output_type": "execute_result",
     "data": {
      "text/plain": [
       "GridSearchCV(cv=5, error_score=nan,\n",
       "             estimator=Pipeline(memory=None,\n",
       "                                steps=[('preprocessor',\n",
       "                                        ColumnTransformer(n_jobs=None,\n",
       "                                                          remainder='drop',\n",
       "                                                          sparse_threshold=0.3,\n",
       "                                                          transformer_weights=None,\n",
       "                                                          transformers=[('num_trf',\n",
       "                                                                         SimpleImputer(add_indicator=False,\n",
       "                                                                                       copy=True,\n",
       "                                                                                       fill_value=None,\n",
       "                                                                                       missing_values=nan,\n",
       "                                                                                       strategy='mean',\n",
       "                                                                                       verbose=0),\n",
       "                                                                         ['rally',\n",
       "                                                                          'speed',\n",
       "                                                                          'net.clearance',\n",
       "                                                                          'dist...\n",
       "                                                      random_state=2,\n",
       "                                                      reg_alpha=None,\n",
       "                                                      reg_lambda=None,\n",
       "                                                      scale_pos_weight=None,\n",
       "                                                      subsample=None,\n",
       "                                                      tree_method=None,\n",
       "                                                      validate_parameters=None,\n",
       "                                                      verbosity=0))],\n",
       "                                verbose=False),\n",
       "             iid='deprecated', n_jobs=None,\n",
       "             param_grid={'model__learning_rate': [0.05, 0.1, 0.5, 1],\n",
       "                         'model__n_estimators': [10, 50, 100, 500]},\n",
       "             pre_dispatch='2*n_jobs', refit=True, return_train_score=False,\n",
       "             scoring=None, verbose=0)"
      ]
     },
     "metadata": {},
     "execution_count": 79
    }
   ],
   "metadata": {
    "deletable": false,
    "editable": false,
    "nbgrader": {
     "cell_type": "code",
     "checksum": "c6e2d60e9f166227c86855fc2d567bd2",
     "grade": false,
     "grade_id": "Task11_Ans5_1",
     "locked": true,
     "schema_version": 3,
     "solution": false,
     "task": false
    }
   }
  },
  {
   "cell_type": "code",
   "execution_count": 80,
   "source": [
    "searchCV.best_params_"
   ],
   "outputs": [
    {
     "output_type": "execute_result",
     "data": {
      "text/plain": [
       "{'model__learning_rate': 0.1, 'model__n_estimators': 100}"
      ]
     },
     "metadata": {},
     "execution_count": 80
    }
   ],
   "metadata": {
    "deletable": false,
    "editable": false,
    "nbgrader": {
     "cell_type": "code",
     "checksum": "630a9fcf8d164a6993b6df1a6920d72f",
     "grade": false,
     "grade_id": "Task11_Ans5_2",
     "locked": true,
     "schema_version": 3,
     "solution": false,
     "task": false
    }
   }
  },
  {
   "cell_type": "code",
   "execution_count": 81,
   "source": [
    "searchCV.cv_results_['mean_test_score']"
   ],
   "outputs": [
    {
     "output_type": "execute_result",
     "data": {
      "text/plain": [
       "array([0.8496875 , 0.85890625, 0.86296875, 0.86796875, 0.85390625,\n",
       "       0.86515625, 0.8690625 , 0.8678125 , 0.86109375, 0.8646875 ,\n",
       "       0.864375  , 0.8653125 , 0.86015625, 0.8625    , 0.863125  ,\n",
       "       0.864375  ])"
      ]
     },
     "metadata": {},
     "execution_count": 81
    }
   ],
   "metadata": {
    "deletable": false,
    "editable": false,
    "nbgrader": {
     "cell_type": "code",
     "checksum": "8b607b83dfbc389483a9387058e4cc18",
     "grade": false,
     "grade_id": "Task11_Ans5_3",
     "locked": true,
     "schema_version": 3,
     "solution": false,
     "task": false
    }
   }
  },
  {
   "cell_type": "code",
   "execution_count": 82,
   "source": [
    "searchCV.cv_results_['mean_test_score'].mean()"
   ],
   "outputs": [
    {
     "output_type": "execute_result",
     "data": {
      "text/plain": [
       "0.862568359375"
      ]
     },
     "metadata": {},
     "execution_count": 82
    }
   ],
   "metadata": {
    "deletable": false,
    "editable": false,
    "nbgrader": {
     "cell_type": "code",
     "checksum": "16c7c49f71f3a3f1602212e7afa7d389",
     "grade": false,
     "grade_id": "Task11_Ans5_4",
     "locked": true,
     "schema_version": 3,
     "solution": false,
     "task": false
    }
   }
  },
  {
   "cell_type": "code",
   "execution_count": 83,
   "source": [
    "xgb_grid_model = searchCV.best_estimator_"
   ],
   "outputs": [],
   "metadata": {
    "deletable": false,
    "editable": false,
    "nbgrader": {
     "cell_type": "code",
     "checksum": "e54b23636266dfa9db3a3eec9be94098",
     "grade": false,
     "grade_id": "Task11_Ans5_5",
     "locked": true,
     "schema_version": 3,
     "solution": false,
     "task": false
    }
   }
  },
  {
   "cell_type": "code",
   "execution_count": 84,
   "source": [
    "# Preprocessing of training data, get predictions\n",
    "preds_train = xgb_grid_model.predict(X_train_selected)\n",
    "\n",
    "# Evaluate the model - training\n",
    "score_train = recall_score(y_train, preds_train, average = None)[0]\n",
    "print('Recall on training data:', score_train)\n",
    "\n",
    "# Preprocessing of validation data, get predictions\n",
    "preds_valid = xgb_grid_model.predict(X_valid_selected)\n",
    "\n",
    "# Evaluate the model - validation\n",
    "score_valid = recall_score(y_valid, preds_valid, average = None)[0]\n",
    "print('Recall on validation data:', score_valid)"
   ],
   "outputs": [
    {
     "output_type": "stream",
     "name": "stdout",
     "text": [
      "Recall on training data: 0.9461697722567288\n",
      "Recall on validation data: 0.7696476964769647\n"
     ]
    }
   ],
   "metadata": {
    "deletable": false,
    "editable": false,
    "nbgrader": {
     "cell_type": "code",
     "checksum": "d2bd48da1e9326abd5c19b43ca6b04e7",
     "grade": false,
     "grade_id": "Task11_Ans5_6",
     "locked": true,
     "schema_version": 3,
     "solution": false,
     "task": false
    }
   }
  },
  {
   "cell_type": "markdown",
   "source": [
    "### Build final model."
   ],
   "metadata": {
    "deletable": false,
    "editable": false,
    "nbgrader": {
     "cell_type": "markdown",
     "checksum": "232fef6b6f947c84357725ccd873622b",
     "grade": false,
     "grade_id": "Task12_Desc",
     "locked": true,
     "schema_version": 3,
     "solution": false,
     "task": false
    }
   }
  },
  {
   "cell_type": "code",
   "execution_count": 85,
   "source": [
    "print(X_train_selected.shape, X_valid_selected.shape)\n",
    "print(y_train.shape, y_valid.shape)"
   ],
   "outputs": [
    {
     "output_type": "stream",
     "name": "stdout",
     "text": [
      "(6400, 25) (1601, 25)\n",
      "(6400,) (1601,)\n"
     ]
    }
   ],
   "metadata": {
    "deletable": false,
    "editable": false,
    "nbgrader": {
     "cell_type": "code",
     "checksum": "bb965e950c93bf73a30ee0e37a1bfc53",
     "grade": false,
     "grade_id": "Task12_Ans1",
     "locked": true,
     "schema_version": 3,
     "solution": false,
     "task": false
    }
   }
  },
  {
   "cell_type": "code",
   "execution_count": 86,
   "source": [
    "X_train_all = pd.concat([X_train_selected, X_valid_selected])\n",
    "y_train_all = pd.concat([y_train, y_valid])\n",
    "\n",
    "print(X_train_all.shape, y_train_all.shape)"
   ],
   "outputs": [
    {
     "output_type": "stream",
     "name": "stdout",
     "text": [
      "(8001, 25) (8001,)\n"
     ]
    }
   ],
   "metadata": {
    "deletable": false,
    "editable": false,
    "nbgrader": {
     "cell_type": "code",
     "checksum": "76cd17932da2404e3b18a5f90ec8d47a",
     "grade": false,
     "grade_id": "Task12_Ans2",
     "locked": true,
     "schema_version": 3,
     "solution": false,
     "task": false
    }
   }
  },
  {
   "cell_type": "code",
   "execution_count": 87,
   "source": [
    "%%time \n",
    "final_y_train = y_train_all.astype('category')"
   ],
   "outputs": [
    {
     "output_type": "stream",
     "name": "stdout",
     "text": [
      "CPU times: user 432 µs, sys: 30 µs, total: 462 µs\n",
      "Wall time: 456 µs\n"
     ]
    }
   ],
   "metadata": {
    "deletable": false,
    "editable": false,
    "nbgrader": {
     "cell_type": "code",
     "checksum": "77ebfcc90ed6fea047e3abdaaee9fb5f",
     "grade": false,
     "grade_id": "Task12_Ans3",
     "locked": true,
     "schema_version": 3,
     "solution": false,
     "task": false
    }
   }
  },
  {
   "cell_type": "code",
   "execution_count": 88,
   "source": [
    "%%time\n",
    "from xgboost import XGBClassifier\n",
    "\n",
    "final_xgb_model = XGBClassifier(n_estimators = 500,\n",
    "                                learning_rate = 0.05,\n",
    "                                early_stopping_rounds=5,\n",
    "                                n_jobs = 4,\n",
    "                                random_state = 2,\n",
    "                                verbosity = 0)\n",
    "\n",
    "from sklearn.metrics import recall_score\n",
    "\n",
    "# Bundle preprocessing and modeling code in a pipeline\n",
    "xgb_pipeline_final = Pipeline(steps=[('preprocessor', preprocessor),\n",
    "                              ('model', final_xgb_model)\n",
    "                             ])\n",
    "\n",
    "# Preprocessing of training data, fit model \n",
    "xgb_pipeline_final.fit(X_train_all, final_y_train)\n",
    "\n",
    "# Preprocessing of training data, get predictions\n",
    "preds_train_final = xgb_pipeline_final.predict(X_train_all)\n",
    "\n",
    "# Evaluate the model - training\n",
    "score_train_final = recall_score(final_y_train, preds_train_final, average = None)[0]\n",
    "print('Recall on training data:', score_train_final)"
   ],
   "outputs": [
    {
     "output_type": "stream",
     "name": "stdout",
     "text": [
      "Recall on training data: 0.9966996699669967\n",
      "CPU times: user 38.7 s, sys: 78.2 ms, total: 38.8 s\n",
      "Wall time: 9.83 s\n"
     ]
    }
   ],
   "metadata": {
    "deletable": false,
    "editable": false,
    "nbgrader": {
     "cell_type": "code",
     "checksum": "1e928e735bb4207784f464971eb1ced1",
     "grade": false,
     "grade_id": "Task12_Ans4",
     "locked": true,
     "schema_version": 3,
     "solution": false,
     "task": false
    }
   }
  },
  {
   "cell_type": "markdown",
   "source": [
    "### Test predictions\n",
    "- Deriving the test predictions.\n",
    "- Writing the predictions to csv file in the prescribed format."
   ],
   "metadata": {
    "deletable": false,
    "editable": false,
    "nbgrader": {
     "cell_type": "markdown",
     "checksum": "7dd87ccf2a6b431b73f349b2f0b28cd9",
     "grade": false,
     "grade_id": "Task13_Desc",
     "locked": true,
     "schema_version": 3,
     "solution": false,
     "task": false
    }
   }
  },
  {
   "cell_type": "code",
   "execution_count": 89,
   "source": [
    "# Read Test data\n",
    "test_data = pd.read_csv(\"./test.csv\")\n",
    "test_data.head()"
   ],
   "outputs": [
    {
     "output_type": "execute_result",
     "data": {
      "text/html": [
       "<div>\n",
       "<style scoped>\n",
       "    .dataframe tbody tr th:only-of-type {\n",
       "        vertical-align: middle;\n",
       "    }\n",
       "\n",
       "    .dataframe tbody tr th {\n",
       "        vertical-align: top;\n",
       "    }\n",
       "\n",
       "    .dataframe thead th {\n",
       "        text-align: right;\n",
       "    }\n",
       "</style>\n",
       "<table border=\"1\" class=\"dataframe\">\n",
       "  <thead>\n",
       "    <tr style=\"text-align: right;\">\n",
       "      <th></th>\n",
       "      <th>rally</th>\n",
       "      <th>serve</th>\n",
       "      <th>hitpoint</th>\n",
       "      <th>speed</th>\n",
       "      <th>net.clearance</th>\n",
       "      <th>distance.from.sideline</th>\n",
       "      <th>depth</th>\n",
       "      <th>outside.sideline</th>\n",
       "      <th>outside.baseline</th>\n",
       "      <th>player.distance.travelled</th>\n",
       "      <th>...</th>\n",
       "      <th>previous.distance.from.sideline</th>\n",
       "      <th>previous.depth</th>\n",
       "      <th>opponent.depth</th>\n",
       "      <th>opponent.distance.from.center</th>\n",
       "      <th>same.side</th>\n",
       "      <th>previous.hitpoint</th>\n",
       "      <th>previous.time.to.net</th>\n",
       "      <th>server.is.impact.player</th>\n",
       "      <th>gender</th>\n",
       "      <th>ID</th>\n",
       "    </tr>\n",
       "  </thead>\n",
       "  <tbody>\n",
       "    <tr>\n",
       "      <th>0</th>\n",
       "      <td>3</td>\n",
       "      <td>1</td>\n",
       "      <td>F</td>\n",
       "      <td>39.270591</td>\n",
       "      <td>0.401144</td>\n",
       "      <td>1.170416</td>\n",
       "      <td>1.571232</td>\n",
       "      <td>False</td>\n",
       "      <td>False</td>\n",
       "      <td>5.192466</td>\n",
       "      <td>...</td>\n",
       "      <td>0.261617</td>\n",
       "      <td>6.989702</td>\n",
       "      <td>11.5324</td>\n",
       "      <td>4.3578</td>\n",
       "      <td>False</td>\n",
       "      <td>F</td>\n",
       "      <td>0.792983</td>\n",
       "      <td>True</td>\n",
       "      <td>womens</td>\n",
       "      <td>2</td>\n",
       "    </tr>\n",
       "    <tr>\n",
       "      <th>1</th>\n",
       "      <td>5</td>\n",
       "      <td>1</td>\n",
       "      <td>F</td>\n",
       "      <td>28.878268</td>\n",
       "      <td>1.301786</td>\n",
       "      <td>0.239005</td>\n",
       "      <td>3.369407</td>\n",
       "      <td>True</td>\n",
       "      <td>False</td>\n",
       "      <td>2.710977</td>\n",
       "      <td>...</td>\n",
       "      <td>1.639397</td>\n",
       "      <td>5.235990</td>\n",
       "      <td>12.5762</td>\n",
       "      <td>0.9430</td>\n",
       "      <td>False</td>\n",
       "      <td>B</td>\n",
       "      <td>0.488771</td>\n",
       "      <td>True</td>\n",
       "      <td>womens</td>\n",
       "      <td>42</td>\n",
       "    </tr>\n",
       "    <tr>\n",
       "      <th>2</th>\n",
       "      <td>5</td>\n",
       "      <td>1</td>\n",
       "      <td>B</td>\n",
       "      <td>29.198360</td>\n",
       "      <td>0.862787</td>\n",
       "      <td>1.717340</td>\n",
       "      <td>2.888382</td>\n",
       "      <td>True</td>\n",
       "      <td>False</td>\n",
       "      <td>1.971893</td>\n",
       "      <td>...</td>\n",
       "      <td>1.863926</td>\n",
       "      <td>2.181455</td>\n",
       "      <td>13.2846</td>\n",
       "      <td>1.2082</td>\n",
       "      <td>False</td>\n",
       "      <td>B</td>\n",
       "      <td>0.497612</td>\n",
       "      <td>True</td>\n",
       "      <td>womens</td>\n",
       "      <td>64</td>\n",
       "    </tr>\n",
       "    <tr>\n",
       "      <th>3</th>\n",
       "      <td>9</td>\n",
       "      <td>1</td>\n",
       "      <td>F</td>\n",
       "      <td>32.840471</td>\n",
       "      <td>-0.097965</td>\n",
       "      <td>0.835676</td>\n",
       "      <td>6.535893</td>\n",
       "      <td>False</td>\n",
       "      <td>False</td>\n",
       "      <td>3.125638</td>\n",
       "      <td>...</td>\n",
       "      <td>0.939371</td>\n",
       "      <td>4.667253</td>\n",
       "      <td>11.1782</td>\n",
       "      <td>1.8852</td>\n",
       "      <td>False</td>\n",
       "      <td>B</td>\n",
       "      <td>0.519849</td>\n",
       "      <td>True</td>\n",
       "      <td>womens</td>\n",
       "      <td>103</td>\n",
       "    </tr>\n",
       "    <tr>\n",
       "      <th>4</th>\n",
       "      <td>3</td>\n",
       "      <td>1</td>\n",
       "      <td>B</td>\n",
       "      <td>34.871165</td>\n",
       "      <td>0.360966</td>\n",
       "      <td>0.473438</td>\n",
       "      <td>2.123633</td>\n",
       "      <td>False</td>\n",
       "      <td>False</td>\n",
       "      <td>4.189340</td>\n",
       "      <td>...</td>\n",
       "      <td>1.608326</td>\n",
       "      <td>8.221293</td>\n",
       "      <td>11.9924</td>\n",
       "      <td>3.2314</td>\n",
       "      <td>False</td>\n",
       "      <td>F</td>\n",
       "      <td>1.132238</td>\n",
       "      <td>True</td>\n",
       "      <td>womens</td>\n",
       "      <td>106</td>\n",
       "    </tr>\n",
       "  </tbody>\n",
       "</table>\n",
       "<p>5 rows × 26 columns</p>\n",
       "</div>"
      ],
      "text/plain": [
       "   rally  serve hitpoint      speed  net.clearance  distance.from.sideline  \\\n",
       "0      3      1        F  39.270591       0.401144                1.170416   \n",
       "1      5      1        F  28.878268       1.301786                0.239005   \n",
       "2      5      1        B  29.198360       0.862787                1.717340   \n",
       "3      9      1        F  32.840471      -0.097965                0.835676   \n",
       "4      3      1        B  34.871165       0.360966                0.473438   \n",
       "\n",
       "      depth  outside.sideline  outside.baseline  player.distance.travelled  \\\n",
       "0  1.571232             False             False                   5.192466   \n",
       "1  3.369407              True             False                   2.710977   \n",
       "2  2.888382              True             False                   1.971893   \n",
       "3  6.535893             False             False                   3.125638   \n",
       "4  2.123633             False             False                   4.189340   \n",
       "\n",
       "   ...  previous.distance.from.sideline  previous.depth  opponent.depth  \\\n",
       "0  ...                         0.261617        6.989702         11.5324   \n",
       "1  ...                         1.639397        5.235990         12.5762   \n",
       "2  ...                         1.863926        2.181455         13.2846   \n",
       "3  ...                         0.939371        4.667253         11.1782   \n",
       "4  ...                         1.608326        8.221293         11.9924   \n",
       "\n",
       "   opponent.distance.from.center  same.side  previous.hitpoint  \\\n",
       "0                         4.3578      False                  F   \n",
       "1                         0.9430      False                  B   \n",
       "2                         1.2082      False                  B   \n",
       "3                         1.8852      False                  B   \n",
       "4                         3.2314      False                  F   \n",
       "\n",
       "   previous.time.to.net  server.is.impact.player  gender   ID  \n",
       "0              0.792983                     True  womens    2  \n",
       "1              0.488771                     True  womens   42  \n",
       "2              0.497612                     True  womens   64  \n",
       "3              0.519849                     True  womens  103  \n",
       "4              1.132238                     True  womens  106  \n",
       "\n",
       "[5 rows x 26 columns]"
      ]
     },
     "metadata": {},
     "execution_count": 89
    }
   ],
   "metadata": {
    "deletable": false,
    "editable": false,
    "nbgrader": {
     "cell_type": "code",
     "checksum": "2b8d8360376c19277443843bcfc75fc3",
     "grade": false,
     "grade_id": "Task13_Ans1",
     "locked": true,
     "schema_version": 3,
     "solution": false,
     "task": false
    }
   }
  },
  {
   "cell_type": "code",
   "execution_count": 90,
   "source": [
    "Final_X_test = test_data[cols_to_use]\n",
    "#\n",
    "test_pred = xgb_pipeline_final.predict(Final_X_test)"
   ],
   "outputs": [],
   "metadata": {
    "deletable": false,
    "editable": false,
    "nbgrader": {
     "cell_type": "code",
     "checksum": "5a6acc5e80994842f48309ce562f5c31",
     "grade": false,
     "grade_id": "Task13_Ans2",
     "locked": true,
     "schema_version": 3,
     "solution": false,
     "task": false
    }
   }
  },
  {
   "cell_type": "code",
   "execution_count": 91,
   "source": [
    "test_pred[0:10]"
   ],
   "outputs": [
    {
     "output_type": "execute_result",
     "data": {
      "text/plain": [
       "array(['W', 'UE', 'UE', 'FE', 'W', 'UE', 'UE', 'FE', 'UE', 'FE'],\n",
       "      dtype=object)"
      ]
     },
     "metadata": {},
     "execution_count": 91
    }
   ],
   "metadata": {
    "deletable": false,
    "editable": false,
    "nbgrader": {
     "cell_type": "code",
     "checksum": "9d83643ca1302484a71e4367e1db4d98",
     "grade": false,
     "grade_id": "Task13_Check1",
     "locked": true,
     "schema_version": 3,
     "solution": false,
     "task": false
    }
   }
  },
  {
   "cell_type": "code",
   "execution_count": 92,
   "source": [
    "submissions_df = pd.DataFrame({'ID': test_data.ID, 'outcome': test_pred})\n",
    "submissions_df.to_csv(\"test_predictions.csv\", index=None)\n",
    "submissions_df.head()"
   ],
   "outputs": [
    {
     "output_type": "execute_result",
     "data": {
      "text/html": [
       "<div>\n",
       "<style scoped>\n",
       "    .dataframe tbody tr th:only-of-type {\n",
       "        vertical-align: middle;\n",
       "    }\n",
       "\n",
       "    .dataframe tbody tr th {\n",
       "        vertical-align: top;\n",
       "    }\n",
       "\n",
       "    .dataframe thead th {\n",
       "        text-align: right;\n",
       "    }\n",
       "</style>\n",
       "<table border=\"1\" class=\"dataframe\">\n",
       "  <thead>\n",
       "    <tr style=\"text-align: right;\">\n",
       "      <th></th>\n",
       "      <th>ID</th>\n",
       "      <th>outcome</th>\n",
       "    </tr>\n",
       "  </thead>\n",
       "  <tbody>\n",
       "    <tr>\n",
       "      <th>0</th>\n",
       "      <td>2</td>\n",
       "      <td>W</td>\n",
       "    </tr>\n",
       "    <tr>\n",
       "      <th>1</th>\n",
       "      <td>42</td>\n",
       "      <td>UE</td>\n",
       "    </tr>\n",
       "    <tr>\n",
       "      <th>2</th>\n",
       "      <td>64</td>\n",
       "      <td>UE</td>\n",
       "    </tr>\n",
       "    <tr>\n",
       "      <th>3</th>\n",
       "      <td>103</td>\n",
       "      <td>FE</td>\n",
       "    </tr>\n",
       "    <tr>\n",
       "      <th>4</th>\n",
       "      <td>106</td>\n",
       "      <td>W</td>\n",
       "    </tr>\n",
       "  </tbody>\n",
       "</table>\n",
       "</div>"
      ],
      "text/plain": [
       "    ID outcome\n",
       "0    2       W\n",
       "1   42      UE\n",
       "2   64      UE\n",
       "3  103      FE\n",
       "4  106       W"
      ]
     },
     "metadata": {},
     "execution_count": 92
    }
   ],
   "metadata": {
    "deletable": false,
    "editable": false,
    "nbgrader": {
     "cell_type": "code",
     "checksum": "8f5bffef4e883f4c42d04fb8ff7613ad",
     "grade": false,
     "grade_id": "Task13_Check2",
     "locked": true,
     "schema_version": 3,
     "solution": false,
     "task": false
    }
   }
  },
  {
   "cell_type": "markdown",
   "source": [
    "## Partial dependency plots\n",
    "\n",
    "While feature importance shows what variables most affect predictions, partial dependence plots show how a feature affects predictions."
   ],
   "metadata": {
    "deletable": false,
    "editable": false,
    "nbgrader": {
     "cell_type": "markdown",
     "checksum": "35a901e94bfe87b83f5f840f1ce56782",
     "grade": false,
     "grade_id": "Part2_Desc",
     "locked": true,
     "schema_version": 3,
     "solution": false,
     "task": false
    }
   }
  },
  {
   "cell_type": "code",
   "execution_count": 94,
   "source": [
    "X_train_selected.dtypes"
   ],
   "outputs": [
    {
     "output_type": "execute_result",
     "data": {
      "text/plain": [
       "hitpoint                               object\n",
       "outside.sideline                         bool\n",
       "outside.baseline                         bool\n",
       "same.side                                bool\n",
       "previous.hitpoint                      object\n",
       "server.is.impact.player                  bool\n",
       "gender                                 object\n",
       "serve                                   int64\n",
       "rally                                   int64\n",
       "speed                                 float64\n",
       "net.clearance                         float64\n",
       "distance.from.sideline                float64\n",
       "depth                                 float64\n",
       "player.distance.travelled             float64\n",
       "player.impact.depth                   float64\n",
       "player.impact.distance.from.center    float64\n",
       "player.depth                          float64\n",
       "player.distance.from.center           float64\n",
       "previous.speed                        float64\n",
       "previous.net.clearance                float64\n",
       "previous.distance.from.sideline       float64\n",
       "previous.depth                        float64\n",
       "opponent.depth                        float64\n",
       "opponent.distance.from.center         float64\n",
       "previous.time.to.net                  float64\n",
       "dtype: object"
      ]
     },
     "metadata": {},
     "execution_count": 94
    }
   ],
   "metadata": {
    "deletable": false,
    "editable": false,
    "nbgrader": {
     "cell_type": "code",
     "checksum": "342aced0fc710e667ce816385c79c6fe",
     "grade": false,
     "grade_id": "Part2_Code1",
     "locked": true,
     "schema_version": 3,
     "solution": false,
     "task": false
    }
   }
  },
  {
   "cell_type": "code",
   "execution_count": 95,
   "source": [
    "import numpy as np\n",
    "import pandas as pd\n",
    "from sklearn.model_selection import train_test_split\n",
    "from sklearn.ensemble import RandomForestClassifier\n",
    "from sklearn.tree import DecisionTreeClassifier\n",
    "\n",
    "feature_names = [i for i in X_train_selected.columns if X_train_selected[i].dtype in ['int64', 'float64']]\n",
    "feature_names.remove('serve')\n",
    "#\n",
    "X_train_less = X_train_selected[feature_names]\n",
    "#\n",
    "val1 = X_train_less.speed.mean()\n",
    "val2 = X_train_less.depth.mean()\n",
    "#\n",
    "X_train_less.fillna({'speed': val1, \n",
    "               'depth': val2},\n",
    "              inplace = True)\n",
    "# X_less.isnull().sum()\n",
    "\n",
    "tree_model = DecisionTreeClassifier(random_state=0, \n",
    "                                    max_depth=5, \n",
    "                                    min_samples_split=5)\n",
    "tree_model.fit(X_train_less, y_train)"
   ],
   "outputs": [
    {
     "output_type": "execute_result",
     "data": {
      "text/plain": [
       "DecisionTreeClassifier(ccp_alpha=0.0, class_weight=None, criterion='gini',\n",
       "                       max_depth=5, max_features=None, max_leaf_nodes=None,\n",
       "                       min_impurity_decrease=0.0, min_impurity_split=None,\n",
       "                       min_samples_leaf=1, min_samples_split=5,\n",
       "                       min_weight_fraction_leaf=0.0, presort='deprecated',\n",
       "                       random_state=0, splitter='best')"
      ]
     },
     "metadata": {},
     "execution_count": 95
    }
   ],
   "metadata": {
    "deletable": false,
    "editable": false,
    "nbgrader": {
     "cell_type": "code",
     "checksum": "d93deba01ea63ab1c5e0672abb860aff",
     "grade": false,
     "grade_id": "Part2_Code2",
     "locked": true,
     "schema_version": 3,
     "solution": false,
     "task": false
    }
   }
  },
  {
   "cell_type": "code",
   "execution_count": 96,
   "source": [
    "feature_names"
   ],
   "outputs": [
    {
     "output_type": "execute_result",
     "data": {
      "text/plain": [
       "['rally',\n",
       " 'speed',\n",
       " 'net.clearance',\n",
       " 'distance.from.sideline',\n",
       " 'depth',\n",
       " 'player.distance.travelled',\n",
       " 'player.impact.depth',\n",
       " 'player.impact.distance.from.center',\n",
       " 'player.depth',\n",
       " 'player.distance.from.center',\n",
       " 'previous.speed',\n",
       " 'previous.net.clearance',\n",
       " 'previous.distance.from.sideline',\n",
       " 'previous.depth',\n",
       " 'opponent.depth',\n",
       " 'opponent.distance.from.center',\n",
       " 'previous.time.to.net']"
      ]
     },
     "metadata": {},
     "execution_count": 96
    }
   ],
   "metadata": {
    "deletable": false,
    "editable": false,
    "nbgrader": {
     "cell_type": "code",
     "checksum": "ac0ca3b4746c622cc84386c6a4b57356",
     "grade": false,
     "grade_id": "Part2_Code3",
     "locked": true,
     "schema_version": 3,
     "solution": false,
     "task": false
    }
   }
  },
  {
   "cell_type": "code",
   "execution_count": 97,
   "source": [
    "from sklearn import tree\n",
    "import graphviz\n",
    "\n",
    "tree_graph = tree.export_graphviz(tree_model, \n",
    "                                  out_file=None, \n",
    "                                  feature_names=feature_names)\n",
    "graphviz.Source(tree_graph)"
   ],
   "outputs": [
    {
     "output_type": "execute_result",
     "data": {
      "image/svg+xml": "<?xml version=\"1.0\" encoding=\"UTF-8\" standalone=\"no\"?>\n<!DOCTYPE svg PUBLIC \"-//W3C//DTD SVG 1.1//EN\"\n \"http://www.w3.org/Graphics/SVG/1.1/DTD/svg11.dtd\">\n<!-- Generated by graphviz version 2.40.1 (20161225.0304)\n -->\n<!-- Title: Tree Pages: 1 -->\n<svg width=\"4475pt\" height=\"581pt\"\n viewBox=\"0.00 0.00 4474.50 581.00\" xmlns=\"http://www.w3.org/2000/svg\" xmlns:xlink=\"http://www.w3.org/1999/xlink\">\n<g id=\"graph0\" class=\"graph\" transform=\"scale(1 1) rotate(0) translate(4 577)\">\n<title>Tree</title>\n<polygon fill=\"#ffffff\" stroke=\"transparent\" points=\"-4,4 -4,-577 4470.5,-577 4470.5,4 -4,4\"/>\n<!-- 0 -->\n<g id=\"node1\" class=\"node\">\n<title>0</title>\n<polygon fill=\"none\" stroke=\"#000000\" points=\"2295.5,-573 2128.5,-573 2128.5,-505 2295.5,-505 2295.5,-573\"/>\n<text text-anchor=\"middle\" x=\"2212\" y=\"-557.8\" font-family=\"Times,serif\" font-size=\"14.00\" fill=\"#000000\">net.clearance &lt;= 0.005</text>\n<text text-anchor=\"middle\" x=\"2212\" y=\"-542.8\" font-family=\"Times,serif\" font-size=\"14.00\" fill=\"#000000\">gini = 0.644</text>\n<text text-anchor=\"middle\" x=\"2212\" y=\"-527.8\" font-family=\"Times,serif\" font-size=\"14.00\" fill=\"#000000\">samples = 6400</text>\n<text text-anchor=\"middle\" x=\"2212\" y=\"-512.8\" font-family=\"Times,serif\" font-size=\"14.00\" fill=\"#000000\">value = [1449, 2811, 2140]</text>\n</g>\n<!-- 1 -->\n<g id=\"node2\" class=\"node\">\n<title>1</title>\n<polygon fill=\"none\" stroke=\"#000000\" points=\"1742.5,-469 1561.5,-469 1561.5,-401 1742.5,-401 1742.5,-469\"/>\n<text text-anchor=\"middle\" x=\"1652\" y=\"-453.8\" font-family=\"Times,serif\" font-size=\"14.00\" fill=\"#000000\">previous.time.to.net &lt;= 0.414</text>\n<text text-anchor=\"middle\" x=\"1652\" y=\"-438.8\" font-family=\"Times,serif\" font-size=\"14.00\" fill=\"#000000\">gini = 0.492</text>\n<text text-anchor=\"middle\" x=\"1652\" y=\"-423.8\" font-family=\"Times,serif\" font-size=\"14.00\" fill=\"#000000\">samples = 1763</text>\n<text text-anchor=\"middle\" x=\"1652\" y=\"-408.8\" font-family=\"Times,serif\" font-size=\"14.00\" fill=\"#000000\">value = [650, 1075, 38]</text>\n</g>\n<!-- 0&#45;&gt;1 -->\n<g id=\"edge1\" class=\"edge\">\n<title>0&#45;&gt;1</title>\n<path fill=\"none\" stroke=\"#000000\" d=\"M2128.4649,-523.4863C2028.0841,-504.8442 1859.7941,-473.5903 1752.4317,-453.6516\"/>\n<polygon fill=\"#000000\" stroke=\"#000000\" points=\"1753.0296,-450.2029 1742.5586,-451.818 1751.7514,-457.0852 1753.0296,-450.2029\"/>\n<text text-anchor=\"middle\" x=\"1756.7113\" y=\"-468.7263\" font-family=\"Times,serif\" font-size=\"14.00\" fill=\"#000000\">True</text>\n</g>\n<!-- 32 -->\n<g id=\"node33\" class=\"node\">\n<title>32</title>\n<polygon fill=\"none\" stroke=\"#000000\" points=\"2739,-469 2579,-469 2579,-401 2739,-401 2739,-469\"/>\n<text text-anchor=\"middle\" x=\"2659\" y=\"-453.8\" font-family=\"Times,serif\" font-size=\"14.00\" fill=\"#000000\">net.clearance &lt;= 0.66</text>\n<text text-anchor=\"middle\" x=\"2659\" y=\"-438.8\" font-family=\"Times,serif\" font-size=\"14.00\" fill=\"#000000\">gini = 0.625</text>\n<text text-anchor=\"middle\" x=\"2659\" y=\"-423.8\" font-family=\"Times,serif\" font-size=\"14.00\" fill=\"#000000\">samples = 4637</text>\n<text text-anchor=\"middle\" x=\"2659\" y=\"-408.8\" font-family=\"Times,serif\" font-size=\"14.00\" fill=\"#000000\">value = [799, 1736, 2102]</text>\n</g>\n<!-- 0&#45;&gt;32 -->\n<g id=\"edge32\" class=\"edge\">\n<title>0&#45;&gt;32</title>\n<path fill=\"none\" stroke=\"#000000\" d=\"M2295.5529,-519.5604C2373.3399,-501.4623 2488.9714,-474.5592 2568.8213,-455.9812\"/>\n<polygon fill=\"#000000\" stroke=\"#000000\" points=\"2569.918,-459.3196 2578.8647,-453.6445 2568.3317,-452.5017 2569.918,-459.3196\"/>\n<text text-anchor=\"middle\" x=\"2565.6528\" y=\"-471.1682\" font-family=\"Times,serif\" font-size=\"14.00\" fill=\"#000000\">False</text>\n</g>\n<!-- 2 -->\n<g id=\"node3\" class=\"node\">\n<title>2</title>\n<polygon fill=\"none\" stroke=\"#000000\" points=\"860.5,-365 727.5,-365 727.5,-297 860.5,-297 860.5,-365\"/>\n<text text-anchor=\"middle\" x=\"794\" y=\"-349.8\" font-family=\"Times,serif\" font-size=\"14.00\" fill=\"#000000\">speed &lt;= 28.767</text>\n<text text-anchor=\"middle\" x=\"794\" y=\"-334.8\" font-family=\"Times,serif\" font-size=\"14.00\" fill=\"#000000\">gini = 0.4</text>\n<text text-anchor=\"middle\" x=\"794\" y=\"-319.8\" font-family=\"Times,serif\" font-size=\"14.00\" fill=\"#000000\">samples = 423</text>\n<text text-anchor=\"middle\" x=\"794\" y=\"-304.8\" font-family=\"Times,serif\" font-size=\"14.00\" fill=\"#000000\">value = [311, 103, 9]</text>\n</g>\n<!-- 1&#45;&gt;2 -->\n<g id=\"edge2\" class=\"edge\">\n<title>1&#45;&gt;2</title>\n<path fill=\"none\" stroke=\"#000000\" d=\"M1561.3963,-424.0177C1391.8428,-403.4658 1029.4516,-359.5396 870.9228,-340.324\"/>\n<polygon fill=\"#000000\" stroke=\"#000000\" points=\"871.1283,-336.8234 860.7798,-339.0945 870.2859,-343.7725 871.1283,-336.8234\"/>\n</g>\n<!-- 17 -->\n<g id=\"node18\" class=\"node\">\n<title>17</title>\n<polygon fill=\"none\" stroke=\"#000000\" points=\"1773,-365 1531,-365 1531,-297 1773,-297 1773,-365\"/>\n<text text-anchor=\"middle\" x=\"1652\" y=\"-349.8\" font-family=\"Times,serif\" font-size=\"14.00\" fill=\"#000000\">previous.distance.from.sideline &lt;= 1.612</text>\n<text text-anchor=\"middle\" x=\"1652\" y=\"-334.8\" font-family=\"Times,serif\" font-size=\"14.00\" fill=\"#000000\">gini = 0.409</text>\n<text text-anchor=\"middle\" x=\"1652\" y=\"-319.8\" font-family=\"Times,serif\" font-size=\"14.00\" fill=\"#000000\">samples = 1340</text>\n<text text-anchor=\"middle\" x=\"1652\" y=\"-304.8\" font-family=\"Times,serif\" font-size=\"14.00\" fill=\"#000000\">value = [339, 972, 29]</text>\n</g>\n<!-- 1&#45;&gt;17 -->\n<g id=\"edge17\" class=\"edge\">\n<title>1&#45;&gt;17</title>\n<path fill=\"none\" stroke=\"#000000\" d=\"M1652,-400.9465C1652,-392.776 1652,-383.9318 1652,-375.3697\"/>\n<polygon fill=\"#000000\" stroke=\"#000000\" points=\"1655.5001,-375.13 1652,-365.13 1648.5001,-375.13 1655.5001,-375.13\"/>\n</g>\n<!-- 3 -->\n<g id=\"node4\" class=\"node\">\n<title>3</title>\n<polygon fill=\"none\" stroke=\"#000000\" points=\"519.5,-261 372.5,-261 372.5,-193 519.5,-193 519.5,-261\"/>\n<text text-anchor=\"middle\" x=\"446\" y=\"-245.8\" font-family=\"Times,serif\" font-size=\"14.00\" fill=\"#000000\">net.clearance &lt;= &#45;0.943</text>\n<text text-anchor=\"middle\" x=\"446\" y=\"-230.8\" font-family=\"Times,serif\" font-size=\"14.00\" fill=\"#000000\">gini = 0.207</text>\n<text text-anchor=\"middle\" x=\"446\" y=\"-215.8\" font-family=\"Times,serif\" font-size=\"14.00\" fill=\"#000000\">samples = 211</text>\n<text text-anchor=\"middle\" x=\"446\" y=\"-200.8\" font-family=\"Times,serif\" font-size=\"14.00\" fill=\"#000000\">value = [187, 17, 7]</text>\n</g>\n<!-- 2&#45;&gt;3 -->\n<g id=\"edge3\" class=\"edge\">\n<title>2&#45;&gt;3</title>\n<path fill=\"none\" stroke=\"#000000\" d=\"M727.3139,-311.0708C671.0416,-294.2538 590.2016,-270.0947 529.6084,-251.9864\"/>\n<polygon fill=\"#000000\" stroke=\"#000000\" points=\"530.2682,-248.5307 519.6847,-249.0207 528.2638,-255.2376 530.2682,-248.5307\"/>\n</g>\n<!-- 10 -->\n<g id=\"node11\" class=\"node\">\n<title>10</title>\n<polygon fill=\"none\" stroke=\"#000000\" points=\"896,-261 692,-261 692,-193 896,-193 896,-261\"/>\n<text text-anchor=\"middle\" x=\"794\" y=\"-245.8\" font-family=\"Times,serif\" font-size=\"14.00\" fill=\"#000000\">player.distance.travelled &lt;= 2.122</text>\n<text text-anchor=\"middle\" x=\"794\" y=\"-230.8\" font-family=\"Times,serif\" font-size=\"14.00\" fill=\"#000000\">gini = 0.493</text>\n<text text-anchor=\"middle\" x=\"794\" y=\"-215.8\" font-family=\"Times,serif\" font-size=\"14.00\" fill=\"#000000\">samples = 212</text>\n<text text-anchor=\"middle\" x=\"794\" y=\"-200.8\" font-family=\"Times,serif\" font-size=\"14.00\" fill=\"#000000\">value = [124, 86, 2]</text>\n</g>\n<!-- 2&#45;&gt;10 -->\n<g id=\"edge10\" class=\"edge\">\n<title>2&#45;&gt;10</title>\n<path fill=\"none\" stroke=\"#000000\" d=\"M794,-296.9465C794,-288.776 794,-279.9318 794,-271.3697\"/>\n<polygon fill=\"#000000\" stroke=\"#000000\" points=\"797.5001,-271.13 794,-261.13 790.5001,-271.13 797.5001,-271.13\"/>\n</g>\n<!-- 4 -->\n<g id=\"node5\" class=\"node\">\n<title>4</title>\n<polygon fill=\"none\" stroke=\"#000000\" points=\"309,-157 47,-157 47,-89 309,-89 309,-157\"/>\n<text text-anchor=\"middle\" x=\"178\" y=\"-141.8\" font-family=\"Times,serif\" font-size=\"14.00\" fill=\"#000000\">player.impact.distance.from.center &lt;= 1.421</text>\n<text text-anchor=\"middle\" x=\"178\" y=\"-126.8\" font-family=\"Times,serif\" font-size=\"14.00\" fill=\"#000000\">gini = 0.589</text>\n<text text-anchor=\"middle\" x=\"178\" y=\"-111.8\" font-family=\"Times,serif\" font-size=\"14.00\" fill=\"#000000\">samples = 25</text>\n<text text-anchor=\"middle\" x=\"178\" y=\"-96.8\" font-family=\"Times,serif\" font-size=\"14.00\" fill=\"#000000\">value = [14, 5, 6]</text>\n</g>\n<!-- 3&#45;&gt;4 -->\n<g id=\"edge4\" class=\"edge\">\n<title>3&#45;&gt;4</title>\n<path fill=\"none\" stroke=\"#000000\" d=\"M372.4133,-198.444C342.3726,-186.7864 307.2085,-173.1406 275.1077,-160.6836\"/>\n<polygon fill=\"#000000\" stroke=\"#000000\" points=\"276.2878,-157.3873 265.6989,-157.0324 273.7553,-163.9131 276.2878,-157.3873\"/>\n</g>\n<!-- 7 -->\n<g id=\"node8\" class=\"node\">\n<title>7</title>\n<polygon fill=\"none\" stroke=\"#000000\" points=\"564.5,-157 327.5,-157 327.5,-89 564.5,-89 564.5,-157\"/>\n<text text-anchor=\"middle\" x=\"446\" y=\"-141.8\" font-family=\"Times,serif\" font-size=\"14.00\" fill=\"#000000\">opponent.distance.from.center &lt;= 0.016</text>\n<text text-anchor=\"middle\" x=\"446\" y=\"-126.8\" font-family=\"Times,serif\" font-size=\"14.00\" fill=\"#000000\">gini = 0.131</text>\n<text text-anchor=\"middle\" x=\"446\" y=\"-111.8\" font-family=\"Times,serif\" font-size=\"14.00\" fill=\"#000000\">samples = 186</text>\n<text text-anchor=\"middle\" x=\"446\" y=\"-96.8\" font-family=\"Times,serif\" font-size=\"14.00\" fill=\"#000000\">value = [173, 12, 1]</text>\n</g>\n<!-- 3&#45;&gt;7 -->\n<g id=\"edge7\" class=\"edge\">\n<title>3&#45;&gt;7</title>\n<path fill=\"none\" stroke=\"#000000\" d=\"M446,-192.9465C446,-184.776 446,-175.9318 446,-167.3697\"/>\n<polygon fill=\"#000000\" stroke=\"#000000\" points=\"449.5001,-167.13 446,-157.13 442.5001,-167.13 449.5001,-167.13\"/>\n</g>\n<!-- 5 -->\n<g id=\"node6\" class=\"node\">\n<title>5</title>\n<polygon fill=\"none\" stroke=\"#000000\" points=\"106,-53 0,-53 0,0 106,0 106,-53\"/>\n<text text-anchor=\"middle\" x=\"53\" y=\"-37.8\" font-family=\"Times,serif\" font-size=\"14.00\" fill=\"#000000\">gini = 0.408</text>\n<text text-anchor=\"middle\" x=\"53\" y=\"-22.8\" font-family=\"Times,serif\" font-size=\"14.00\" fill=\"#000000\">samples = 7</text>\n<text text-anchor=\"middle\" x=\"53\" y=\"-7.8\" font-family=\"Times,serif\" font-size=\"14.00\" fill=\"#000000\">value = [0, 2, 5]</text>\n</g>\n<!-- 4&#45;&gt;5 -->\n<g id=\"edge5\" class=\"edge\">\n<title>4&#45;&gt;5</title>\n<path fill=\"none\" stroke=\"#000000\" d=\"M133.9297,-88.9777C121.4752,-79.3629 107.9485,-68.9203 95.5833,-59.3743\"/>\n<polygon fill=\"#000000\" stroke=\"#000000\" points=\"97.7028,-56.5889 87.6483,-53.2485 93.4251,-62.1299 97.7028,-56.5889\"/>\n</g>\n<!-- 6 -->\n<g id=\"node7\" class=\"node\">\n<title>6</title>\n<polygon fill=\"none\" stroke=\"#000000\" points=\"237.5,-53 124.5,-53 124.5,0 237.5,0 237.5,-53\"/>\n<text text-anchor=\"middle\" x=\"181\" y=\"-37.8\" font-family=\"Times,serif\" font-size=\"14.00\" fill=\"#000000\">gini = 0.364</text>\n<text text-anchor=\"middle\" x=\"181\" y=\"-22.8\" font-family=\"Times,serif\" font-size=\"14.00\" fill=\"#000000\">samples = 18</text>\n<text text-anchor=\"middle\" x=\"181\" y=\"-7.8\" font-family=\"Times,serif\" font-size=\"14.00\" fill=\"#000000\">value = [14, 3, 1]</text>\n</g>\n<!-- 4&#45;&gt;6 -->\n<g id=\"edge6\" class=\"edge\">\n<title>4&#45;&gt;6</title>\n<path fill=\"none\" stroke=\"#000000\" d=\"M179.0577,-88.9777C179.3139,-80.7364 179.589,-71.887 179.8493,-63.5153\"/>\n<polygon fill=\"#000000\" stroke=\"#000000\" points=\"183.3559,-63.3524 180.1684,-53.2485 176.3593,-63.1349 183.3559,-63.3524\"/>\n</g>\n<!-- 8 -->\n<g id=\"node9\" class=\"node\">\n<title>8</title>\n<polygon fill=\"none\" stroke=\"#000000\" points=\"365,-53 259,-53 259,0 365,0 365,-53\"/>\n<text text-anchor=\"middle\" x=\"312\" y=\"-37.8\" font-family=\"Times,serif\" font-size=\"14.00\" fill=\"#000000\">gini = 0.0</text>\n<text text-anchor=\"middle\" x=\"312\" y=\"-22.8\" font-family=\"Times,serif\" font-size=\"14.00\" fill=\"#000000\">samples = 1</text>\n<text text-anchor=\"middle\" x=\"312\" y=\"-7.8\" font-family=\"Times,serif\" font-size=\"14.00\" fill=\"#000000\">value = [0, 1, 0]</text>\n</g>\n<!-- 7&#45;&gt;8 -->\n<g id=\"edge8\" class=\"edge\">\n<title>7&#45;&gt;8</title>\n<path fill=\"none\" stroke=\"#000000\" d=\"M398.7566,-88.9777C385.2783,-79.2713 370.6285,-68.7213 357.2709,-59.1018\"/>\n<polygon fill=\"#000000\" stroke=\"#000000\" points=\"359.3031,-56.2522 349.143,-53.2485 355.2124,-61.9325 359.3031,-56.2522\"/>\n</g>\n<!-- 9 -->\n<g id=\"node10\" class=\"node\">\n<title>9</title>\n<polygon fill=\"none\" stroke=\"#000000\" points=\"509,-53 383,-53 383,0 509,0 509,-53\"/>\n<text text-anchor=\"middle\" x=\"446\" y=\"-37.8\" font-family=\"Times,serif\" font-size=\"14.00\" fill=\"#000000\">gini = 0.122</text>\n<text text-anchor=\"middle\" x=\"446\" y=\"-22.8\" font-family=\"Times,serif\" font-size=\"14.00\" fill=\"#000000\">samples = 185</text>\n<text text-anchor=\"middle\" x=\"446\" y=\"-7.8\" font-family=\"Times,serif\" font-size=\"14.00\" fill=\"#000000\">value = [173, 11, 1]</text>\n</g>\n<!-- 7&#45;&gt;9 -->\n<g id=\"edge9\" class=\"edge\">\n<title>7&#45;&gt;9</title>\n<path fill=\"none\" stroke=\"#000000\" d=\"M446,-88.9777C446,-80.7364 446,-71.887 446,-63.5153\"/>\n<polygon fill=\"#000000\" stroke=\"#000000\" points=\"449.5001,-63.2484 446,-53.2485 442.5001,-63.2485 449.5001,-63.2484\"/>\n</g>\n<!-- 11 -->\n<g id=\"node12\" class=\"node\">\n<title>11</title>\n<polygon fill=\"none\" stroke=\"#000000\" points=\"775,-157 613,-157 613,-89 775,-89 775,-157\"/>\n<text text-anchor=\"middle\" x=\"694\" y=\"-141.8\" font-family=\"Times,serif\" font-size=\"14.00\" fill=\"#000000\">opponent.depth &lt;= 11.277</text>\n<text text-anchor=\"middle\" x=\"694\" y=\"-126.8\" font-family=\"Times,serif\" font-size=\"14.00\" fill=\"#000000\">gini = 0.452</text>\n<text text-anchor=\"middle\" x=\"694\" y=\"-111.8\" font-family=\"Times,serif\" font-size=\"14.00\" fill=\"#000000\">samples = 87</text>\n<text text-anchor=\"middle\" x=\"694\" y=\"-96.8\" font-family=\"Times,serif\" font-size=\"14.00\" fill=\"#000000\">value = [28, 58, 1]</text>\n</g>\n<!-- 10&#45;&gt;11 -->\n<g id=\"edge11\" class=\"edge\">\n<title>10&#45;&gt;11</title>\n<path fill=\"none\" stroke=\"#000000\" d=\"M761.2563,-192.9465C752.5367,-183.8782 743.0191,-173.9799 733.9601,-164.5585\"/>\n<polygon fill=\"#000000\" stroke=\"#000000\" points=\"736.2713,-161.9125 726.8173,-157.13 731.2255,-166.7642 736.2713,-161.9125\"/>\n</g>\n<!-- 14 -->\n<g id=\"node15\" class=\"node\">\n<title>14</title>\n<polygon fill=\"none\" stroke=\"#000000\" points=\"997,-157 793,-157 793,-89 997,-89 997,-157\"/>\n<text text-anchor=\"middle\" x=\"895\" y=\"-141.8\" font-family=\"Times,serif\" font-size=\"14.00\" fill=\"#000000\">player.distance.travelled &lt;= 3.818</text>\n<text text-anchor=\"middle\" x=\"895\" y=\"-126.8\" font-family=\"Times,serif\" font-size=\"14.00\" fill=\"#000000\">gini = 0.36</text>\n<text text-anchor=\"middle\" x=\"895\" y=\"-111.8\" font-family=\"Times,serif\" font-size=\"14.00\" fill=\"#000000\">samples = 125</text>\n<text text-anchor=\"middle\" x=\"895\" y=\"-96.8\" font-family=\"Times,serif\" font-size=\"14.00\" fill=\"#000000\">value = [96, 28, 1]</text>\n</g>\n<!-- 10&#45;&gt;14 -->\n<g id=\"edge14\" class=\"edge\">\n<title>10&#45;&gt;14</title>\n<path fill=\"none\" stroke=\"#000000\" d=\"M827.0712,-192.9465C835.8779,-183.8782 845.4907,-173.9799 854.6403,-164.5585\"/>\n<polygon fill=\"#000000\" stroke=\"#000000\" points=\"857.3985,-166.7422 861.8545,-157.13 852.3768,-161.8654 857.3985,-166.7422\"/>\n</g>\n<!-- 12 -->\n<g id=\"node13\" class=\"node\">\n<title>12</title>\n<polygon fill=\"none\" stroke=\"#000000\" points=\"646.5,-53 527.5,-53 527.5,0 646.5,0 646.5,-53\"/>\n<text text-anchor=\"middle\" x=\"587\" y=\"-37.8\" font-family=\"Times,serif\" font-size=\"14.00\" fill=\"#000000\">gini = 0.511</text>\n<text text-anchor=\"middle\" x=\"587\" y=\"-22.8\" font-family=\"Times,serif\" font-size=\"14.00\" fill=\"#000000\">samples = 29</text>\n<text text-anchor=\"middle\" x=\"587\" y=\"-7.8\" font-family=\"Times,serif\" font-size=\"14.00\" fill=\"#000000\">value = [17, 11, 1]</text>\n</g>\n<!-- 11&#45;&gt;12 -->\n<g id=\"edge12\" class=\"edge\">\n<title>11&#45;&gt;12</title>\n<path fill=\"none\" stroke=\"#000000\" d=\"M656.2758,-88.9777C645.9194,-79.6376 634.6969,-69.5163 624.361,-60.1947\"/>\n<polygon fill=\"#000000\" stroke=\"#000000\" points=\"626.4291,-57.3467 616.6589,-53.2485 621.7409,-62.5449 626.4291,-57.3467\"/>\n</g>\n<!-- 13 -->\n<g id=\"node14\" class=\"node\">\n<title>13</title>\n<polygon fill=\"none\" stroke=\"#000000\" points=\"783.5,-53 664.5,-53 664.5,0 783.5,0 783.5,-53\"/>\n<text text-anchor=\"middle\" x=\"724\" y=\"-37.8\" font-family=\"Times,serif\" font-size=\"14.00\" fill=\"#000000\">gini = 0.307</text>\n<text text-anchor=\"middle\" x=\"724\" y=\"-22.8\" font-family=\"Times,serif\" font-size=\"14.00\" fill=\"#000000\">samples = 58</text>\n<text text-anchor=\"middle\" x=\"724\" y=\"-7.8\" font-family=\"Times,serif\" font-size=\"14.00\" fill=\"#000000\">value = [11, 47, 0]</text>\n</g>\n<!-- 11&#45;&gt;13 -->\n<g id=\"edge13\" class=\"edge\">\n<title>11&#45;&gt;13</title>\n<path fill=\"none\" stroke=\"#000000\" d=\"M704.5769,-88.9777C707.1959,-80.5533 710.0124,-71.4934 712.6659,-62.9579\"/>\n<polygon fill=\"#000000\" stroke=\"#000000\" points=\"716.0579,-63.8367 715.6844,-53.2485 709.3735,-61.7586 716.0579,-63.8367\"/>\n</g>\n<!-- 15 -->\n<g id=\"node16\" class=\"node\">\n<title>15</title>\n<polygon fill=\"none\" stroke=\"#000000\" points=\"920.5,-53 801.5,-53 801.5,0 920.5,0 920.5,-53\"/>\n<text text-anchor=\"middle\" x=\"861\" y=\"-37.8\" font-family=\"Times,serif\" font-size=\"14.00\" fill=\"#000000\">gini = 0.442</text>\n<text text-anchor=\"middle\" x=\"861\" y=\"-22.8\" font-family=\"Times,serif\" font-size=\"14.00\" fill=\"#000000\">samples = 79</text>\n<text text-anchor=\"middle\" x=\"861\" y=\"-7.8\" font-family=\"Times,serif\" font-size=\"14.00\" fill=\"#000000\">value = [53, 26, 0]</text>\n</g>\n<!-- 14&#45;&gt;15 -->\n<g id=\"edge15\" class=\"edge\">\n<title>14&#45;&gt;15</title>\n<path fill=\"none\" stroke=\"#000000\" d=\"M883.0129,-88.9777C880.0447,-80.5533 876.8526,-71.4934 873.8453,-62.9579\"/>\n<polygon fill=\"#000000\" stroke=\"#000000\" points=\"877.0486,-61.5171 870.4243,-53.2485 870.4464,-63.8433 877.0486,-61.5171\"/>\n</g>\n<!-- 16 -->\n<g id=\"node17\" class=\"node\">\n<title>16</title>\n<polygon fill=\"none\" stroke=\"#000000\" points=\"1051.5,-53 938.5,-53 938.5,0 1051.5,0 1051.5,-53\"/>\n<text text-anchor=\"middle\" x=\"995\" y=\"-37.8\" font-family=\"Times,serif\" font-size=\"14.00\" fill=\"#000000\">gini = 0.124</text>\n<text text-anchor=\"middle\" x=\"995\" y=\"-22.8\" font-family=\"Times,serif\" font-size=\"14.00\" fill=\"#000000\">samples = 46</text>\n<text text-anchor=\"middle\" x=\"995\" y=\"-7.8\" font-family=\"Times,serif\" font-size=\"14.00\" fill=\"#000000\">value = [43, 2, 1]</text>\n</g>\n<!-- 14&#45;&gt;16 -->\n<g id=\"edge16\" class=\"edge\">\n<title>14&#45;&gt;16</title>\n<path fill=\"none\" stroke=\"#000000\" d=\"M930.2563,-88.9777C939.9351,-79.6376 950.4235,-69.5163 960.0832,-60.1947\"/>\n<polygon fill=\"#000000\" stroke=\"#000000\" points=\"962.5159,-62.7111 967.2814,-53.2485 957.6551,-57.674 962.5159,-62.7111\"/>\n</g>\n<!-- 18 -->\n<g id=\"node19\" class=\"node\">\n<title>18</title>\n<polygon fill=\"none\" stroke=\"#000000\" points=\"1579.5,-261 1446.5,-261 1446.5,-193 1579.5,-193 1579.5,-261\"/>\n<text text-anchor=\"middle\" x=\"1513\" y=\"-245.8\" font-family=\"Times,serif\" font-size=\"14.00\" fill=\"#000000\">speed &lt;= 29.545</text>\n<text text-anchor=\"middle\" x=\"1513\" y=\"-230.8\" font-family=\"Times,serif\" font-size=\"14.00\" fill=\"#000000\">gini = 0.514</text>\n<text text-anchor=\"middle\" x=\"1513\" y=\"-215.8\" font-family=\"Times,serif\" font-size=\"14.00\" fill=\"#000000\">samples = 465</text>\n<text text-anchor=\"middle\" x=\"1513\" y=\"-200.8\" font-family=\"Times,serif\" font-size=\"14.00\" fill=\"#000000\">value = [234, 224, 7]</text>\n</g>\n<!-- 17&#45;&gt;18 -->\n<g id=\"edge18\" class=\"edge\">\n<title>17&#45;&gt;18</title>\n<path fill=\"none\" stroke=\"#000000\" d=\"M1606.4862,-296.9465C1593.766,-287.4293 1579.824,-276.9978 1566.6794,-267.163\"/>\n<polygon fill=\"#000000\" stroke=\"#000000\" points=\"1568.7198,-264.3184 1558.6161,-261.13 1564.5262,-269.9232 1568.7198,-264.3184\"/>\n</g>\n<!-- 25 -->\n<g id=\"node26\" class=\"node\">\n<title>25</title>\n<polygon fill=\"none\" stroke=\"#000000\" points=\"1845,-261 1705,-261 1705,-193 1845,-193 1845,-261\"/>\n<text text-anchor=\"middle\" x=\"1775\" y=\"-245.8\" font-family=\"Times,serif\" font-size=\"14.00\" fill=\"#000000\">speed &lt;= 28.146</text>\n<text text-anchor=\"middle\" x=\"1775\" y=\"-230.8\" font-family=\"Times,serif\" font-size=\"14.00\" fill=\"#000000\">gini = 0.254</text>\n<text text-anchor=\"middle\" x=\"1775\" y=\"-215.8\" font-family=\"Times,serif\" font-size=\"14.00\" fill=\"#000000\">samples = 875</text>\n<text text-anchor=\"middle\" x=\"1775\" y=\"-200.8\" font-family=\"Times,serif\" font-size=\"14.00\" fill=\"#000000\">value = [105, 748, 22]</text>\n</g>\n<!-- 17&#45;&gt;25 -->\n<g id=\"edge25\" class=\"edge\">\n<title>17&#45;&gt;25</title>\n<path fill=\"none\" stroke=\"#000000\" d=\"M1692.2748,-296.9465C1703.3184,-287.6088 1715.4028,-277.3911 1726.8404,-267.7203\"/>\n<polygon fill=\"#000000\" stroke=\"#000000\" points=\"1729.2583,-270.2594 1734.6347,-261.13 1724.7386,-264.914 1729.2583,-270.2594\"/>\n</g>\n<!-- 19 -->\n<g id=\"node20\" class=\"node\">\n<title>19</title>\n<polygon fill=\"none\" stroke=\"#000000\" points=\"1364.5,-157 1183.5,-157 1183.5,-89 1364.5,-89 1364.5,-157\"/>\n<text text-anchor=\"middle\" x=\"1274\" y=\"-141.8\" font-family=\"Times,serif\" font-size=\"14.00\" fill=\"#000000\">previous.time.to.net &lt;= 0.558</text>\n<text text-anchor=\"middle\" x=\"1274\" y=\"-126.8\" font-family=\"Times,serif\" font-size=\"14.00\" fill=\"#000000\">gini = 0.435</text>\n<text text-anchor=\"middle\" x=\"1274\" y=\"-111.8\" font-family=\"Times,serif\" font-size=\"14.00\" fill=\"#000000\">samples = 210</text>\n<text text-anchor=\"middle\" x=\"1274\" y=\"-96.8\" font-family=\"Times,serif\" font-size=\"14.00\" fill=\"#000000\">value = [146, 60, 4]</text>\n</g>\n<!-- 18&#45;&gt;19 -->\n<g id=\"edge19\" class=\"edge\">\n<title>18&#45;&gt;19</title>\n<path fill=\"none\" stroke=\"#000000\" d=\"M1446.4252,-198.0302C1420.2415,-186.6365 1389.8095,-173.3941 1361.8647,-161.234\"/>\n<polygon fill=\"#000000\" stroke=\"#000000\" points=\"1363.0589,-157.9367 1352.4928,-157.1559 1360.2658,-164.3553 1363.0589,-157.9367\"/>\n</g>\n<!-- 22 -->\n<g id=\"node23\" class=\"node\">\n<title>22</title>\n<polygon fill=\"none\" stroke=\"#000000\" points=\"1603.5,-157 1422.5,-157 1422.5,-89 1603.5,-89 1603.5,-157\"/>\n<text text-anchor=\"middle\" x=\"1513\" y=\"-141.8\" font-family=\"Times,serif\" font-size=\"14.00\" fill=\"#000000\">previous.time.to.net &lt;= 0.473</text>\n<text text-anchor=\"middle\" x=\"1513\" y=\"-126.8\" font-family=\"Times,serif\" font-size=\"14.00\" fill=\"#000000\">gini = 0.467</text>\n<text text-anchor=\"middle\" x=\"1513\" y=\"-111.8\" font-family=\"Times,serif\" font-size=\"14.00\" fill=\"#000000\">samples = 255</text>\n<text text-anchor=\"middle\" x=\"1513\" y=\"-96.8\" font-family=\"Times,serif\" font-size=\"14.00\" fill=\"#000000\">value = [88, 164, 3]</text>\n</g>\n<!-- 18&#45;&gt;22 -->\n<g id=\"edge22\" class=\"edge\">\n<title>18&#45;&gt;22</title>\n<path fill=\"none\" stroke=\"#000000\" d=\"M1513,-192.9465C1513,-184.776 1513,-175.9318 1513,-167.3697\"/>\n<polygon fill=\"#000000\" stroke=\"#000000\" points=\"1516.5001,-167.13 1513,-157.13 1509.5001,-167.13 1516.5001,-167.13\"/>\n</g>\n<!-- 20 -->\n<g id=\"node21\" class=\"node\">\n<title>20</title>\n<polygon fill=\"none\" stroke=\"#000000\" points=\"1196,-53 1070,-53 1070,0 1196,0 1196,-53\"/>\n<text text-anchor=\"middle\" x=\"1133\" y=\"-37.8\" font-family=\"Times,serif\" font-size=\"14.00\" fill=\"#000000\">gini = 0.324</text>\n<text text-anchor=\"middle\" x=\"1133\" y=\"-22.8\" font-family=\"Times,serif\" font-size=\"14.00\" fill=\"#000000\">samples = 141</text>\n<text text-anchor=\"middle\" x=\"1133\" y=\"-7.8\" font-family=\"Times,serif\" font-size=\"14.00\" fill=\"#000000\">value = [113, 26, 2]</text>\n</g>\n<!-- 19&#45;&gt;20 -->\n<g id=\"edge20\" class=\"edge\">\n<title>19&#45;&gt;20</title>\n<path fill=\"none\" stroke=\"#000000\" d=\"M1224.2887,-88.9777C1210.1063,-79.2713 1194.6912,-68.7213 1180.6358,-59.1018\"/>\n<polygon fill=\"#000000\" stroke=\"#000000\" points=\"1182.3124,-56.0081 1172.0833,-53.2485 1178.3589,-61.7847 1182.3124,-56.0081\"/>\n</g>\n<!-- 21 -->\n<g id=\"node22\" class=\"node\">\n<title>21</title>\n<polygon fill=\"none\" stroke=\"#000000\" points=\"1333.5,-53 1214.5,-53 1214.5,0 1333.5,0 1333.5,-53\"/>\n<text text-anchor=\"middle\" x=\"1274\" y=\"-37.8\" font-family=\"Times,serif\" font-size=\"14.00\" fill=\"#000000\">gini = 0.528</text>\n<text text-anchor=\"middle\" x=\"1274\" y=\"-22.8\" font-family=\"Times,serif\" font-size=\"14.00\" fill=\"#000000\">samples = 69</text>\n<text text-anchor=\"middle\" x=\"1274\" y=\"-7.8\" font-family=\"Times,serif\" font-size=\"14.00\" fill=\"#000000\">value = [33, 34, 2]</text>\n</g>\n<!-- 19&#45;&gt;21 -->\n<g id=\"edge21\" class=\"edge\">\n<title>19&#45;&gt;21</title>\n<path fill=\"none\" stroke=\"#000000\" d=\"M1274,-88.9777C1274,-80.7364 1274,-71.887 1274,-63.5153\"/>\n<polygon fill=\"#000000\" stroke=\"#000000\" points=\"1277.5001,-63.2484 1274,-53.2485 1270.5001,-63.2485 1277.5001,-63.2484\"/>\n</g>\n<!-- 23 -->\n<g id=\"node24\" class=\"node\">\n<title>23</title>\n<polygon fill=\"none\" stroke=\"#000000\" points=\"1470.5,-53 1351.5,-53 1351.5,0 1470.5,0 1470.5,-53\"/>\n<text text-anchor=\"middle\" x=\"1411\" y=\"-37.8\" font-family=\"Times,serif\" font-size=\"14.00\" fill=\"#000000\">gini = 0.469</text>\n<text text-anchor=\"middle\" x=\"1411\" y=\"-22.8\" font-family=\"Times,serif\" font-size=\"14.00\" fill=\"#000000\">samples = 72</text>\n<text text-anchor=\"middle\" x=\"1411\" y=\"-7.8\" font-family=\"Times,serif\" font-size=\"14.00\" fill=\"#000000\">value = [45, 27, 0]</text>\n</g>\n<!-- 22&#45;&gt;23 -->\n<g id=\"edge23\" class=\"edge\">\n<title>22&#45;&gt;23</title>\n<path fill=\"none\" stroke=\"#000000\" d=\"M1477.0386,-88.9777C1467.1662,-79.6376 1456.468,-69.5163 1446.6151,-60.1947\"/>\n<polygon fill=\"#000000\" stroke=\"#000000\" points=\"1448.9426,-57.5785 1439.273,-53.2485 1444.1318,-62.6635 1448.9426,-57.5785\"/>\n</g>\n<!-- 24 -->\n<g id=\"node25\" class=\"node\">\n<title>24</title>\n<polygon fill=\"none\" stroke=\"#000000\" points=\"1615,-53 1489,-53 1489,0 1615,0 1615,-53\"/>\n<text text-anchor=\"middle\" x=\"1552\" y=\"-37.8\" font-family=\"Times,serif\" font-size=\"14.00\" fill=\"#000000\">gini = 0.384</text>\n<text text-anchor=\"middle\" x=\"1552\" y=\"-22.8\" font-family=\"Times,serif\" font-size=\"14.00\" fill=\"#000000\">samples = 183</text>\n<text text-anchor=\"middle\" x=\"1552\" y=\"-7.8\" font-family=\"Times,serif\" font-size=\"14.00\" fill=\"#000000\">value = [43, 137, 3]</text>\n</g>\n<!-- 22&#45;&gt;24 -->\n<g id=\"edge24\" class=\"edge\">\n<title>22&#45;&gt;24</title>\n<path fill=\"none\" stroke=\"#000000\" d=\"M1526.7499,-88.9777C1530.1916,-80.4617 1533.8958,-71.2963 1537.3781,-62.6798\"/>\n<polygon fill=\"#000000\" stroke=\"#000000\" points=\"1540.6877,-63.8314 1541.1897,-53.2485 1534.1976,-61.2085 1540.6877,-63.8314\"/>\n</g>\n<!-- 26 -->\n<g id=\"node27\" class=\"node\">\n<title>26</title>\n<polygon fill=\"none\" stroke=\"#000000\" points=\"1865.5,-157 1684.5,-157 1684.5,-89 1865.5,-89 1865.5,-157\"/>\n<text text-anchor=\"middle\" x=\"1775\" y=\"-141.8\" font-family=\"Times,serif\" font-size=\"14.00\" fill=\"#000000\">previous.time.to.net &lt;= 0.572</text>\n<text text-anchor=\"middle\" x=\"1775\" y=\"-126.8\" font-family=\"Times,serif\" font-size=\"14.00\" fill=\"#000000\">gini = 0.478</text>\n<text text-anchor=\"middle\" x=\"1775\" y=\"-111.8\" font-family=\"Times,serif\" font-size=\"14.00\" fill=\"#000000\">samples = 207</text>\n<text text-anchor=\"middle\" x=\"1775\" y=\"-96.8\" font-family=\"Times,serif\" font-size=\"14.00\" fill=\"#000000\">value = [74, 130, 3]</text>\n</g>\n<!-- 25&#45;&gt;26 -->\n<g id=\"edge26\" class=\"edge\">\n<title>25&#45;&gt;26</title>\n<path fill=\"none\" stroke=\"#000000\" d=\"M1775,-192.9465C1775,-184.776 1775,-175.9318 1775,-167.3697\"/>\n<polygon fill=\"#000000\" stroke=\"#000000\" points=\"1778.5001,-167.13 1775,-157.13 1771.5001,-167.13 1778.5001,-167.13\"/>\n</g>\n<!-- 29 -->\n<g id=\"node30\" class=\"node\">\n<title>29</title>\n<polygon fill=\"none\" stroke=\"#000000\" points=\"2040.5,-157 1907.5,-157 1907.5,-89 2040.5,-89 2040.5,-157\"/>\n<text text-anchor=\"middle\" x=\"1974\" y=\"-141.8\" font-family=\"Times,serif\" font-size=\"14.00\" fill=\"#000000\">depth &lt;= 11.817</text>\n<text text-anchor=\"middle\" x=\"1974\" y=\"-126.8\" font-family=\"Times,serif\" font-size=\"14.00\" fill=\"#000000\">gini = 0.141</text>\n<text text-anchor=\"middle\" x=\"1974\" y=\"-111.8\" font-family=\"Times,serif\" font-size=\"14.00\" fill=\"#000000\">samples = 668</text>\n<text text-anchor=\"middle\" x=\"1974\" y=\"-96.8\" font-family=\"Times,serif\" font-size=\"14.00\" fill=\"#000000\">value = [31, 618, 19]</text>\n</g>\n<!-- 25&#45;&gt;29 -->\n<g id=\"edge29\" class=\"edge\">\n<title>25&#45;&gt;29</title>\n<path fill=\"none\" stroke=\"#000000\" d=\"M1840.16,-192.9465C1859.2299,-182.9803 1880.218,-172.0117 1899.8048,-161.7754\"/>\n<polygon fill=\"#000000\" stroke=\"#000000\" points=\"1901.452,-164.8637 1908.6936,-157.13 1898.2098,-158.6599 1901.452,-164.8637\"/>\n</g>\n<!-- 27 -->\n<g id=\"node28\" class=\"node\">\n<title>27</title>\n<polygon fill=\"none\" stroke=\"#000000\" points=\"1752.5,-53 1633.5,-53 1633.5,0 1752.5,0 1752.5,-53\"/>\n<text text-anchor=\"middle\" x=\"1693\" y=\"-37.8\" font-family=\"Times,serif\" font-size=\"14.00\" fill=\"#000000\">gini = 0.523</text>\n<text text-anchor=\"middle\" x=\"1693\" y=\"-22.8\" font-family=\"Times,serif\" font-size=\"14.00\" fill=\"#000000\">samples = 122</text>\n<text text-anchor=\"middle\" x=\"1693\" y=\"-7.8\" font-family=\"Times,serif\" font-size=\"14.00\" fill=\"#000000\">value = [58, 61, 3]</text>\n</g>\n<!-- 26&#45;&gt;27 -->\n<g id=\"edge27\" class=\"edge\">\n<title>26&#45;&gt;27</title>\n<path fill=\"none\" stroke=\"#000000\" d=\"M1746.0899,-88.9777C1738.3866,-79.9123 1730.0581,-70.111 1722.3324,-61.0192\"/>\n<polygon fill=\"#000000\" stroke=\"#000000\" points=\"1724.8718,-58.6025 1715.7293,-53.2485 1719.5375,-63.1352 1724.8718,-58.6025\"/>\n</g>\n<!-- 28 -->\n<g id=\"node29\" class=\"node\">\n<title>28</title>\n<polygon fill=\"none\" stroke=\"#000000\" points=\"1889.5,-53 1770.5,-53 1770.5,0 1889.5,0 1889.5,-53\"/>\n<text text-anchor=\"middle\" x=\"1830\" y=\"-37.8\" font-family=\"Times,serif\" font-size=\"14.00\" fill=\"#000000\">gini = 0.306</text>\n<text text-anchor=\"middle\" x=\"1830\" y=\"-22.8\" font-family=\"Times,serif\" font-size=\"14.00\" fill=\"#000000\">samples = 85</text>\n<text text-anchor=\"middle\" x=\"1830\" y=\"-7.8\" font-family=\"Times,serif\" font-size=\"14.00\" fill=\"#000000\">value = [16, 69, 0]</text>\n</g>\n<!-- 26&#45;&gt;28 -->\n<g id=\"edge28\" class=\"edge\">\n<title>26&#45;&gt;28</title>\n<path fill=\"none\" stroke=\"#000000\" d=\"M1794.3909,-88.9777C1799.349,-80.2786 1804.6933,-70.9018 1809.6958,-62.1247\"/>\n<polygon fill=\"#000000\" stroke=\"#000000\" points=\"1812.8438,-63.6696 1814.7548,-53.2485 1806.7622,-60.2033 1812.8438,-63.6696\"/>\n</g>\n<!-- 30 -->\n<g id=\"node31\" class=\"node\">\n<title>30</title>\n<polygon fill=\"none\" stroke=\"#000000\" points=\"2040.5,-53 1907.5,-53 1907.5,0 2040.5,0 2040.5,-53\"/>\n<text text-anchor=\"middle\" x=\"1974\" y=\"-37.8\" font-family=\"Times,serif\" font-size=\"14.00\" fill=\"#000000\">gini = 0.126</text>\n<text text-anchor=\"middle\" x=\"1974\" y=\"-22.8\" font-family=\"Times,serif\" font-size=\"14.00\" fill=\"#000000\">samples = 660</text>\n<text text-anchor=\"middle\" x=\"1974\" y=\"-7.8\" font-family=\"Times,serif\" font-size=\"14.00\" fill=\"#000000\">value = [31, 616, 13]</text>\n</g>\n<!-- 29&#45;&gt;30 -->\n<g id=\"edge30\" class=\"edge\">\n<title>29&#45;&gt;30</title>\n<path fill=\"none\" stroke=\"#000000\" d=\"M1974,-88.9777C1974,-80.7364 1974,-71.887 1974,-63.5153\"/>\n<polygon fill=\"#000000\" stroke=\"#000000\" points=\"1977.5001,-63.2484 1974,-53.2485 1970.5001,-63.2485 1977.5001,-63.2484\"/>\n</g>\n<!-- 31 -->\n<g id=\"node32\" class=\"node\">\n<title>31</title>\n<polygon fill=\"none\" stroke=\"#000000\" points=\"2165,-53 2059,-53 2059,0 2165,0 2165,-53\"/>\n<text text-anchor=\"middle\" x=\"2112\" y=\"-37.8\" font-family=\"Times,serif\" font-size=\"14.00\" fill=\"#000000\">gini = 0.375</text>\n<text text-anchor=\"middle\" x=\"2112\" y=\"-22.8\" font-family=\"Times,serif\" font-size=\"14.00\" fill=\"#000000\">samples = 8</text>\n<text text-anchor=\"middle\" x=\"2112\" y=\"-7.8\" font-family=\"Times,serif\" font-size=\"14.00\" fill=\"#000000\">value = [0, 2, 6]</text>\n</g>\n<!-- 29&#45;&gt;31 -->\n<g id=\"edge31\" class=\"edge\">\n<title>29&#45;&gt;31</title>\n<path fill=\"none\" stroke=\"#000000\" d=\"M2022.6536,-88.9777C2036.5343,-79.2713 2051.6214,-68.7213 2065.3777,-59.1018\"/>\n<polygon fill=\"#000000\" stroke=\"#000000\" points=\"2067.5589,-61.8475 2073.7483,-53.2485 2063.5474,-56.1109 2067.5589,-61.8475\"/>\n</g>\n<!-- 33 -->\n<g id=\"node34\" class=\"node\">\n<title>33</title>\n<polygon fill=\"none\" stroke=\"#000000\" points=\"2738.5,-365 2579.5,-365 2579.5,-297 2738.5,-297 2738.5,-365\"/>\n<text text-anchor=\"middle\" x=\"2659\" y=\"-349.8\" font-family=\"Times,serif\" font-size=\"14.00\" fill=\"#000000\">previous.speed &lt;= 26.876</text>\n<text text-anchor=\"middle\" x=\"2659\" y=\"-334.8\" font-family=\"Times,serif\" font-size=\"14.00\" fill=\"#000000\">gini = 0.38</text>\n<text text-anchor=\"middle\" x=\"2659\" y=\"-319.8\" font-family=\"Times,serif\" font-size=\"14.00\" fill=\"#000000\">samples = 2191</text>\n<text text-anchor=\"middle\" x=\"2659\" y=\"-304.8\" font-family=\"Times,serif\" font-size=\"14.00\" fill=\"#000000\">value = [127, 387, 1677]</text>\n</g>\n<!-- 32&#45;&gt;33 -->\n<g id=\"edge33\" class=\"edge\">\n<title>32&#45;&gt;33</title>\n<path fill=\"none\" stroke=\"#000000\" d=\"M2659,-400.9465C2659,-392.776 2659,-383.9318 2659,-375.3697\"/>\n<polygon fill=\"#000000\" stroke=\"#000000\" points=\"2662.5001,-375.13 2659,-365.13 2655.5001,-375.13 2662.5001,-375.13\"/>\n</g>\n<!-- 48 -->\n<g id=\"node49\" class=\"node\">\n<title>48</title>\n<polygon fill=\"none\" stroke=\"#000000\" points=\"3679.5,-365 3498.5,-365 3498.5,-297 3679.5,-297 3679.5,-365\"/>\n<text text-anchor=\"middle\" x=\"3589\" y=\"-349.8\" font-family=\"Times,serif\" font-size=\"14.00\" fill=\"#000000\">previous.time.to.net &lt;= 0.415</text>\n<text text-anchor=\"middle\" x=\"3589\" y=\"-334.8\" font-family=\"Times,serif\" font-size=\"14.00\" fill=\"#000000\">gini = 0.59</text>\n<text text-anchor=\"middle\" x=\"3589\" y=\"-319.8\" font-family=\"Times,serif\" font-size=\"14.00\" fill=\"#000000\">samples = 2446</text>\n<text text-anchor=\"middle\" x=\"3589\" y=\"-304.8\" font-family=\"Times,serif\" font-size=\"14.00\" fill=\"#000000\">value = [672, 1349, 425]</text>\n</g>\n<!-- 32&#45;&gt;48 -->\n<g id=\"edge48\" class=\"edge\">\n<title>32&#45;&gt;48</title>\n<path fill=\"none\" stroke=\"#000000\" d=\"M2739.0962,-426.043C2908.3643,-407.1141 3302.1332,-363.0797 3488.1892,-342.2735\"/>\n<polygon fill=\"#000000\" stroke=\"#000000\" points=\"3488.6961,-345.7387 3498.2452,-341.1489 3487.9181,-338.782 3488.6961,-345.7387\"/>\n</g>\n<!-- 34 -->\n<g id=\"node35\" class=\"node\">\n<title>34</title>\n<polygon fill=\"none\" stroke=\"#000000\" points=\"2680,-261 2488,-261 2488,-193 2680,-193 2680,-261\"/>\n<text text-anchor=\"middle\" x=\"2584\" y=\"-245.8\" font-family=\"Times,serif\" font-size=\"14.00\" fill=\"#000000\">distance.from.sideline &lt;= 0.366</text>\n<text text-anchor=\"middle\" x=\"2584\" y=\"-230.8\" font-family=\"Times,serif\" font-size=\"14.00\" fill=\"#000000\">gini = 0.234</text>\n<text text-anchor=\"middle\" x=\"2584\" y=\"-215.8\" font-family=\"Times,serif\" font-size=\"14.00\" fill=\"#000000\">samples = 1213</text>\n<text text-anchor=\"middle\" x=\"2584\" y=\"-200.8\" font-family=\"Times,serif\" font-size=\"14.00\" fill=\"#000000\">value = [42, 117, 1054]</text>\n</g>\n<!-- 33&#45;&gt;34 -->\n<g id=\"edge34\" class=\"edge\">\n<title>33&#45;&gt;34</title>\n<path fill=\"none\" stroke=\"#000000\" d=\"M2634.4422,-296.9465C2628.0968,-288.1475 2621.1879,-278.5672 2614.5764,-269.3993\"/>\n<polygon fill=\"#000000\" stroke=\"#000000\" points=\"2617.3011,-267.1937 2608.613,-261.13 2611.6234,-271.2882 2617.3011,-267.1937\"/>\n</g>\n<!-- 41 -->\n<g id=\"node42\" class=\"node\">\n<title>41</title>\n<polygon fill=\"none\" stroke=\"#000000\" points=\"2949.5,-261 2762.5,-261 2762.5,-193 2949.5,-193 2949.5,-261\"/>\n<text text-anchor=\"middle\" x=\"2856\" y=\"-245.8\" font-family=\"Times,serif\" font-size=\"14.00\" fill=\"#000000\">player.impact.depth &lt;= 11.977</text>\n<text text-anchor=\"middle\" x=\"2856\" y=\"-230.8\" font-family=\"Times,serif\" font-size=\"14.00\" fill=\"#000000\">gini = 0.51</text>\n<text text-anchor=\"middle\" x=\"2856\" y=\"-215.8\" font-family=\"Times,serif\" font-size=\"14.00\" fill=\"#000000\">samples = 978</text>\n<text text-anchor=\"middle\" x=\"2856\" y=\"-200.8\" font-family=\"Times,serif\" font-size=\"14.00\" fill=\"#000000\">value = [85, 270, 623]</text>\n</g>\n<!-- 33&#45;&gt;41 -->\n<g id=\"edge41\" class=\"edge\">\n<title>33&#45;&gt;41</title>\n<path fill=\"none\" stroke=\"#000000\" d=\"M2723.5052,-296.9465C2742.2984,-287.0252 2762.9734,-276.1105 2782.2883,-265.9138\"/>\n<polygon fill=\"#000000\" stroke=\"#000000\" points=\"2784.1406,-268.8938 2791.3499,-261.13 2780.8726,-262.7034 2784.1406,-268.8938\"/>\n</g>\n<!-- 35 -->\n<g id=\"node36\" class=\"node\">\n<title>35</title>\n<polygon fill=\"none\" stroke=\"#000000\" points=\"2436.5,-157 2303.5,-157 2303.5,-89 2436.5,-89 2436.5,-157\"/>\n<text text-anchor=\"middle\" x=\"2370\" y=\"-141.8\" font-family=\"Times,serif\" font-size=\"14.00\" fill=\"#000000\">speed &lt;= 22.026</text>\n<text text-anchor=\"middle\" x=\"2370\" y=\"-126.8\" font-family=\"Times,serif\" font-size=\"14.00\" fill=\"#000000\">gini = 0.473</text>\n<text text-anchor=\"middle\" x=\"2370\" y=\"-111.8\" font-family=\"Times,serif\" font-size=\"14.00\" fill=\"#000000\">samples = 209</text>\n<text text-anchor=\"middle\" x=\"2370\" y=\"-96.8\" font-family=\"Times,serif\" font-size=\"14.00\" fill=\"#000000\">value = [16, 51, 142]</text>\n</g>\n<!-- 34&#45;&gt;35 -->\n<g id=\"edge35\" class=\"edge\">\n<title>34&#45;&gt;35</title>\n<path fill=\"none\" stroke=\"#000000\" d=\"M2513.9284,-192.9465C2492.0726,-182.325 2467.8738,-170.5648 2445.6533,-159.7661\"/>\n<polygon fill=\"#000000\" stroke=\"#000000\" points=\"2447.1168,-156.5859 2436.5928,-155.3628 2444.057,-162.8818 2447.1168,-156.5859\"/>\n</g>\n<!-- 38 -->\n<g id=\"node39\" class=\"node\">\n<title>38</title>\n<polygon fill=\"none\" stroke=\"#000000\" points=\"2655.5,-157 2512.5,-157 2512.5,-89 2655.5,-89 2655.5,-157\"/>\n<text text-anchor=\"middle\" x=\"2584\" y=\"-141.8\" font-family=\"Times,serif\" font-size=\"14.00\" fill=\"#000000\">net.clearance &lt;= 0.023</text>\n<text text-anchor=\"middle\" x=\"2584\" y=\"-126.8\" font-family=\"Times,serif\" font-size=\"14.00\" fill=\"#000000\">gini = 0.17</text>\n<text text-anchor=\"middle\" x=\"2584\" y=\"-111.8\" font-family=\"Times,serif\" font-size=\"14.00\" fill=\"#000000\">samples = 1004</text>\n<text text-anchor=\"middle\" x=\"2584\" y=\"-96.8\" font-family=\"Times,serif\" font-size=\"14.00\" fill=\"#000000\">value = [26, 66, 912]</text>\n</g>\n<!-- 34&#45;&gt;38 -->\n<g id=\"edge38\" class=\"edge\">\n<title>34&#45;&gt;38</title>\n<path fill=\"none\" stroke=\"#000000\" d=\"M2584,-192.9465C2584,-184.776 2584,-175.9318 2584,-167.3697\"/>\n<polygon fill=\"#000000\" stroke=\"#000000\" points=\"2587.5001,-167.13 2584,-157.13 2580.5001,-167.13 2587.5001,-167.13\"/>\n</g>\n<!-- 36 -->\n<g id=\"node37\" class=\"node\">\n<title>36</title>\n<polygon fill=\"none\" stroke=\"#000000\" points=\"2289,-53 2183,-53 2183,0 2289,0 2289,-53\"/>\n<text text-anchor=\"middle\" x=\"2236\" y=\"-37.8\" font-family=\"Times,serif\" font-size=\"14.00\" fill=\"#000000\">gini = 0.544</text>\n<text text-anchor=\"middle\" x=\"2236\" y=\"-22.8\" font-family=\"Times,serif\" font-size=\"14.00\" fill=\"#000000\">samples = 13</text>\n<text text-anchor=\"middle\" x=\"2236\" y=\"-7.8\" font-family=\"Times,serif\" font-size=\"14.00\" fill=\"#000000\">value = [8, 3, 2]</text>\n</g>\n<!-- 35&#45;&gt;36 -->\n<g id=\"edge36\" class=\"edge\">\n<title>35&#45;&gt;36</title>\n<path fill=\"none\" stroke=\"#000000\" d=\"M2322.7566,-88.9777C2309.2783,-79.2713 2294.6285,-68.7213 2281.2709,-59.1018\"/>\n<polygon fill=\"#000000\" stroke=\"#000000\" points=\"2283.3031,-56.2522 2273.143,-53.2485 2279.2124,-61.9325 2283.3031,-56.2522\"/>\n</g>\n<!-- 37 -->\n<g id=\"node38\" class=\"node\">\n<title>37</title>\n<polygon fill=\"none\" stroke=\"#000000\" points=\"2433,-53 2307,-53 2307,0 2433,0 2433,-53\"/>\n<text text-anchor=\"middle\" x=\"2370\" y=\"-37.8\" font-family=\"Times,serif\" font-size=\"14.00\" fill=\"#000000\">gini = 0.428</text>\n<text text-anchor=\"middle\" x=\"2370\" y=\"-22.8\" font-family=\"Times,serif\" font-size=\"14.00\" fill=\"#000000\">samples = 196</text>\n<text text-anchor=\"middle\" x=\"2370\" y=\"-7.8\" font-family=\"Times,serif\" font-size=\"14.00\" fill=\"#000000\">value = [8, 48, 140]</text>\n</g>\n<!-- 35&#45;&gt;37 -->\n<g id=\"edge37\" class=\"edge\">\n<title>35&#45;&gt;37</title>\n<path fill=\"none\" stroke=\"#000000\" d=\"M2370,-88.9777C2370,-80.7364 2370,-71.887 2370,-63.5153\"/>\n<polygon fill=\"#000000\" stroke=\"#000000\" points=\"2373.5001,-63.2484 2370,-53.2485 2366.5001,-63.2485 2373.5001,-63.2484\"/>\n</g>\n<!-- 39 -->\n<g id=\"node40\" class=\"node\">\n<title>39</title>\n<polygon fill=\"none\" stroke=\"#000000\" points=\"2557,-53 2451,-53 2451,0 2557,0 2557,-53\"/>\n<text text-anchor=\"middle\" x=\"2504\" y=\"-37.8\" font-family=\"Times,serif\" font-size=\"14.00\" fill=\"#000000\">gini = 0.375</text>\n<text text-anchor=\"middle\" x=\"2504\" y=\"-22.8\" font-family=\"Times,serif\" font-size=\"14.00\" fill=\"#000000\">samples = 8</text>\n<text text-anchor=\"middle\" x=\"2504\" y=\"-7.8\" font-family=\"Times,serif\" font-size=\"14.00\" fill=\"#000000\">value = [0, 6, 2]</text>\n</g>\n<!-- 38&#45;&gt;39 -->\n<g id=\"edge39\" class=\"edge\">\n<title>38&#45;&gt;39</title>\n<path fill=\"none\" stroke=\"#000000\" d=\"M2555.795,-88.9777C2548.2796,-79.9123 2540.1542,-70.111 2532.617,-61.0192\"/>\n<polygon fill=\"#000000\" stroke=\"#000000\" points=\"2535.2516,-58.7133 2526.1749,-53.2485 2529.8626,-63.1808 2535.2516,-58.7133\"/>\n</g>\n<!-- 40 -->\n<g id=\"node41\" class=\"node\">\n<title>40</title>\n<polygon fill=\"none\" stroke=\"#000000\" points=\"2708.5,-53 2575.5,-53 2575.5,0 2708.5,0 2708.5,-53\"/>\n<text text-anchor=\"middle\" x=\"2642\" y=\"-37.8\" font-family=\"Times,serif\" font-size=\"14.00\" fill=\"#000000\">gini = 0.161</text>\n<text text-anchor=\"middle\" x=\"2642\" y=\"-22.8\" font-family=\"Times,serif\" font-size=\"14.00\" fill=\"#000000\">samples = 996</text>\n<text text-anchor=\"middle\" x=\"2642\" y=\"-7.8\" font-family=\"Times,serif\" font-size=\"14.00\" fill=\"#000000\">value = [26, 60, 910]</text>\n</g>\n<!-- 38&#45;&gt;40 -->\n<g id=\"edge40\" class=\"edge\">\n<title>38&#45;&gt;40</title>\n<path fill=\"none\" stroke=\"#000000\" d=\"M2604.4486,-88.9777C2609.7322,-80.187 2615.4316,-70.7044 2620.7548,-61.8477\"/>\n<polygon fill=\"#000000\" stroke=\"#000000\" points=\"2623.7715,-63.6225 2625.9232,-53.2485 2617.7718,-60.0165 2623.7715,-63.6225\"/>\n</g>\n<!-- 42 -->\n<g id=\"node43\" class=\"node\">\n<title>42</title>\n<polygon fill=\"none\" stroke=\"#000000\" points=\"2919,-157 2793,-157 2793,-89 2919,-89 2919,-157\"/>\n<text text-anchor=\"middle\" x=\"2856\" y=\"-141.8\" font-family=\"Times,serif\" font-size=\"14.00\" fill=\"#000000\">depth &lt;= 1.993</text>\n<text text-anchor=\"middle\" x=\"2856\" y=\"-126.8\" font-family=\"Times,serif\" font-size=\"14.00\" fill=\"#000000\">gini = 0.317</text>\n<text text-anchor=\"middle\" x=\"2856\" y=\"-111.8\" font-family=\"Times,serif\" font-size=\"14.00\" fill=\"#000000\">samples = 234</text>\n<text text-anchor=\"middle\" x=\"2856\" y=\"-96.8\" font-family=\"Times,serif\" font-size=\"14.00\" fill=\"#000000\">value = [9, 35, 190]</text>\n</g>\n<!-- 41&#45;&gt;42 -->\n<g id=\"edge42\" class=\"edge\">\n<title>41&#45;&gt;42</title>\n<path fill=\"none\" stroke=\"#000000\" d=\"M2856,-192.9465C2856,-184.776 2856,-175.9318 2856,-167.3697\"/>\n<polygon fill=\"#000000\" stroke=\"#000000\" points=\"2859.5001,-167.13 2856,-157.13 2852.5001,-167.13 2859.5001,-167.13\"/>\n</g>\n<!-- 45 -->\n<g id=\"node46\" class=\"node\">\n<title>45</title>\n<polygon fill=\"none\" stroke=\"#000000\" points=\"3141,-157 3001,-157 3001,-89 3141,-89 3141,-157\"/>\n<text text-anchor=\"middle\" x=\"3071\" y=\"-141.8\" font-family=\"Times,serif\" font-size=\"14.00\" fill=\"#000000\">speed &lt;= 32.05</text>\n<text text-anchor=\"middle\" x=\"3071\" y=\"-126.8\" font-family=\"Times,serif\" font-size=\"14.00\" fill=\"#000000\">gini = 0.551</text>\n<text text-anchor=\"middle\" x=\"3071\" y=\"-111.8\" font-family=\"Times,serif\" font-size=\"14.00\" fill=\"#000000\">samples = 744</text>\n<text text-anchor=\"middle\" x=\"3071\" y=\"-96.8\" font-family=\"Times,serif\" font-size=\"14.00\" fill=\"#000000\">value = [76, 235, 433]</text>\n</g>\n<!-- 41&#45;&gt;45 -->\n<g id=\"edge45\" class=\"edge\">\n<title>41&#45;&gt;45</title>\n<path fill=\"none\" stroke=\"#000000\" d=\"M2926.399,-192.9465C2947.295,-182.8387 2970.3226,-171.6998 2991.7405,-161.3395\"/>\n<polygon fill=\"#000000\" stroke=\"#000000\" points=\"2993.3321,-164.4576 3000.8102,-156.9523 2990.2839,-158.1561 2993.3321,-164.4576\"/>\n</g>\n<!-- 43 -->\n<g id=\"node44\" class=\"node\">\n<title>43</title>\n<polygon fill=\"none\" stroke=\"#000000\" points=\"2845.5,-53 2726.5,-53 2726.5,0 2845.5,0 2845.5,-53\"/>\n<text text-anchor=\"middle\" x=\"2786\" y=\"-37.8\" font-family=\"Times,serif\" font-size=\"14.00\" fill=\"#000000\">gini = 0.56</text>\n<text text-anchor=\"middle\" x=\"2786\" y=\"-22.8\" font-family=\"Times,serif\" font-size=\"14.00\" fill=\"#000000\">samples = 45</text>\n<text text-anchor=\"middle\" x=\"2786\" y=\"-7.8\" font-family=\"Times,serif\" font-size=\"14.00\" fill=\"#000000\">value = [3, 21, 21]</text>\n</g>\n<!-- 42&#45;&gt;43 -->\n<g id=\"edge43\" class=\"edge\">\n<title>42&#45;&gt;43</title>\n<path fill=\"none\" stroke=\"#000000\" d=\"M2831.3206,-88.9777C2824.8775,-80.0954 2817.922,-70.5067 2811.4402,-61.5711\"/>\n<polygon fill=\"#000000\" stroke=\"#000000\" points=\"2814.1079,-59.288 2805.403,-53.2485 2808.4417,-63.3982 2814.1079,-59.288\"/>\n</g>\n<!-- 44 -->\n<g id=\"node45\" class=\"node\">\n<title>44</title>\n<polygon fill=\"none\" stroke=\"#000000\" points=\"2990,-53 2864,-53 2864,0 2990,0 2990,-53\"/>\n<text text-anchor=\"middle\" x=\"2927\" y=\"-37.8\" font-family=\"Times,serif\" font-size=\"14.00\" fill=\"#000000\">gini = 0.194</text>\n<text text-anchor=\"middle\" x=\"2927\" y=\"-22.8\" font-family=\"Times,serif\" font-size=\"14.00\" fill=\"#000000\">samples = 189</text>\n<text text-anchor=\"middle\" x=\"2927\" y=\"-7.8\" font-family=\"Times,serif\" font-size=\"14.00\" fill=\"#000000\">value = [6, 14, 169]</text>\n</g>\n<!-- 42&#45;&gt;44 -->\n<g id=\"edge44\" class=\"edge\">\n<title>42&#45;&gt;44</title>\n<path fill=\"none\" stroke=\"#000000\" d=\"M2881.0319,-88.9777C2887.5671,-80.0954 2894.622,-70.5067 2901.1964,-61.5711\"/>\n<polygon fill=\"#000000\" stroke=\"#000000\" points=\"2904.2126,-63.3775 2907.3198,-53.2485 2898.5743,-59.229 2904.2126,-63.3775\"/>\n</g>\n<!-- 46 -->\n<g id=\"node47\" class=\"node\">\n<title>46</title>\n<polygon fill=\"none\" stroke=\"#000000\" points=\"3134,-53 3008,-53 3008,0 3134,0 3134,-53\"/>\n<text text-anchor=\"middle\" x=\"3071\" y=\"-37.8\" font-family=\"Times,serif\" font-size=\"14.00\" fill=\"#000000\">gini = 0.646</text>\n<text text-anchor=\"middle\" x=\"3071\" y=\"-22.8\" font-family=\"Times,serif\" font-size=\"14.00\" fill=\"#000000\">samples = 208</text>\n<text text-anchor=\"middle\" x=\"3071\" y=\"-7.8\" font-family=\"Times,serif\" font-size=\"14.00\" fill=\"#000000\">value = [45, 81, 82]</text>\n</g>\n<!-- 45&#45;&gt;46 -->\n<g id=\"edge46\" class=\"edge\">\n<title>45&#45;&gt;46</title>\n<path fill=\"none\" stroke=\"#000000\" d=\"M3071,-88.9777C3071,-80.7364 3071,-71.887 3071,-63.5153\"/>\n<polygon fill=\"#000000\" stroke=\"#000000\" points=\"3074.5001,-63.2484 3071,-53.2485 3067.5001,-63.2485 3074.5001,-63.2484\"/>\n</g>\n<!-- 47 -->\n<g id=\"node48\" class=\"node\">\n<title>47</title>\n<polygon fill=\"none\" stroke=\"#000000\" points=\"3292,-53 3152,-53 3152,0 3292,0 3292,-53\"/>\n<text text-anchor=\"middle\" x=\"3222\" y=\"-37.8\" font-family=\"Times,serif\" font-size=\"14.00\" fill=\"#000000\">gini = 0.485</text>\n<text text-anchor=\"middle\" x=\"3222\" y=\"-22.8\" font-family=\"Times,serif\" font-size=\"14.00\" fill=\"#000000\">samples = 536</text>\n<text text-anchor=\"middle\" x=\"3222\" y=\"-7.8\" font-family=\"Times,serif\" font-size=\"14.00\" fill=\"#000000\">value = [31, 154, 351]</text>\n</g>\n<!-- 45&#45;&gt;47 -->\n<g id=\"edge47\" class=\"edge\">\n<title>45&#45;&gt;47</title>\n<path fill=\"none\" stroke=\"#000000\" d=\"M3124.237,-88.9777C3139.5685,-79.1798 3156.2451,-68.5222 3171.4113,-58.8298\"/>\n<polygon fill=\"#000000\" stroke=\"#000000\" points=\"3173.6034,-61.5827 3180.1449,-53.2485 3169.8338,-55.6843 3173.6034,-61.5827\"/>\n</g>\n<!-- 49 -->\n<g id=\"node50\" class=\"node\">\n<title>49</title>\n<polygon fill=\"none\" stroke=\"#000000\" points=\"3662,-261 3516,-261 3516,-193 3662,-193 3662,-261\"/>\n<text text-anchor=\"middle\" x=\"3589\" y=\"-245.8\" font-family=\"Times,serif\" font-size=\"14.00\" fill=\"#000000\">speed &lt;= 29.513</text>\n<text text-anchor=\"middle\" x=\"3589\" y=\"-230.8\" font-family=\"Times,serif\" font-size=\"14.00\" fill=\"#000000\">gini = 0.562</text>\n<text text-anchor=\"middle\" x=\"3589\" y=\"-215.8\" font-family=\"Times,serif\" font-size=\"14.00\" fill=\"#000000\">samples = 647</text>\n<text text-anchor=\"middle\" x=\"3589\" y=\"-200.8\" font-family=\"Times,serif\" font-size=\"14.00\" fill=\"#000000\">value = [385, 152, 110]</text>\n</g>\n<!-- 48&#45;&gt;49 -->\n<g id=\"edge49\" class=\"edge\">\n<title>48&#45;&gt;49</title>\n<path fill=\"none\" stroke=\"#000000\" d=\"M3589,-296.9465C3589,-288.776 3589,-279.9318 3589,-271.3697\"/>\n<polygon fill=\"#000000\" stroke=\"#000000\" points=\"3592.5001,-271.13 3589,-261.13 3585.5001,-271.13 3592.5001,-271.13\"/>\n</g>\n<!-- 56 -->\n<g id=\"node57\" class=\"node\">\n<title>56</title>\n<polygon fill=\"none\" stroke=\"#000000\" points=\"4076.5,-261 3923.5,-261 3923.5,-193 4076.5,-193 4076.5,-261\"/>\n<text text-anchor=\"middle\" x=\"4000\" y=\"-245.8\" font-family=\"Times,serif\" font-size=\"14.00\" fill=\"#000000\">speed &lt;= 25.026</text>\n<text text-anchor=\"middle\" x=\"4000\" y=\"-230.8\" font-family=\"Times,serif\" font-size=\"14.00\" fill=\"#000000\">gini = 0.501</text>\n<text text-anchor=\"middle\" x=\"4000\" y=\"-215.8\" font-family=\"Times,serif\" font-size=\"14.00\" fill=\"#000000\">samples = 1799</text>\n<text text-anchor=\"middle\" x=\"4000\" y=\"-200.8\" font-family=\"Times,serif\" font-size=\"14.00\" fill=\"#000000\">value = [287, 1197, 315]</text>\n</g>\n<!-- 48&#45;&gt;56 -->\n<g id=\"edge56\" class=\"edge\">\n<title>48&#45;&gt;56</title>\n<path fill=\"none\" stroke=\"#000000\" d=\"M3679.7045,-308.048C3749.327,-290.4306 3844.8331,-266.2636 3913.4079,-248.9114\"/>\n<polygon fill=\"#000000\" stroke=\"#000000\" points=\"3914.488,-252.2485 3923.3238,-246.4022 3912.7708,-245.4624 3914.488,-252.2485\"/>\n</g>\n<!-- 50 -->\n<g id=\"node51\" class=\"node\">\n<title>50</title>\n<polygon fill=\"none\" stroke=\"#000000\" points=\"3583.5,-157 3424.5,-157 3424.5,-89 3583.5,-89 3583.5,-157\"/>\n<text text-anchor=\"middle\" x=\"3504\" y=\"-141.8\" font-family=\"Times,serif\" font-size=\"14.00\" fill=\"#000000\">previous.speed &lt;= 26.664</text>\n<text text-anchor=\"middle\" x=\"3504\" y=\"-126.8\" font-family=\"Times,serif\" font-size=\"14.00\" fill=\"#000000\">gini = 0.448</text>\n<text text-anchor=\"middle\" x=\"3504\" y=\"-111.8\" font-family=\"Times,serif\" font-size=\"14.00\" fill=\"#000000\">samples = 382</text>\n<text text-anchor=\"middle\" x=\"3504\" y=\"-96.8\" font-family=\"Times,serif\" font-size=\"14.00\" fill=\"#000000\">value = [273, 46, 63]</text>\n</g>\n<!-- 49&#45;&gt;50 -->\n<g id=\"edge50\" class=\"edge\">\n<title>49&#45;&gt;50</title>\n<path fill=\"none\" stroke=\"#000000\" d=\"M3561.1678,-192.9465C3553.903,-184.0578 3545.9864,-174.3716 3538.424,-165.1188\"/>\n<polygon fill=\"#000000\" stroke=\"#000000\" points=\"3540.9331,-162.658 3531.8947,-157.13 3535.513,-167.0878 3540.9331,-162.658\"/>\n</g>\n<!-- 53 -->\n<g id=\"node54\" class=\"node\">\n<title>53</title>\n<polygon fill=\"none\" stroke=\"#000000\" points=\"3744.5,-157 3601.5,-157 3601.5,-89 3744.5,-89 3744.5,-157\"/>\n<text text-anchor=\"middle\" x=\"3673\" y=\"-141.8\" font-family=\"Times,serif\" font-size=\"14.00\" fill=\"#000000\">net.clearance &lt;= 1.019</text>\n<text text-anchor=\"middle\" x=\"3673\" y=\"-126.8\" font-family=\"Times,serif\" font-size=\"14.00\" fill=\"#000000\">gini = 0.63</text>\n<text text-anchor=\"middle\" x=\"3673\" y=\"-111.8\" font-family=\"Times,serif\" font-size=\"14.00\" fill=\"#000000\">samples = 265</text>\n<text text-anchor=\"middle\" x=\"3673\" y=\"-96.8\" font-family=\"Times,serif\" font-size=\"14.00\" fill=\"#000000\">value = [112, 106, 47]</text>\n</g>\n<!-- 49&#45;&gt;53 -->\n<g id=\"edge53\" class=\"edge\">\n<title>49&#45;&gt;53</title>\n<path fill=\"none\" stroke=\"#000000\" d=\"M3616.5047,-192.9465C3623.6841,-184.0578 3631.5076,-174.3716 3638.981,-165.1188\"/>\n<polygon fill=\"#000000\" stroke=\"#000000\" points=\"3641.8729,-167.1086 3645.4335,-157.13 3636.4273,-162.7102 3641.8729,-167.1086\"/>\n</g>\n<!-- 51 -->\n<g id=\"node52\" class=\"node\">\n<title>51</title>\n<polygon fill=\"none\" stroke=\"#000000\" points=\"3429.5,-53 3310.5,-53 3310.5,0 3429.5,0 3429.5,-53\"/>\n<text text-anchor=\"middle\" x=\"3370\" y=\"-37.8\" font-family=\"Times,serif\" font-size=\"14.00\" fill=\"#000000\">gini = 0.545</text>\n<text text-anchor=\"middle\" x=\"3370\" y=\"-22.8\" font-family=\"Times,serif\" font-size=\"14.00\" fill=\"#000000\">samples = 74</text>\n<text text-anchor=\"middle\" x=\"3370\" y=\"-7.8\" font-family=\"Times,serif\" font-size=\"14.00\" fill=\"#000000\">value = [28, 5, 41]</text>\n</g>\n<!-- 50&#45;&gt;51 -->\n<g id=\"edge51\" class=\"edge\">\n<title>50&#45;&gt;51</title>\n<path fill=\"none\" stroke=\"#000000\" d=\"M3456.7566,-88.9777C3443.2783,-79.2713 3428.6285,-68.7213 3415.2709,-59.1018\"/>\n<polygon fill=\"#000000\" stroke=\"#000000\" points=\"3417.3031,-56.2522 3407.143,-53.2485 3413.2124,-61.9325 3417.3031,-56.2522\"/>\n</g>\n<!-- 52 -->\n<g id=\"node53\" class=\"node\">\n<title>52</title>\n<polygon fill=\"none\" stroke=\"#000000\" points=\"3580.5,-53 3447.5,-53 3447.5,0 3580.5,0 3580.5,-53\"/>\n<text text-anchor=\"middle\" x=\"3514\" y=\"-37.8\" font-family=\"Times,serif\" font-size=\"14.00\" fill=\"#000000\">gini = 0.344</text>\n<text text-anchor=\"middle\" x=\"3514\" y=\"-22.8\" font-family=\"Times,serif\" font-size=\"14.00\" fill=\"#000000\">samples = 308</text>\n<text text-anchor=\"middle\" x=\"3514\" y=\"-7.8\" font-family=\"Times,serif\" font-size=\"14.00\" fill=\"#000000\">value = [245, 41, 22]</text>\n</g>\n<!-- 50&#45;&gt;52 -->\n<g id=\"edge52\" class=\"edge\">\n<title>50&#45;&gt;52</title>\n<path fill=\"none\" stroke=\"#000000\" d=\"M3507.5256,-88.9777C3508.3891,-80.6449 3509.3171,-71.6903 3510.1931,-63.2364\"/>\n<polygon fill=\"#000000\" stroke=\"#000000\" points=\"3513.6787,-63.556 3511.2281,-53.2485 3506.7159,-62.8344 3513.6787,-63.556\"/>\n</g>\n<!-- 54 -->\n<g id=\"node55\" class=\"node\">\n<title>54</title>\n<polygon fill=\"none\" stroke=\"#000000\" points=\"3725,-53 3599,-53 3599,0 3725,0 3725,-53\"/>\n<text text-anchor=\"middle\" x=\"3662\" y=\"-37.8\" font-family=\"Times,serif\" font-size=\"14.00\" fill=\"#000000\">gini = 0.639</text>\n<text text-anchor=\"middle\" x=\"3662\" y=\"-22.8\" font-family=\"Times,serif\" font-size=\"14.00\" fill=\"#000000\">samples = 87</text>\n<text text-anchor=\"middle\" x=\"3662\" y=\"-7.8\" font-family=\"Times,serif\" font-size=\"14.00\" fill=\"#000000\">value = [27, 20, 40]</text>\n</g>\n<!-- 53&#45;&gt;54 -->\n<g id=\"edge54\" class=\"edge\">\n<title>53&#45;&gt;54</title>\n<path fill=\"none\" stroke=\"#000000\" d=\"M3669.1218,-88.9777C3668.172,-80.6449 3667.1512,-71.6903 3666.1876,-63.2364\"/>\n<polygon fill=\"#000000\" stroke=\"#000000\" points=\"3669.6592,-62.7877 3665.049,-53.2485 3662.7042,-63.5806 3669.6592,-62.7877\"/>\n</g>\n<!-- 55 -->\n<g id=\"node56\" class=\"node\">\n<title>55</title>\n<polygon fill=\"none\" stroke=\"#000000\" points=\"3862.5,-53 3743.5,-53 3743.5,0 3862.5,0 3862.5,-53\"/>\n<text text-anchor=\"middle\" x=\"3803\" y=\"-37.8\" font-family=\"Times,serif\" font-size=\"14.00\" fill=\"#000000\">gini = 0.537</text>\n<text text-anchor=\"middle\" x=\"3803\" y=\"-22.8\" font-family=\"Times,serif\" font-size=\"14.00\" fill=\"#000000\">samples = 178</text>\n<text text-anchor=\"middle\" x=\"3803\" y=\"-7.8\" font-family=\"Times,serif\" font-size=\"14.00\" fill=\"#000000\">value = [85, 86, 7]</text>\n</g>\n<!-- 53&#45;&gt;55 -->\n<g id=\"edge55\" class=\"edge\">\n<title>53&#45;&gt;55</title>\n<path fill=\"none\" stroke=\"#000000\" d=\"M3718.8331,-88.9777C3731.7857,-79.3629 3745.8535,-68.9203 3758.7133,-59.3743\"/>\n<polygon fill=\"#000000\" stroke=\"#000000\" points=\"3761.0224,-62.0193 3766.9658,-53.2485 3756.8501,-56.3986 3761.0224,-62.0193\"/>\n</g>\n<!-- 57 -->\n<g id=\"node58\" class=\"node\">\n<title>57</title>\n<polygon fill=\"none\" stroke=\"#000000\" points=\"4071.5,-157 3928.5,-157 3928.5,-89 4071.5,-89 4071.5,-157\"/>\n<text text-anchor=\"middle\" x=\"4000\" y=\"-141.8\" font-family=\"Times,serif\" font-size=\"14.00\" fill=\"#000000\">net.clearance &lt;= 0.961</text>\n<text text-anchor=\"middle\" x=\"4000\" y=\"-126.8\" font-family=\"Times,serif\" font-size=\"14.00\" fill=\"#000000\">gini = 0.635</text>\n<text text-anchor=\"middle\" x=\"4000\" y=\"-111.8\" font-family=\"Times,serif\" font-size=\"14.00\" fill=\"#000000\">samples = 303</text>\n<text text-anchor=\"middle\" x=\"4000\" y=\"-96.8\" font-family=\"Times,serif\" font-size=\"14.00\" fill=\"#000000\">value = [144, 88, 71]</text>\n</g>\n<!-- 56&#45;&gt;57 -->\n<g id=\"edge57\" class=\"edge\">\n<title>56&#45;&gt;57</title>\n<path fill=\"none\" stroke=\"#000000\" d=\"M4000,-192.9465C4000,-184.776 4000,-175.9318 4000,-167.3697\"/>\n<polygon fill=\"#000000\" stroke=\"#000000\" points=\"4003.5001,-167.13 4000,-157.13 3996.5001,-167.13 4003.5001,-167.13\"/>\n</g>\n<!-- 60 -->\n<g id=\"node61\" class=\"node\">\n<title>60</title>\n<polygon fill=\"none\" stroke=\"#000000\" points=\"4326,-157 4146,-157 4146,-89 4326,-89 4326,-157\"/>\n<text text-anchor=\"middle\" x=\"4236\" y=\"-141.8\" font-family=\"Times,serif\" font-size=\"14.00\" fill=\"#000000\">player.impact.depth &lt;= 8.198</text>\n<text text-anchor=\"middle\" x=\"4236\" y=\"-126.8\" font-family=\"Times,serif\" font-size=\"14.00\" fill=\"#000000\">gini = 0.415</text>\n<text text-anchor=\"middle\" x=\"4236\" y=\"-111.8\" font-family=\"Times,serif\" font-size=\"14.00\" fill=\"#000000\">samples = 1496</text>\n<text text-anchor=\"middle\" x=\"4236\" y=\"-96.8\" font-family=\"Times,serif\" font-size=\"14.00\" fill=\"#000000\">value = [143, 1109, 244]</text>\n</g>\n<!-- 56&#45;&gt;60 -->\n<g id=\"edge60\" class=\"edge\">\n<title>56&#45;&gt;60</title>\n<path fill=\"none\" stroke=\"#000000\" d=\"M4076.6224,-193.2342C4099.792,-183.0239 4125.3986,-171.7396 4149.184,-161.2579\"/>\n<polygon fill=\"#000000\" stroke=\"#000000\" points=\"4150.8104,-164.366 4158.5499,-157.1306 4147.9876,-157.9604 4150.8104,-164.366\"/>\n</g>\n<!-- 58 -->\n<g id=\"node59\" class=\"node\">\n<title>58</title>\n<polygon fill=\"none\" stroke=\"#000000\" points=\"4007,-53 3881,-53 3881,0 4007,0 4007,-53\"/>\n<text text-anchor=\"middle\" x=\"3944\" y=\"-37.8\" font-family=\"Times,serif\" font-size=\"14.00\" fill=\"#000000\">gini = 0.554</text>\n<text text-anchor=\"middle\" x=\"3944\" y=\"-22.8\" font-family=\"Times,serif\" font-size=\"14.00\" fill=\"#000000\">samples = 84</text>\n<text text-anchor=\"middle\" x=\"3944\" y=\"-7.8\" font-family=\"Times,serif\" font-size=\"14.00\" fill=\"#000000\">value = [15, 18, 51]</text>\n</g>\n<!-- 57&#45;&gt;58 -->\n<g id=\"edge58\" class=\"edge\">\n<title>57&#45;&gt;58</title>\n<path fill=\"none\" stroke=\"#000000\" d=\"M3980.2565,-88.9777C3975.2083,-80.2786 3969.7669,-70.9018 3964.6734,-62.1247\"/>\n<polygon fill=\"#000000\" stroke=\"#000000\" points=\"3967.5689,-60.1409 3959.5224,-53.2485 3961.5145,-63.6544 3967.5689,-60.1409\"/>\n</g>\n<!-- 59 -->\n<g id=\"node60\" class=\"node\">\n<title>59</title>\n<polygon fill=\"none\" stroke=\"#000000\" points=\"4158.5,-53 4025.5,-53 4025.5,0 4158.5,0 4158.5,-53\"/>\n<text text-anchor=\"middle\" x=\"4092\" y=\"-37.8\" font-family=\"Times,serif\" font-size=\"14.00\" fill=\"#000000\">gini = 0.543</text>\n<text text-anchor=\"middle\" x=\"4092\" y=\"-22.8\" font-family=\"Times,serif\" font-size=\"14.00\" fill=\"#000000\">samples = 219</text>\n<text text-anchor=\"middle\" x=\"4092\" y=\"-7.8\" font-family=\"Times,serif\" font-size=\"14.00\" fill=\"#000000\">value = [129, 70, 20]</text>\n</g>\n<!-- 57&#45;&gt;59 -->\n<g id=\"edge59\" class=\"edge\">\n<title>57&#45;&gt;59</title>\n<path fill=\"none\" stroke=\"#000000\" d=\"M4032.4358,-88.9777C4041.1657,-79.8207 4050.6115,-69.9129 4059.3529,-60.744\"/>\n<polygon fill=\"#000000\" stroke=\"#000000\" points=\"4062.1318,-62.9014 4066.4989,-53.2485 4057.0653,-58.0712 4062.1318,-62.9014\"/>\n</g>\n<!-- 61 -->\n<g id=\"node62\" class=\"node\">\n<title>61</title>\n<polygon fill=\"none\" stroke=\"#000000\" points=\"4295.5,-53 4176.5,-53 4176.5,0 4295.5,0 4295.5,-53\"/>\n<text text-anchor=\"middle\" x=\"4236\" y=\"-37.8\" font-family=\"Times,serif\" font-size=\"14.00\" fill=\"#000000\">gini = 0.361</text>\n<text text-anchor=\"middle\" x=\"4236\" y=\"-22.8\" font-family=\"Times,serif\" font-size=\"14.00\" fill=\"#000000\">samples = 61</text>\n<text text-anchor=\"middle\" x=\"4236\" y=\"-7.8\" font-family=\"Times,serif\" font-size=\"14.00\" fill=\"#000000\">value = [1, 13, 47]</text>\n</g>\n<!-- 60&#45;&gt;61 -->\n<g id=\"edge61\" class=\"edge\">\n<title>60&#45;&gt;61</title>\n<path fill=\"none\" stroke=\"#000000\" d=\"M4236,-88.9777C4236,-80.7364 4236,-71.887 4236,-63.5153\"/>\n<polygon fill=\"#000000\" stroke=\"#000000\" points=\"4239.5001,-63.2484 4236,-53.2485 4232.5001,-63.2485 4239.5001,-63.2484\"/>\n</g>\n<!-- 62 -->\n<g id=\"node63\" class=\"node\">\n<title>62</title>\n<polygon fill=\"none\" stroke=\"#000000\" points=\"4466.5,-53 4313.5,-53 4313.5,0 4466.5,0 4466.5,-53\"/>\n<text text-anchor=\"middle\" x=\"4390\" y=\"-37.8\" font-family=\"Times,serif\" font-size=\"14.00\" fill=\"#000000\">gini = 0.388</text>\n<text text-anchor=\"middle\" x=\"4390\" y=\"-22.8\" font-family=\"Times,serif\" font-size=\"14.00\" fill=\"#000000\">samples = 1435</text>\n<text text-anchor=\"middle\" x=\"4390\" y=\"-7.8\" font-family=\"Times,serif\" font-size=\"14.00\" fill=\"#000000\">value = [142, 1096, 197]</text>\n</g>\n<!-- 60&#45;&gt;62 -->\n<g id=\"edge62\" class=\"edge\">\n<title>60&#45;&gt;62</title>\n<path fill=\"none\" stroke=\"#000000\" d=\"M4290.2946,-88.9777C4305.9308,-79.1798 4322.9387,-68.5222 4338.4063,-58.8298\"/>\n<polygon fill=\"#000000\" stroke=\"#000000\" points=\"4340.698,-61.5242 4347.3133,-53.2485 4336.981,-55.5926 4340.698,-61.5242\"/>\n</g>\n</g>\n</svg>\n",
      "text/plain": [
       "<graphviz.files.Source at 0x7fe3b338fcd0>"
      ]
     },
     "metadata": {},
     "execution_count": 97
    }
   ],
   "metadata": {
    "deletable": false,
    "editable": false,
    "nbgrader": {
     "cell_type": "code",
     "checksum": "7d2a1082474680e699cdd52c55da85d7",
     "grade": false,
     "grade_id": "Part2_Code4",
     "locked": true,
     "schema_version": 3,
     "solution": false,
     "task": false
    }
   }
  },
  {
   "cell_type": "code",
   "execution_count": 98,
   "source": [
    "from matplotlib import pyplot as plt\n",
    "from pdpbox import pdp, get_dataset, info_plots\n",
    "\n",
    "X_valid_less = X_valid_selected[feature_names]\n",
    "\n",
    "X_valid_less.fillna({'speed': val1, \n",
    "                     'depth': val2},\n",
    "                      inplace = True)\n",
    "# X_less.isnull().sum()\n",
    "\n",
    "# Create the data that we will plot\n",
    "pdp_nc = pdp.pdp_isolate(model=tree_model, \n",
    "                            dataset = X_valid_less, \n",
    "                            model_features=feature_names, \n",
    "                            feature='net.clearance')\n",
    "\n",
    "# plot it\n",
    "pdp.pdp_plot(pdp_nc, 'net.clearance')\n",
    "plt.show()"
   ],
   "outputs": [
    {
     "output_type": "stream",
     "name": "stderr",
     "text": [
      "findfont: Font family ['Arial'] not found. Falling back to DejaVu Sans.\n",
      "findfont: Font family ['Arial'] not found. Falling back to DejaVu Sans.\n",
      "findfont: Font family ['Arial'] not found. Falling back to DejaVu Sans.\n",
      "findfont: Font family ['Arial'] not found. Falling back to DejaVu Sans.\n"
     ]
    },
    {
     "output_type": "display_data",
     "data": {
      "image/png": "[encoded data removed]",
      "text/plain": [
       "<Figure size 1080x1080 with 4 Axes>"
      ]
     },
     "metadata": {
      "needs_background": "light"
     }
    }
   ],
   "metadata": {
    "deletable": false,
    "editable": false,
    "nbgrader": {
     "cell_type": "code",
     "checksum": "6ac927d9bc8d80be0982e4180edcd0bd",
     "grade": false,
     "grade_id": "Part2_Code5",
     "locked": true,
     "schema_version": 3,
     "solution": false,
     "task": false
    }
   }
  },
  {
   "cell_type": "markdown",
   "source": [
    "**`net.clearance`**: Distance above the net as pointending shot passed the net.\n",
    "*Continuous (cm) distance above net. Can be negative if shot did not pass above the net.*\n",
    "    \n",
    "A few items are worth pointing out as you interpret this plot\n",
    "\n",
    "- The y axis is interpreted as change in the prediction from what it would be predicted at the baseline or leftmost value.\n",
    "- A blue shaded area indicates level of confidence\n",
    "\n",
    "From this particular graph, we see that the negative `net.clearance < 1cm` leads to forced errors. Beyond 1 cm doesnot make any difference."
   ],
   "metadata": {
    "deletable": false,
    "editable": false,
    "nbgrader": {
     "cell_type": "markdown",
     "checksum": "3c0535d1f0cb29ee6b6b3ac67de986c5",
     "grade": false,
     "grade_id": "Part2_Desc3",
     "locked": true,
     "schema_version": 3,
     "solution": false,
     "task": false
    }
   }
  },
  {
   "cell_type": "markdown",
   "source": [
    "Comparing the structure or implications of different models. Here is the same plot with a Random Forest model"
   ],
   "metadata": {
    "deletable": false,
    "editable": false,
    "nbgrader": {
     "cell_type": "markdown",
     "checksum": "821c0331554f08ac6a4d29edcebfbdfa",
     "grade": false,
     "grade_id": "Part2_Desc4",
     "locked": true,
     "schema_version": 3,
     "solution": false,
     "task": false
    }
   }
  },
  {
   "cell_type": "code",
   "execution_count": 99,
   "source": [
    "# Build Random Forest model\n",
    "rf_model = RandomForestClassifier(random_state=0).fit(X_train_less, y_train)\n",
    "\n",
    "pdp_dist = pdp.pdp_isolate(model=rf_model, \n",
    "                           dataset=X_valid_less, \n",
    "                           model_features=feature_names, \n",
    "                           feature='net.clearance')\n",
    "\n",
    "pdp.pdp_plot(pdp_dist, 'net.clearance')\n",
    "plt.show()"
   ],
   "outputs": [
    {
     "output_type": "display_data",
     "data": {
      "image/png": "[encoded data removed]",
      "text/plain": [
       "<Figure size 1080x1080 with 4 Axes>"
      ]
     },
     "metadata": {
      "needs_background": "light"
     }
    }
   ],
   "metadata": {
    "deletable": false,
    "editable": false,
    "nbgrader": {
     "cell_type": "code",
     "checksum": "67225019a20c506711af3ceb35607dc0",
     "grade": false,
     "grade_id": "Part2_Code6",
     "locked": true,
     "schema_version": 3,
     "solution": false,
     "task": false
    }
   }
  },
  {
   "cell_type": "markdown",
   "source": [
    "**2D Partial Dependence Plots**\n",
    "\n",
    "Interactions between features can be caught by 2D partial dependence plots. "
   ],
   "metadata": {
    "deletable": false,
    "editable": false,
    "nbgrader": {
     "cell_type": "markdown",
     "checksum": "8cd1586293c257b8552ea6d6697504ea",
     "grade": false,
     "grade_id": "Part2_Desc5",
     "locked": true,
     "schema_version": 3,
     "solution": false,
     "task": false
    }
   }
  },
  {
   "cell_type": "code",
   "execution_count": 100,
   "source": [
    "# Similar to previous PDP plot except we use pdp_interact instead of pdp_isolate and pdp_interact_plot instead of pdp_isolate_plot\n",
    "features_to_plot = ['net.clearance', 'speed']\n",
    "#\n",
    "inter1  =  pdp.pdp_interact(model=tree_model, \n",
    "                            dataset=X_valid_less, \n",
    "                            model_features=feature_names, \n",
    "                            features=features_to_plot)\n",
    "#\n",
    "pdp.pdp_interact_plot(pdp_interact_out=inter1, \n",
    "                      feature_names=features_to_plot, \n",
    "                      plot_type='contour',\n",
    "                      figsize = (24, 24))\n",
    "plt.show()"
   ],
   "outputs": [
    {
     "output_type": "display_data",
     "data": {
      "image/png": "[encoded data removed]",
      "text/plain": [
       "<Figure size 1728x1728 with 7 Axes>"
      ]
     },
     "metadata": {
      "needs_background": "light"
     }
    }
   ],
   "metadata": {
    "deletable": false,
    "editable": false,
    "nbgrader": {
     "cell_type": "code",
     "checksum": "39f915e54fb667859931ba03a6f2e2b4",
     "grade": false,
     "grade_id": "Part2_Code7",
     "locked": true,
     "schema_version": 3,
     "solution": false,
     "task": false
    }
   }
  },
  {
   "cell_type": "markdown",
   "source": [
    "This graph shows predictions for any combination of `net.clearance` and `speed`.\n",
    "\n",
    "For example, we see the highest predictions of `win` when the net.clearance is less than 2 cms and speed doesn't matter.\n"
   ],
   "metadata": {
    "deletable": false,
    "editable": false,
    "nbgrader": {
     "cell_type": "markdown",
     "checksum": "f08d3b9ea3e65622467c20725ef9db47",
     "grade": false,
     "grade_id": "Part2_Desc6",
     "locked": true,
     "schema_version": 3,
     "solution": false,
     "task": false
    }
   }
  },
  {
   "cell_type": "markdown",
   "source": [
    "## LightGBM\n",
    "LightGBM is a gradient boosting framework that uses tree based learning algorithms. It is designed to be distributed and efficient with the following advantages:\n",
    "- Faster training speed and higher efficiency.\n",
    "- Lower memory usage.\n",
    "- Better accuracy.\n",
    "- Support of parallel and GPU learning.\n",
    "- Capable of handling large-scale data."
   ],
   "metadata": {
    "deletable": false,
    "editable": false,
    "nbgrader": {
     "cell_type": "markdown",
     "checksum": "59bdd918882b32893b9e55fe6f9afffd",
     "grade": false,
     "grade_id": "lgbm1",
     "locked": true,
     "schema_version": 3,
     "solution": false,
     "task": false
    }
   }
  },
  {
   "cell_type": "code",
   "execution_count": 101,
   "source": [
    "%%time\n",
    "from lightgbm import LGBMClassifier\n",
    "\n",
    "\n",
    "lgbm_model = LGBMClassifier(n_estimators = 500,\n",
    "                            learning_rate = 0.05,\n",
    "                            n_jobs = 4,\n",
    "                            random_state = 2)\n",
    "\n",
    "from sklearn.metrics import recall_score\n",
    "\n",
    "# Bundle preprocessing and modeling code in a pipeline\n",
    "lgbm_pipeline = Pipeline(steps=[('preprocessor', preprocessor),\n",
    "                                ('model', lgbm_model)])\n",
    "\n",
    "# Preprocessing of training data, fit model \n",
    "lgbm_pipeline.fit(X_train_all, final_y_train)\n",
    "\n",
    "# Preprocessing of training data, get predictions\n",
    "preds_train_lgbm = lgbm_pipeline.predict(X_train_all)\n",
    "\n",
    "# Evaluate the model - training\n",
    "score_train_lgbm = recall_score(final_y_train, preds_train_lgbm, average = None)[0]\n",
    "print('Recall on training data:', score_train_lgbm)"
   ],
   "outputs": [
    {
     "output_type": "stream",
     "name": "stdout",
     "text": [
      "Recall on training data: 0.9994499449944995\n",
      "CPU times: user 13.8 s, sys: 235 ms, total: 14 s\n",
      "Wall time: 3.62 s\n"
     ]
    }
   ],
   "metadata": {
    "deletable": false,
    "editable": false,
    "nbgrader": {
     "cell_type": "code",
     "checksum": "c993564bff0c0f094907aa81979588e5",
     "grade": false,
     "grade_id": "lgbm2",
     "locked": true,
     "schema_version": 3,
     "solution": false,
     "task": false
    }
   }
  },
  {
   "cell_type": "code",
   "execution_count": 102,
   "source": [
    "test_pred = lgbm_pipeline.predict(Final_X_test)\n",
    "originals = pd.read_csv(\"./test_originals.csv\")\n",
    "originals['outcome'] = originals.outcome.astype('category')\n",
    "test_recall = recall_score(originals.outcome, test_pred, average = None)[0]\n",
    "print('Recall score :', round(test_recall,2))"
   ],
   "outputs": [
    {
     "output_type": "stream",
     "name": "stdout",
     "text": [
      "Recall score : 1.0\n"
     ]
    }
   ],
   "metadata": {
    "deletable": false,
    "editable": false,
    "nbgrader": {
     "cell_type": "code",
     "checksum": "887a4dc83326dbc4b2f3ba505b3a8436",
     "grade": false,
     "grade_id": "lgbm3",
     "locked": true,
     "schema_version": 3,
     "solution": false,
     "task": false
    }
   }
  }
 ],
 "metadata": {
  "kernelspec": {
   "display_name": "Python 3",
   "language": "python",
   "name": "python3"
  },
  "language_info": {
   "codemirror_mode": {
    "name": "ipython",
    "version": 3
   },
   "file_extension": ".py",
   "mimetype": "text/x-python",
   "name": "python",
   "nbconvert_exporter": "python",
   "pygments_lexer": "ipython3",
   "version": "3.7.6"
  },
  "toc": {
   "base_numbering": 1,
   "nav_menu": {},
   "number_sections": true,
   "sideBar": true,
   "skip_h1_title": false,
   "title_cell": "Table of Contents",
   "title_sidebar": "Contents",
   "toc_cell": false,
   "toc_position": {},
   "toc_section_display": true,
   "toc_window_display": false
  },
  "varInspector": {
   "cols": {
    "lenName": 16,
    "lenType": 16,
    "lenVar": 40
   },
   "kernels_config": {
    "python": {
     "delete_cmd_postfix": "",
     "delete_cmd_prefix": "del ",
     "library": "var_list.py",
     "varRefreshCmd": "print(var_dic_list())"
    },
    "r": {
     "delete_cmd_postfix": ") ",
     "delete_cmd_prefix": "rm(",
     "library": "var_list.r",
     "varRefreshCmd": "cat(var_dic_list()) "
    }
   },
   "types_to_exclude": [
    "module",
    "function",
    "builtin_function_or_method",
    "instance",
    "_Feature"
   ],
   "window_display": false
  }
 },
 "nbformat": 4,
 "nbformat_minor": 4
}